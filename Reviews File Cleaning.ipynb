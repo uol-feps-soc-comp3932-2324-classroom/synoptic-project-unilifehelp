{
 "cells": [
  {
   "cell_type": "code",
   "execution_count": 124,
   "metadata": {},
   "outputs": [],
   "source": [
    "import json\n",
    "import gzip\n",
    "import pandas as pd"
   ]
  },
  {
   "cell_type": "code",
   "execution_count": 125,
   "metadata": {},
   "outputs": [],
   "source": [
    "\n",
    "# Importing metadata zip file and converting it to dataframe\n",
    "\n",
    "def getDF(path):\n",
    "  # Unzip the file, load in each line as an object\n",
    "  g = gzip.open(path, 'rb')\n",
    "  g = [json.loads(l) for l in g]\n",
    "\n",
    "  # Map to a dictionary, then load in as a dataframe\n",
    "  dict_df = {i: d for (i, d) in enumerate(g)}\n",
    "  return pd.DataFrame.from_dict(dict_df, orient='index')\n",
    "\n",
    "df = getDF('All_Beauty.json.gz')"
   ]
  },
  {
   "cell_type": "code",
   "execution_count": 126,
   "metadata": {},
   "outputs": [
    {
     "name": "stdout",
     "output_type": "stream",
     "text": [
      "There are no empty reviews\n"
     ]
    }
   ],
   "source": [
    "# Find any reviews that are empty or null and remove them (there are non)\n",
    "\n",
    "df_empty_reviews_index = (df[\"reviewText\"] == \"\" )|( df[\"reviewText\"].isnull())\n",
    "print(\"There are no empty reviews\")\n",
    "\n",
    "df[df_empty_reviews_index]\n",
    "\n",
    "df = df.drop(df[ ( (df[\"reviewText\"] == \"\" ) | ( df[\"reviewText\"].isnull()) ) ].index)"
   ]
  },
  {
   "cell_type": "code",
   "execution_count": 127,
   "metadata": {},
   "outputs": [
    {
     "data": {
      "text/html": [
       "<div>\n",
       "<style scoped>\n",
       "    .dataframe tbody tr th:only-of-type {\n",
       "        vertical-align: middle;\n",
       "    }\n",
       "\n",
       "    .dataframe tbody tr th {\n",
       "        vertical-align: top;\n",
       "    }\n",
       "\n",
       "    .dataframe thead th {\n",
       "        text-align: right;\n",
       "    }\n",
       "</style>\n",
       "<table border=\"1\" class=\"dataframe\">\n",
       "  <thead>\n",
       "    <tr style=\"text-align: right;\">\n",
       "      <th></th>\n",
       "      <th>reviewText</th>\n",
       "      <th>asin</th>\n",
       "      <th>reviewerID</th>\n",
       "    </tr>\n",
       "  </thead>\n",
       "  <tbody>\n",
       "    <tr>\n",
       "      <th>count</th>\n",
       "      <td>370946</td>\n",
       "      <td>370946</td>\n",
       "      <td>370946</td>\n",
       "    </tr>\n",
       "    <tr>\n",
       "      <th>unique</th>\n",
       "      <td>319643</td>\n",
       "      <td>32571</td>\n",
       "      <td>323687</td>\n",
       "    </tr>\n",
       "    <tr>\n",
       "      <th>top</th>\n",
       "      <td>Good</td>\n",
       "      <td>B000FOI48G</td>\n",
       "      <td>A2GJX2KCUSR0EI</td>\n",
       "    </tr>\n",
       "    <tr>\n",
       "      <th>freq</th>\n",
       "      <td>802</td>\n",
       "      <td>8671</td>\n",
       "      <td>27</td>\n",
       "    </tr>\n",
       "  </tbody>\n",
       "</table>\n",
       "</div>"
      ],
      "text/plain": [
       "       reviewText        asin      reviewerID\n",
       "count      370946      370946          370946\n",
       "unique     319643       32571          323687\n",
       "top          Good  B000FOI48G  A2GJX2KCUSR0EI\n",
       "freq          802        8671              27"
      ]
     },
     "execution_count": 127,
     "metadata": {},
     "output_type": "execute_result"
    }
   ],
   "source": [
    "# Selecting only the colums that are required for analysis\n",
    "\n",
    "colums_reviewtext_asin = [\"reviewText\", \"asin\", \"reviewerID\"]\n",
    "df = df[colums_reviewtext_asin]\n",
    "\n",
    "df.describe()\n"
   ]
  },
  {
   "cell_type": "code",
   "execution_count": 128,
   "metadata": {},
   "outputs": [
    {
     "data": {
      "text/html": [
       "<div>\n",
       "<style scoped>\n",
       "    .dataframe tbody tr th:only-of-type {\n",
       "        vertical-align: middle;\n",
       "    }\n",
       "\n",
       "    .dataframe tbody tr th {\n",
       "        vertical-align: top;\n",
       "    }\n",
       "\n",
       "    .dataframe thead th {\n",
       "        text-align: right;\n",
       "    }\n",
       "</style>\n",
       "<table border=\"1\" class=\"dataframe\">\n",
       "  <thead>\n",
       "    <tr style=\"text-align: right;\">\n",
       "      <th></th>\n",
       "      <th>reviewText</th>\n",
       "      <th>asin</th>\n",
       "      <th>reviewerID</th>\n",
       "    </tr>\n",
       "  </thead>\n",
       "  <tbody>\n",
       "    <tr>\n",
       "      <th>count</th>\n",
       "      <td>319643</td>\n",
       "      <td>319643</td>\n",
       "      <td>319643</td>\n",
       "    </tr>\n",
       "    <tr>\n",
       "      <th>unique</th>\n",
       "      <td>319643</td>\n",
       "      <td>31438</td>\n",
       "      <td>299718</td>\n",
       "    </tr>\n",
       "    <tr>\n",
       "      <th>top</th>\n",
       "      <td>My  husband wanted to reading about the Negro ...</td>\n",
       "      <td>B000FOI48G</td>\n",
       "      <td>A2GJX2KCUSR0EI</td>\n",
       "    </tr>\n",
       "    <tr>\n",
       "      <th>freq</th>\n",
       "      <td>1</td>\n",
       "      <td>8268</td>\n",
       "      <td>25</td>\n",
       "    </tr>\n",
       "  </tbody>\n",
       "</table>\n",
       "</div>"
      ],
      "text/plain": [
       "                                               reviewText        asin  \\\n",
       "count                                              319643      319643   \n",
       "unique                                             319643       31438   \n",
       "top     My  husband wanted to reading about the Negro ...  B000FOI48G   \n",
       "freq                                                    1        8268   \n",
       "\n",
       "            reviewerID  \n",
       "count           319643  \n",
       "unique          299718  \n",
       "top     A2GJX2KCUSR0EI  \n",
       "freq                25  "
      ]
     },
     "execution_count": 128,
     "metadata": {},
     "output_type": "execute_result"
    }
   ],
   "source": [
    "# Remove all duplicates as they affect classifiers learning \n",
    "\n",
    "# Remove duplicate reviews\n",
    "df[df.duplicated(\"reviewText\")]\n",
    "df = df.drop_duplicates(\"reviewText\", keep=\"last\")\n",
    "df.describe() \n",
    "\n",
    "# Matches number of unique reviews now"
   ]
  },
  {
   "cell_type": "code",
   "execution_count": 129,
   "metadata": {},
   "outputs": [
    {
     "data": {
      "text/plain": [
       "count    319643.000000\n",
       "mean         42.042973\n",
       "std          59.966297\n",
       "min           1.000000\n",
       "10%           5.000000\n",
       "15%           7.000000\n",
       "20%           9.000000\n",
       "25%          11.000000\n",
       "30%          13.000000\n",
       "50%          24.000000\n",
       "75%          49.000000\n",
       "85%          73.000000\n",
       "90%          95.000000\n",
       "92%         109.000000\n",
       "95%         140.000000\n",
       "97%         181.000000\n",
       "98%         216.000000\n",
       "99%         287.000000\n",
       "max        2443.000000\n",
       "Name: reviewText, dtype: float64"
      ]
     },
     "execution_count": 129,
     "metadata": {},
     "output_type": "execute_result"
    }
   ],
   "source": [
    "# Identify range of reviews in after duplicates removal\n",
    "\n",
    "df_reviews_without_empty = df[\"reviewText\"].apply(lambda x: len(x.split()))\n",
    "\n",
    "df_reviews_without_empty.describe([0.1,0.15,0.20,0.25,0.30,0.75,0.85,0.90,0.92,0.95,0.97,0.98,0.99])\n",
    "\n",
    "# under or equal to 95% (140 words )because after it increases substantially in length only for a small portion of reviews\n",
    "# However choose 97% to help the classifier learn from larger samples\n",
    "# under or equal to 20% (11 words) because uder that too litle words for classifier to learn especially after it is cleaned "
   ]
  },
  {
   "cell_type": "code",
   "execution_count": 130,
   "metadata": {},
   "outputs": [
    {
     "data": {
      "text/plain": [
       "count                                                224502\n",
       "unique                                               224502\n",
       "top       My  husband wanted to reading about the Negro ...\n",
       "freq                                                      1\n",
       "Name: reviewText, dtype: object"
      ]
     },
     "execution_count": 130,
     "metadata": {},
     "output_type": "execute_result"
    }
   ],
   "source": [
    "# Remove reviews with more or less than xx pre-cleaned words\n",
    "\n",
    "# Split at any white space \n",
    "df[\"num_words_reviews\"] = df[\"reviewText\"].apply(lambda x: len(x.split()))\n",
    "\n",
    "# Check if under or equal to 80% words fulfils withs condition and set it\n",
    "df = df[(df[\"num_words_reviews\"] <= 181) & (df[\"num_words_reviews\"] >= 11)]\n",
    "\n",
    "df[\"reviewText\"].describe()\n",
    "\n",
    "# Reviews consisting of less than 8 word might not be usefull for classification as clasifier won't have enough information to learn from them\n",
    "# Especially after cleaning, only a few words will be left"
   ]
  },
  {
   "cell_type": "code",
   "execution_count": 131,
   "metadata": {},
   "outputs": [
    {
     "data": {
      "text/plain": [
       "count    224502.000000\n",
       "mean         40.933132\n",
       "std          28.759442\n",
       "min          11.000000\n",
       "3%           11.000000\n",
       "10%          14.000000\n",
       "50%          31.000000\n",
       "75%          54.000000\n",
       "85%          71.000000\n",
       "90%          85.000000\n",
       "95%         105.000000\n",
       "max         140.000000\n",
       "Name: reviewText, dtype: float64"
      ]
     },
     "execution_count": 131,
     "metadata": {},
     "output_type": "execute_result"
    }
   ],
   "source": [
    "# Identify range of reviews in after duplicates removal\n",
    "\n",
    "df_reviews_without_empty = df[\"reviewText\"].apply(lambda x: len(x.split()))\n",
    "\n",
    "df_reviews_without_empty.describe([0.03,0.1,0.75,0.85,0.90,0.95])"
   ]
  },
  {
   "cell_type": "code",
   "execution_count": 132,
   "metadata": {},
   "outputs": [
    {
     "name": "stderr",
     "output_type": "stream",
     "text": [
      "[nltk_data] Downloading package wordnet to\n",
      "[nltk_data]     C:\\Users\\Lenovo\\AppData\\Roaming\\nltk_data...\n",
      "[nltk_data]   Package wordnet is already up-to-date!\n"
     ]
    }
   ],
   "source": [
    "# Regrex for character removal\n",
    "import re\n",
    "\n",
    "# Spacy for spell check\n",
    "import spacy\n",
    "import contextualSpellCheck\n",
    "nlp = spacy.load(\"en_core_web_sm\")\n",
    "contextualSpellCheck.add_to_pipe(nlp)\n",
    "\n",
    "# NLTK for tokenisation and lemmatization\n",
    "import nltk\n",
    "\n",
    "from nltk.tokenize import word_tokenize\n",
    "\n",
    "from nltk.stem import WordNetLemmatizer\n",
    "lemmatizer = WordNetLemmatizer()\n",
    "\n",
    "nltk.download('wordnet')\n",
    "\n",
    "# Spacy stop word creation\n",
    "stopping_words = spacy.lang.en.stop_words.STOP_WORDS\n",
    "\n"
   ]
  },
  {
   "cell_type": "code",
   "execution_count": 133,
   "metadata": {},
   "outputs": [
    {
     "data": {
      "text/plain": [
       "1         husband wanted reading negro baseball great ad...\n",
       "3         baseball fan knew bit negro league learned lot...\n",
       "4         good story black league bought book teach high...\n",
       "7             didn t like product smudged eye throughly day\n",
       "8           simply love product appreciate print feed order\n",
       "                                ...                        \n",
       "371338    love love love time saver people like hair gre...\n",
       "371340    awful super frizzy tried comb fell completely ...\n",
       "371341    skeptical buying worried look obviously fake s...\n",
       "371343    way lighter photo mix blend color nice quality...\n",
       "371344    return instruction phone packaging color order...\n",
       "Name: clean_reviews, Length: 224502, dtype: object"
      ]
     },
     "execution_count": 133,
     "metadata": {},
     "output_type": "execute_result"
    }
   ],
   "source": [
    "# Preprocessing of reviews\n",
    "\n",
    "def preprocessing(raw_string):\n",
    "    # Remove html tags and anything inside them \n",
    "    no_html = re.sub(r'<[^>]*>','', raw_string)\n",
    "    #print(\"after removing html\", no_html)\n",
    "\n",
    "    # Make everything lowercase\n",
    "    lowercase_column = no_html.lower()\n",
    "    #print(\"lowercase\", lowercase_column)\n",
    "\n",
    "    # TODO Might not be a good idea as there are \\' inside text which might afect the cleaning \n",
    "    # Remove apostrophe to enable spell check to correct words with apostrophe\n",
    "    #without_apostrophe = re.sub(r'[\\']', '', lowercase_column)\n",
    "\n",
    "    # TODO Need to double check again where best to use this spell check\n",
    "    # \n",
    "    # .pepe for batches of text\n",
    "    #doc = list(nlp.pipe(without_apostrophe))\n",
    "\n",
    "    #spell_checked = doc._.outcome_spellCheck\n",
    "\n",
    "    # Remove all non alphabetic instances that aren't a space and replace them with a space using Regrex\n",
    "    alphabetic_column = re.sub(r'[^a-z\\s]', ' ', lowercase_column)\n",
    "    #print(\"removed numerical and punctuation\", alphabetic_column)\n",
    "\n",
    "    # Tokenize string into individual words\n",
    "    tokens = word_tokenize(alphabetic_column)\n",
    "\n",
    "    # Remove stopping words using Spacy library\n",
    "    tokens_without_stopping_words = [token for token in tokens if token not in stopping_words]\n",
    "\n",
    "    # Lemmatize tokens using nltk and join them into sentances\n",
    "    sentances_without_stop_words = ' '.join([lemmatizer.lemmatize(t) for t in tokens_without_stopping_words])\n",
    "\n",
    "    return sentances_without_stop_words\n",
    "\n",
    "df[\"clean_reviews\"] = df[\"reviewText\"].head(240000).apply(preprocessing)\n",
    "\n",
    "df[\"clean_reviews\"]"
   ]
  },
  {
   "cell_type": "code",
   "execution_count": 134,
   "metadata": {},
   "outputs": [
    {
     "name": "stdout",
     "output_type": "stream",
     "text": [
      "There are no empty reviews\n"
     ]
    }
   ],
   "source": [
    "# Find any reviews that are empty or null and remove them \n",
    "\n",
    "df = df.drop(df[ ( (df[\"clean_reviews\"] == \"\" ) | ( df[\"clean_reviews\"].isnull()) ) ].index)"
   ]
  },
  {
   "cell_type": "code",
   "execution_count": 135,
   "metadata": {},
   "outputs": [
    {
     "data": {
      "text/plain": [
       "count    224498.000000\n",
       "mean         18.081056\n",
       "std          12.557273\n",
       "min           1.000000\n",
       "3%            5.000000\n",
       "10%           6.000000\n",
       "50%          14.000000\n",
       "75%          23.000000\n",
       "85%          31.000000\n",
       "90%          37.000000\n",
       "95%          45.000000\n",
       "max         102.000000\n",
       "Name: clean_reviews, dtype: float64"
      ]
     },
     "execution_count": 135,
     "metadata": {},
     "output_type": "execute_result"
    }
   ],
   "source": [
    "# Identifying range of reviews in after cleaning\n",
    " \n",
    "df_reviews_without_empty_clean = df[\"clean_reviews\"].apply(lambda x: len(x.split()))\n",
    "\n",
    "df_reviews_without_empty_clean.describe([0.03,0.1,0.75,0.85,0.90,0.95])"
   ]
  },
  {
   "cell_type": "code",
   "execution_count": 136,
   "metadata": {},
   "outputs": [
    {
     "data": {
      "text/plain": [
       "[('t', 75874),\n",
       " ('product', 74568),\n",
       " ('great', 50822),\n",
       " ('s', 49196),\n",
       " ('like', 48324),\n",
       " ('use', 47681),\n",
       " ('love', 46624),\n",
       " ('hair', 41110),\n",
       " ('work', 39940),\n",
       " ('good', 35937),\n",
       " ('skin', 35350),\n",
       " ('time', 27825),\n",
       " ('smell', 24259),\n",
       " ('color', 21075),\n",
       " ('don', 20977),\n",
       " ('day', 20635),\n",
       " ('look', 19055),\n",
       " ('price', 19049),\n",
       " ('little', 19041),\n",
       " ('ve', 18275),\n",
       " ('year', 18229),\n",
       " ('nice', 17958),\n",
       " ('feel', 17835),\n",
       " ('m', 17537),\n",
       " ('brush', 16557),\n",
       " ('buy', 16322),\n",
       " ('bought', 16005),\n",
       " ('long', 15433),\n",
       " ('recommend', 14984),\n",
       " ('better', 14939),\n",
       " ('razor', 14258),\n",
       " ('face', 14097),\n",
       " ('doesn', 13547),\n",
       " ('got', 13391),\n",
       " ('dry', 13182),\n",
       " ('best', 13077),\n",
       " ('easy', 12591),\n",
       " ('quality', 11656),\n",
       " ('shave', 11571),\n",
       " ('week', 11395),\n",
       " ('didn', 11393),\n",
       " ('clean', 11298),\n",
       " ('way', 11273),\n",
       " ('tried', 11120),\n",
       " ('scent', 10919),\n",
       " ('soap', 10916),\n",
       " ('need', 10807),\n",
       " ('perfect', 10149),\n",
       " ('oil', 9869),\n",
       " ('find', 9822),\n",
       " ('month', 9496),\n",
       " ('blade', 9448),\n",
       " ('soft', 9397),\n",
       " ('lot', 9375),\n",
       " ('thing', 9314),\n",
       " ('definitely', 9304),\n",
       " ('bottle', 9217),\n",
       " ('make', 9083),\n",
       " ('small', 9032),\n",
       " ('pretty', 8936),\n",
       " ('bit', 8923),\n",
       " ('try', 8873),\n",
       " ('cream', 8831),\n",
       " ('come', 8642),\n",
       " ('happy', 8494),\n",
       " ('size', 8485),\n",
       " ('review', 8330),\n",
       " ('stuff', 8079),\n",
       " ('think', 8065),\n",
       " ('came', 8053),\n",
       " ('water', 8022),\n",
       " ('nail', 8013),\n",
       " ('looking', 7938),\n",
       " ('purchase', 7877),\n",
       " ('natural', 7709),\n",
       " ('help', 7705),\n",
       " ('received', 7637),\n",
       " ('fit', 7633),\n",
       " ('hand', 7572),\n",
       " ('money', 7518),\n",
       " ('light', 7506),\n",
       " ('old', 7463),\n",
       " ('new', 7430),\n",
       " ('far', 7365),\n",
       " ('amazing', 7357),\n",
       " ('different', 7200),\n",
       " ('found', 7180),\n",
       " ('shaver', 7158),\n",
       " ('smooth', 7144),\n",
       " ('item', 7135),\n",
       " ('purchased', 7130),\n",
       " ('hold', 7123),\n",
       " ('eye', 7119),\n",
       " ('worth', 7063),\n",
       " ('sure', 7054),\n",
       " ('amazon', 6879),\n",
       " ('know', 6857),\n",
       " ('want', 6827),\n",
       " ('brand', 6803),\n",
       " ('ordered', 6570)]"
      ]
     },
     "execution_count": 136,
     "metadata": {},
     "output_type": "execute_result"
    }
   ],
   "source": [
    "from collections import Counter\n",
    "Counter(\" \".join(df[\"clean_reviews\"]).split()).most_common(100)"
   ]
  }
 ],
 "metadata": {
  "kernelspec": {
   "display_name": "Python 3",
   "language": "python",
   "name": "python3"
  },
  "language_info": {
   "codemirror_mode": {
    "name": "ipython",
    "version": 3
   },
   "file_extension": ".py",
   "mimetype": "text/x-python",
   "name": "python",
   "nbconvert_exporter": "python",
   "pygments_lexer": "ipython3",
   "version": "3.11.8"
  }
 },
 "nbformat": 4,
 "nbformat_minor": 2
}
