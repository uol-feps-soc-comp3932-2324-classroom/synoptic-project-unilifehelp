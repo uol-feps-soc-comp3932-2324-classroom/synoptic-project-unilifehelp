{
 "cells": [
  {
   "cell_type": "code",
   "execution_count": 3,
   "metadata": {},
   "outputs": [
    {
     "name": "stderr",
     "output_type": "stream",
     "text": [
      "C:\\Users\\Lenovo\\AppData\\Local\\Temp\\ipykernel_21836\\2769020576.py:5: DeprecationWarning: \n",
      "Pyarrow will become a required dependency of pandas in the next major release of pandas (pandas 3.0),\n",
      "(to allow more performant data types, such as the Arrow string type, and better interoperability with other libraries)\n",
      "but was not found to be installed on your system.\n",
      "If this would cause problems for you,\n",
      "please provide us feedback at https://github.com/pandas-dev/pandas/issues/54466\n",
      "        \n",
      "  import pandas as pd\n"
     ]
    }
   ],
   "source": [
    "# Importing metadata zip file and converting it to dataframe\n",
    "\n",
    "import json\n",
    "import gzip\n",
    "import pandas as pd\n",
    "\n",
    "def getDF(path):\n",
    "  # Unzip the file, load in each line as an object\n",
    "  g = gzip.open(path, 'rb')\n",
    "  g = [json.loads(l) for l in g]\n",
    "\n",
    "  # Map to a dictionary, then load in as a dataframe\n",
    "  dict_df = {i: d for (i, d) in enumerate(g)}\n",
    "  return pd.DataFrame.from_dict(dict_df, orient='index')\n",
    "\n",
    "df = getDF('meta_ALL_Beauty.json.gz')"
   ]
  },
  {
   "cell_type": "code",
   "execution_count": 4,
   "metadata": {},
   "outputs": [
    {
     "data": {
      "text/html": [
       "<div>\n",
       "<style scoped>\n",
       "    .dataframe tbody tr th:only-of-type {\n",
       "        vertical-align: middle;\n",
       "    }\n",
       "\n",
       "    .dataframe tbody tr th {\n",
       "        vertical-align: top;\n",
       "    }\n",
       "\n",
       "    .dataframe thead th {\n",
       "        text-align: right;\n",
       "    }\n",
       "</style>\n",
       "<table border=\"1\" class=\"dataframe\">\n",
       "  <thead>\n",
       "    <tr style=\"text-align: right;\">\n",
       "      <th></th>\n",
       "      <th>description</th>\n",
       "      <th>asin</th>\n",
       "    </tr>\n",
       "  </thead>\n",
       "  <tbody>\n",
       "    <tr>\n",
       "      <th>count</th>\n",
       "      <td>32892</td>\n",
       "      <td>32892</td>\n",
       "    </tr>\n",
       "    <tr>\n",
       "      <th>unique</th>\n",
       "      <td>13751</td>\n",
       "      <td>32488</td>\n",
       "    </tr>\n",
       "    <tr>\n",
       "      <th>top</th>\n",
       "      <td>[]</td>\n",
       "      <td>B00027CDOW</td>\n",
       "    </tr>\n",
       "    <tr>\n",
       "      <th>freq</th>\n",
       "      <td>17773</td>\n",
       "      <td>2</td>\n",
       "    </tr>\n",
       "  </tbody>\n",
       "</table>\n",
       "</div>"
      ],
      "text/plain": [
       "       description        asin\n",
       "count        32892       32892\n",
       "unique       13751       32488\n",
       "top             []  B00027CDOW\n",
       "freq         17773           2"
      ]
     },
     "execution_count": 4,
     "metadata": {},
     "output_type": "execute_result"
    }
   ],
   "source": [
    "\n",
    "# Selecting only the colums that are required for analysis\n",
    "\n",
    "colums_description_asin = [\"description\",\"asin\"]\n",
    "df = df[colums_description_asin]\n",
    "\n",
    "df.describe()"
   ]
  },
  {
   "cell_type": "code",
   "execution_count": 5,
   "metadata": {},
   "outputs": [],
   "source": [
    "# Descriptions in the json file are a list of strings, converting to sting for easy cleaning\n",
    "df[\"newdescription\"] = df.description.map(lambda x: \".\".join(x).replace(\"\\n\",\"\"))\n"
   ]
  },
  {
   "cell_type": "code",
   "execution_count": 6,
   "metadata": {},
   "outputs": [],
   "source": [
    "# Remove empty descriptions\n",
    "#df = df.drop(df[df[\"newdescription\"] == \"\"].index)\n",
    "\n",
    "#print(len(df)) \n",
    "\n"
   ]
  },
  {
   "cell_type": "code",
   "execution_count": 7,
   "metadata": {},
   "outputs": [
    {
     "data": {
      "text/html": [
       "<div>\n",
       "<style scoped>\n",
       "    .dataframe tbody tr th:only-of-type {\n",
       "        vertical-align: middle;\n",
       "    }\n",
       "\n",
       "    .dataframe tbody tr th {\n",
       "        vertical-align: top;\n",
       "    }\n",
       "\n",
       "    .dataframe thead th {\n",
       "        text-align: right;\n",
       "    }\n",
       "</style>\n",
       "<table border=\"1\" class=\"dataframe\">\n",
       "  <thead>\n",
       "    <tr style=\"text-align: right;\">\n",
       "      <th></th>\n",
       "      <th>description</th>\n",
       "      <th>asin</th>\n",
       "      <th>newdescription</th>\n",
       "    </tr>\n",
       "  </thead>\n",
       "  <tbody>\n",
       "    <tr>\n",
       "      <th>0</th>\n",
       "      <td>[Loud 'N Clear Personal Sound Amplifier allows...</td>\n",
       "      <td>6546546450</td>\n",
       "      <td>Loud 'N Clear Personal Sound Amplifier allows ...</td>\n",
       "    </tr>\n",
       "    <tr>\n",
       "      <th>1</th>\n",
       "      <td>[No7 Lift &amp; Luminate Triple Action Serum 50ml ...</td>\n",
       "      <td>7178680776</td>\n",
       "      <td>No7 Lift &amp; Luminate Triple Action Serum 50ml b...</td>\n",
       "    </tr>\n",
       "    <tr>\n",
       "      <th>2</th>\n",
       "      <td>[No7 Stay Perfect Foundation now stays perfect...</td>\n",
       "      <td>7250468162</td>\n",
       "      <td>No7 Stay Perfect Foundation now stays perfect ...</td>\n",
       "    </tr>\n",
       "    <tr>\n",
       "      <th>4</th>\n",
       "      <td>[Lacto Calamine Skin Balance Daily Nourishing ...</td>\n",
       "      <td>7414204790</td>\n",
       "      <td>Lacto Calamine Skin Balance Daily Nourishing L...</td>\n",
       "    </tr>\n",
       "    <tr>\n",
       "      <th>5</th>\n",
       "      <td>[Mary Kay Satin Hands Peach Hand Cream Travel ...</td>\n",
       "      <td>7535842801</td>\n",
       "      <td>Mary Kay Satin Hands Peach Hand Cream Travel S...</td>\n",
       "    </tr>\n",
       "    <tr>\n",
       "      <th>...</th>\n",
       "      <td>...</td>\n",
       "      <td>...</td>\n",
       "      <td>...</td>\n",
       "    </tr>\n",
       "    <tr>\n",
       "      <th>32880</th>\n",
       "      <td>[Move over soap on a rope! This heavy-duty Bri...</td>\n",
       "      <td>B01HIHLFOC</td>\n",
       "      <td>Move over soap on a rope! This heavy-duty Bric...</td>\n",
       "    </tr>\n",
       "    <tr>\n",
       "      <th>32884</th>\n",
       "      <td>[Eau de parfum spray vial mini design house: y...</td>\n",
       "      <td>B01HIPOQ2M</td>\n",
       "      <td>Eau de parfum spray vial mini design house: yv...</td>\n",
       "    </tr>\n",
       "    <tr>\n",
       "      <th>32885</th>\n",
       "      <td>[Pokemon Plush 9.2 Inch / 23cm Gengar Doll Stu...</td>\n",
       "      <td>B01HIUEEHO</td>\n",
       "      <td>Pokemon Plush 9.2 Inch / 23cm Gengar Doll Stuf...</td>\n",
       "    </tr>\n",
       "    <tr>\n",
       "      <th>32886</th>\n",
       "      <td>[New and unused product. 100% authentic Benefi...</td>\n",
       "      <td>B01HIWKGOM</td>\n",
       "      <td>New and unused product. 100% authentic Benefit...</td>\n",
       "    </tr>\n",
       "    <tr>\n",
       "      <th>32890</th>\n",
       "      <td>[Brand new and high quality&lt;br&gt; Enables fast v...</td>\n",
       "      <td>B01HJASD20</td>\n",
       "      <td>Brand new and high quality&lt;br&gt; Enables fast vo...</td>\n",
       "    </tr>\n",
       "  </tbody>\n",
       "</table>\n",
       "<p>15108 rows × 3 columns</p>\n",
       "</div>"
      ],
      "text/plain": [
       "                                             description        asin  \\\n",
       "0      [Loud 'N Clear Personal Sound Amplifier allows...  6546546450   \n",
       "1      [No7 Lift & Luminate Triple Action Serum 50ml ...  7178680776   \n",
       "2      [No7 Stay Perfect Foundation now stays perfect...  7250468162   \n",
       "4      [Lacto Calamine Skin Balance Daily Nourishing ...  7414204790   \n",
       "5      [Mary Kay Satin Hands Peach Hand Cream Travel ...  7535842801   \n",
       "...                                                  ...         ...   \n",
       "32880  [Move over soap on a rope! This heavy-duty Bri...  B01HIHLFOC   \n",
       "32884  [Eau de parfum spray vial mini design house: y...  B01HIPOQ2M   \n",
       "32885  [Pokemon Plush 9.2 Inch / 23cm Gengar Doll Stu...  B01HIUEEHO   \n",
       "32886  [New and unused product. 100% authentic Benefi...  B01HIWKGOM   \n",
       "32890  [Brand new and high quality<br> Enables fast v...  B01HJASD20   \n",
       "\n",
       "                                          newdescription  \n",
       "0      Loud 'N Clear Personal Sound Amplifier allows ...  \n",
       "1      No7 Lift & Luminate Triple Action Serum 50ml b...  \n",
       "2      No7 Stay Perfect Foundation now stays perfect ...  \n",
       "4      Lacto Calamine Skin Balance Daily Nourishing L...  \n",
       "5      Mary Kay Satin Hands Peach Hand Cream Travel S...  \n",
       "...                                                  ...  \n",
       "32880  Move over soap on a rope! This heavy-duty Bric...  \n",
       "32884  Eau de parfum spray vial mini design house: yv...  \n",
       "32885  Pokemon Plush 9.2 Inch / 23cm Gengar Doll Stuf...  \n",
       "32886  New and unused product. 100% authentic Benefit...  \n",
       "32890  Brand new and high quality<br> Enables fast vo...  \n",
       "\n",
       "[15108 rows x 3 columns]"
      ]
     },
     "execution_count": 7,
     "metadata": {},
     "output_type": "execute_result"
    }
   ],
   "source": [
    "df = df.drop(df[ ( (df[\"newdescription\"] == \"\" ) | ( df[\"newdescription\"].isnull()) ) ].index)\n",
    "\n",
    "df"
   ]
  },
  {
   "cell_type": "code",
   "execution_count": 8,
   "metadata": {},
   "outputs": [
    {
     "data": {
      "text/html": [
       "<div>\n",
       "<style scoped>\n",
       "    .dataframe tbody tr th:only-of-type {\n",
       "        vertical-align: middle;\n",
       "    }\n",
       "\n",
       "    .dataframe tbody tr th {\n",
       "        vertical-align: top;\n",
       "    }\n",
       "\n",
       "    .dataframe thead th {\n",
       "        text-align: right;\n",
       "    }\n",
       "</style>\n",
       "<table border=\"1\" class=\"dataframe\">\n",
       "  <thead>\n",
       "    <tr style=\"text-align: right;\">\n",
       "      <th></th>\n",
       "      <th>description</th>\n",
       "      <th>asin</th>\n",
       "      <th>newdescription</th>\n",
       "    </tr>\n",
       "  </thead>\n",
       "  <tbody>\n",
       "    <tr>\n",
       "      <th>count</th>\n",
       "      <td>14821</td>\n",
       "      <td>14821</td>\n",
       "      <td>14821</td>\n",
       "    </tr>\n",
       "    <tr>\n",
       "      <th>unique</th>\n",
       "      <td>13749</td>\n",
       "      <td>14821</td>\n",
       "      <td>13743</td>\n",
       "    </tr>\n",
       "    <tr>\n",
       "      <th>top</th>\n",
       "      <td>[For over 60 years, Betty Dain Creations, Inc....</td>\n",
       "      <td>6546546450</td>\n",
       "      <td>For over 60 years, Betty Dain Creations, Inc. ...</td>\n",
       "    </tr>\n",
       "    <tr>\n",
       "      <th>freq</th>\n",
       "      <td>59</td>\n",
       "      <td>1</td>\n",
       "      <td>59</td>\n",
       "    </tr>\n",
       "  </tbody>\n",
       "</table>\n",
       "</div>"
      ],
      "text/plain": [
       "                                              description        asin  \\\n",
       "count                                               14821       14821   \n",
       "unique                                              13749       14821   \n",
       "top     [For over 60 years, Betty Dain Creations, Inc....  6546546450   \n",
       "freq                                                   59           1   \n",
       "\n",
       "                                           newdescription  \n",
       "count                                               14821  \n",
       "unique                                              13743  \n",
       "top     For over 60 years, Betty Dain Creations, Inc. ...  \n",
       "freq                                                   59  "
      ]
     },
     "execution_count": 8,
     "metadata": {},
     "output_type": "execute_result"
    }
   ],
   "source": [
    "# Remove duplicate asin so can have only unique products\n",
    "df[df.duplicated(\"asin\")]\n",
    "df = df.drop_duplicates(\"asin\", keep=\"last\")\n",
    "df.describe()"
   ]
  },
  {
   "cell_type": "code",
   "execution_count": 9,
   "metadata": {},
   "outputs": [
    {
     "data": {
      "text/html": [
       "<div>\n",
       "<style scoped>\n",
       "    .dataframe tbody tr th:only-of-type {\n",
       "        vertical-align: middle;\n",
       "    }\n",
       "\n",
       "    .dataframe tbody tr th {\n",
       "        vertical-align: top;\n",
       "    }\n",
       "\n",
       "    .dataframe thead th {\n",
       "        text-align: right;\n",
       "    }\n",
       "</style>\n",
       "<table border=\"1\" class=\"dataframe\">\n",
       "  <thead>\n",
       "    <tr style=\"text-align: right;\">\n",
       "      <th></th>\n",
       "      <th>description</th>\n",
       "      <th>asin</th>\n",
       "      <th>newdescription</th>\n",
       "    </tr>\n",
       "  </thead>\n",
       "  <tbody>\n",
       "    <tr>\n",
       "      <th>count</th>\n",
       "      <td>13743</td>\n",
       "      <td>13743</td>\n",
       "      <td>13743</td>\n",
       "    </tr>\n",
       "    <tr>\n",
       "      <th>unique</th>\n",
       "      <td>13743</td>\n",
       "      <td>13743</td>\n",
       "      <td>13743</td>\n",
       "    </tr>\n",
       "    <tr>\n",
       "      <th>top</th>\n",
       "      <td>[Loud 'N Clear Personal Sound Amplifier allows...</td>\n",
       "      <td>6546546450</td>\n",
       "      <td>Loud 'N Clear Personal Sound Amplifier allows ...</td>\n",
       "    </tr>\n",
       "    <tr>\n",
       "      <th>freq</th>\n",
       "      <td>1</td>\n",
       "      <td>1</td>\n",
       "      <td>1</td>\n",
       "    </tr>\n",
       "  </tbody>\n",
       "</table>\n",
       "</div>"
      ],
      "text/plain": [
       "                                              description        asin  \\\n",
       "count                                               13743       13743   \n",
       "unique                                              13743       13743   \n",
       "top     [Loud 'N Clear Personal Sound Amplifier allows...  6546546450   \n",
       "freq                                                    1           1   \n",
       "\n",
       "                                           newdescription  \n",
       "count                                               13743  \n",
       "unique                                              13743  \n",
       "top     Loud 'N Clear Personal Sound Amplifier allows ...  \n",
       "freq                                                    1  "
      ]
     },
     "execution_count": 9,
     "metadata": {},
     "output_type": "execute_result"
    }
   ],
   "source": [
    "# Remove duplicate description\n",
    "df[df.duplicated(\"newdescription\")]\n",
    "df = df.drop_duplicates(\"newdescription\", keep=\"last\")\n",
    "df.describe() "
   ]
  },
  {
   "cell_type": "code",
   "execution_count": 10,
   "metadata": {},
   "outputs": [
    {
     "data": {
      "text/html": [
       "<div>\n",
       "<style scoped>\n",
       "    .dataframe tbody tr th:only-of-type {\n",
       "        vertical-align: middle;\n",
       "    }\n",
       "\n",
       "    .dataframe tbody tr th {\n",
       "        vertical-align: top;\n",
       "    }\n",
       "\n",
       "    .dataframe thead th {\n",
       "        text-align: right;\n",
       "    }\n",
       "</style>\n",
       "<table border=\"1\" class=\"dataframe\">\n",
       "  <thead>\n",
       "    <tr style=\"text-align: right;\">\n",
       "      <th></th>\n",
       "      <th>newdescription</th>\n",
       "      <th>asin</th>\n",
       "    </tr>\n",
       "  </thead>\n",
       "  <tbody>\n",
       "    <tr>\n",
       "      <th>count</th>\n",
       "      <td>13743</td>\n",
       "      <td>13743</td>\n",
       "    </tr>\n",
       "    <tr>\n",
       "      <th>unique</th>\n",
       "      <td>13743</td>\n",
       "      <td>13743</td>\n",
       "    </tr>\n",
       "    <tr>\n",
       "      <th>top</th>\n",
       "      <td>Loud 'N Clear Personal Sound Amplifier allows ...</td>\n",
       "      <td>6546546450</td>\n",
       "    </tr>\n",
       "    <tr>\n",
       "      <th>freq</th>\n",
       "      <td>1</td>\n",
       "      <td>1</td>\n",
       "    </tr>\n",
       "  </tbody>\n",
       "</table>\n",
       "</div>"
      ],
      "text/plain": [
       "                                           newdescription        asin\n",
       "count                                               13743       13743\n",
       "unique                                              13743       13743\n",
       "top     Loud 'N Clear Personal Sound Amplifier allows ...  6546546450\n",
       "freq                                                    1           1"
      ]
     },
     "execution_count": 10,
     "metadata": {},
     "output_type": "execute_result"
    }
   ],
   "source": [
    "# Removing redundant old description column\n",
    "colums_description_asin = [\"newdescription\",\"asin\"]\n",
    "df = df[colums_description_asin]\n",
    "\n",
    "df.describe()"
   ]
  },
  {
   "cell_type": "code",
   "execution_count": 11,
   "metadata": {},
   "outputs": [
    {
     "data": {
      "text/plain": [
       "count    13743.000000\n",
       "mean        63.643600\n",
       "std         91.940065\n",
       "min          1.000000\n",
       "10%          7.000000\n",
       "15%          9.000000\n",
       "20%         11.000000\n",
       "25%         14.000000\n",
       "30%         17.000000\n",
       "50%         39.000000\n",
       "75%         79.000000\n",
       "85%        114.000000\n",
       "90%        148.000000\n",
       "92%        169.000000\n",
       "95%        217.000000\n",
       "97%        259.000000\n",
       "98%        288.000000\n",
       "99%        324.000000\n",
       "max       3224.000000\n",
       "Name: newdescription, dtype: float64"
      ]
     },
     "execution_count": 11,
     "metadata": {},
     "output_type": "execute_result"
    }
   ],
   "source": [
    "# Identify range of descriptions in after duplicates removal\n",
    "\n",
    "df_descriptions_without_empty = df[\"newdescription\"].apply(lambda x: len(x.split()))\n",
    "\n",
    "df_descriptions_without_empty.describe([0.1,0.15,0.20,0.25,0.30,0.75,0.85,0.90,0.92,0.95,0.97,0.98,0.99])\n",
    "\n",
    "# 97% upper limit of 259 (same % milit as reviews)\n",
    "# 11 words (same numbe of words as reviews) 20% because no assuption is made on how much more each one is informative as well as descriptions \n",
    "# being a smaller sample\n"
   ]
  },
  {
   "cell_type": "code",
   "execution_count": 12,
   "metadata": {},
   "outputs": [
    {
     "data": {
      "text/plain": [
       "count                                                 10710\n",
       "unique                                                10710\n",
       "top       Loud 'N Clear Personal Sound Amplifier allows ...\n",
       "freq                                                      1\n",
       "Name: newdescription, dtype: object"
      ]
     },
     "execution_count": 12,
     "metadata": {},
     "output_type": "execute_result"
    }
   ],
   "source": [
    "# Remove descriptions with more or less than xx pre-cleaned words\n",
    "\n",
    "# Split at any white space \n",
    "df[\"num_words_description\"] = df[\"newdescription\"].apply(lambda x: len(x.split()))\n",
    "\n",
    "# Check if under or equal to 80% upper limmit words fulfils withs condition and set it\n",
    "df = df[(df[\"num_words_description\"] <= 259) & (df[\"num_words_description\"] >= 11)]\n",
    "\n",
    "df[\"newdescription\"].describe()"
   ]
  },
  {
   "cell_type": "code",
   "execution_count": 13,
   "metadata": {},
   "outputs": [
    {
     "data": {
      "text/plain": [
       "count    10710.000000\n",
       "mean        65.241923\n",
       "std         53.053433\n",
       "min         11.000000\n",
       "10%         15.000000\n",
       "15%         18.000000\n",
       "20%         23.000000\n",
       "25%         27.000000\n",
       "30%         31.000000\n",
       "50%         49.000000\n",
       "75%         86.000000\n",
       "85%        115.000000\n",
       "90%        142.000000\n",
       "92%        157.000000\n",
       "95%        185.000000\n",
       "97%        211.000000\n",
       "98%        225.000000\n",
       "99%        243.000000\n",
       "max        259.000000\n",
       "Name: newdescription, dtype: float64"
      ]
     },
     "execution_count": 13,
     "metadata": {},
     "output_type": "execute_result"
    }
   ],
   "source": [
    "# Check shortening worked\n",
    "df_descriptions_without_empty = df[\"newdescription\"].apply(lambda x: len(x.split()))\n",
    "\n",
    "df_descriptions_without_empty.describe([0.1,0.15,0.20,0.25,0.30,0.75,0.85,0.90,0.92,0.95,0.97,0.98,0.99])\n"
   ]
  },
  {
   "cell_type": "code",
   "execution_count": 14,
   "metadata": {},
   "outputs": [
    {
     "name": "stderr",
     "output_type": "stream",
     "text": [
      "[nltk_data] Downloading package wordnet to\n",
      "[nltk_data]     C:\\Users\\Lenovo\\AppData\\Roaming\\nltk_data...\n",
      "[nltk_data]   Package wordnet is already up-to-date!\n"
     ]
    }
   ],
   "source": [
    "# Regrex for character removal\n",
    "import re\n",
    "\n",
    "# Spacy for spell check\n",
    "import spacy\n",
    "import contextualSpellCheck\n",
    "nlp = spacy.load(\"en_core_web_sm\")\n",
    "contextualSpellCheck.add_to_pipe(nlp)\n",
    "\n",
    "# NLTK for tokenisation and lemmatization\n",
    "import nltk\n",
    "\n",
    "from nltk.tokenize import word_tokenize\n",
    "\n",
    "from nltk.stem import WordNetLemmatizer\n",
    "lemmatizer = WordNetLemmatizer()\n",
    "\n",
    "nltk.download('wordnet')\n",
    "\n",
    "# Spacy stop word creation\n",
    "stopping_words = spacy.lang.en.stop_words.STOP_WORDS\n",
    "stopping_words_new = stopping_words\n"
   ]
  },
  {
   "cell_type": "code",
   "execution_count": 15,
   "metadata": {},
   "outputs": [
    {
     "name": "stdout",
     "output_type": "stream",
     "text": [
      "{'among', 'seeming', 'any', 'if', 'whenever', 'they', 'anyone', 'together', 'twenty', 'somewhere', 'whether', 'full', 'keep', 'been', 'wherein', 'go', 'anyway', '’ve', 'front', 'a', 'am', 'herein', 'has', 'behind', 'her', 'can', 'much', 'herself', 'were', 'afterwards', 'hundred', 'these', 'enough', 'most', 'throughout', 'here', 'fifty', 'well', 'even', 'thereby', 'somehow', 'whereafter', 'noone', 'forty', 'never', 'ever', 'hereby', 'four', 'hers', 'ten', 'seems', 'side', 'within', 'many', 'themselves', \"'d\", '‘d', 'whereas', 'just', 'nothing', 'already', 'see', 'is', 'several', 'on', 'across', 'very', 'almost', 're', 'another', 'more', 'whatever', 'through', 'still', '‘s', 'mostly', 'himself', 'this', 'nor', 'must', 'doing', 'per', 'our', 'own', 'move', 'thereupon', 'once', 'onto', 'his', 'she', 'everyone', 'n‘t', 'your', 'there', 'nevertheless', 'due', 'again', 'he', 'therefore', 'whereupon', \"'re\", 'latter', 'with', 'twelve', 'yours', '’d', 'else', 'back', 'might', 'whither', 'be', 'top', 'from', 'toward', 'it', 'now', 'what', 'become', 'fifteen', 'every', 'until', 'while', 'amongst', 'sixty', 'also', 'everything', 'that', 'quite', 'perhaps', '’ll', 'six', 'should', 'anything', 'take', 'hereafter', 'him', '‘m', 'various', 'could', 'ca', 'against', 'eight', 'other', 'whole', 'during', 'which', 'hence', 'elsewhere', 'whom', 'where', 'though', 'eleven', 'used', 'into', 'please', 'serious', 'often', 'each', 'my', 'may', 'part', 'upon', 'rather', 'indeed', 'seemed', 'therein', 'between', 'do', 'along', 'had', 'call', 'thru', 'under', 'amount', 'give', 'before', 'thus', 'became', 'thereafter', 'we', 'bottom', 'up', 'whoever', 'however', 'although', 'after', 'beside', 'beyond', 'further', 'or', 'as', 'via', 'did', '’m', 'five', 'something', 'done', 'us', 'about', 'them', 'down', \"'ll\", 'when', 'how', 'at', 'everywhere', \"n't\", 'make', 'are', 'itself', 'whose', 'such', 'nine', 'unless', 'regarding', 'using', '’s', 'few', 'for', 'least', 'wherever', 'nobody', 'becomes', 'becoming', 'ours', 'towards', \"'ve\", 'i', 'out', 'both', '‘ll', 'besides', 'and', 'moreover', 'next', 'below', 'off', 'former', 'three', 'me', 'someone', 'above', 'of', 'an', 'its', 'one', 'sometimes', 'neither', 'namely', 'put', 'yet', 'otherwise', 'to', 'name', 'than', 'so', 'their', '‘ve', 'in', 'others', 'only', 'get', 'really', 'made', 'sometime', 'two', 'because', 'the', 'last', 'will', 'empty', \"'s\", 'too', 'but', 'who', 'hereupon', 'alone', 'then', 'meanwhile', 'say', 'beforehand', 'always', 'yourself', 'seem', 'being', 'around', 'thence', 'same', 'formerly', 'whence', '‘re', 'anyhow', 'n’t', 'yourselves', 'all', 'since', 'was', 'mine', 'latterly', 'why', 'those', 'by', 'first', 'whereby', 'show', 'except', 'you', 'would', 'have', 'does', 'ourselves', 'cannot', 'anywhere', 'myself', 'nowhere', 'third', 'either', 'some', '’re', 'over', \"'m\"}\n"
     ]
    }
   ],
   "source": [
    "stopping_words_to_remove = ['without' , 'not', 'less', 'noting', 'none','no']\n",
    "for word in list(stopping_words_new):\n",
    "    if word in stopping_words_to_remove:\n",
    "        stopping_words_new.remove(word)\n",
    "print(stopping_words_new)"
   ]
  },
  {
   "cell_type": "code",
   "execution_count": 16,
   "metadata": {},
   "outputs": [],
   "source": [
    "# Preprocessing of descriptions\n",
    "\n",
    "def preprocessing(raw_string):\n",
    "    # Remove html tags and anything inside them \n",
    "    no_html = re.sub(r'<[^>]*>','', raw_string)\n",
    "    #print(\"after removing html\", no_html)\n",
    "\n",
    "\n",
    "    # Make everything lowercase\n",
    "    lowercase_column = no_html.lower()\n",
    "    #print(\"lowercase\", lowercase_column)\n",
    "\n",
    "    # Remove apostrophe to enable spell check to correct words with apostrophe\n",
    "    without_apostrophe = re.sub(r'[\\']', '', lowercase_column)\n",
    "\n",
    "    # ! Need to double check again where best to use this spell check\n",
    "    # \n",
    "    # .pipe for batches of text\n",
    "    #doc = list(nlp.pipe(without_apostrophe))\n",
    "    #doc = nlp(without_apostrophe)\n",
    "\n",
    "    #spell_checked = doc._.outcome_spellCheck\n",
    "\n",
    "    # Remove all non alphabetic instances that aren't a space and replace them with a space using Regrex\n",
    "    alphabetic_column = re.sub(r'[^a-z\\s]', ' ', without_apostrophe)\n",
    "    #print(\"removed numerical and punctuation\", alphabetic_column)\n",
    "\n",
    "    # Tokenize string into individual words\n",
    "    tokens = word_tokenize(alphabetic_column)\n",
    "\n",
    "    # Remove stopping words using Spacy library\n",
    "    tokens_without_stopping_words = [token for token in tokens if token not in stopping_words_new]\n",
    "\n",
    "    # Lemmatize tokens using nltk and join them into sentances\n",
    "    sentances_without_stop_words = ' '.join([lemmatizer.lemmatize(t) for t in tokens_without_stopping_words])\n",
    "\n",
    "    return sentances_without_stop_words\n"
   ]
  },
  {
   "cell_type": "code",
   "execution_count": 17,
   "metadata": {},
   "outputs": [
    {
     "data": {
      "text/plain": [
       "0        loud n clear personal sound amplifier allows t...\n",
       "2        no stay perfect foundation stay perfect longer...\n",
       "4        lacto calamine skin balance daily nourishing l...\n",
       "5        mary kay satin hand peach hand cream travel si...\n",
       "7        according legend brother native origin black b...\n",
       "                               ...                        \n",
       "32879                                                  NaN\n",
       "32880                                                  NaN\n",
       "32884                                                  NaN\n",
       "32885                                                  NaN\n",
       "32890                                                  NaN\n",
       "Name: clean_description, Length: 10710, dtype: object"
      ]
     },
     "execution_count": 17,
     "metadata": {},
     "output_type": "execute_result"
    }
   ],
   "source": [
    "df[\"clean_description\"] = df[\"newdescription\"].head(1000).apply(preprocessing)\n",
    "\n",
    "df[\"clean_description\"]"
   ]
  },
  {
   "cell_type": "code",
   "execution_count": 18,
   "metadata": {},
   "outputs": [],
   "source": [
    "# Remove any empty descriptions that appear because of head()\n",
    "df = df.drop(df[ ( (df[\"clean_description\"] == \"\" ) | ( df[\"clean_description\"].isnull()) ) ].index)"
   ]
  },
  {
   "cell_type": "code",
   "execution_count": 19,
   "metadata": {},
   "outputs": [
    {
     "data": {
      "text/plain": [
       "count    1000.00000\n",
       "mean       44.84100\n",
       "std        32.72263\n",
       "min         4.00000\n",
       "3%          9.00000\n",
       "10%        13.00000\n",
       "20%        19.00000\n",
       "30%        24.70000\n",
       "50%        35.00000\n",
       "75%        59.00000\n",
       "85%        76.15000\n",
       "90%        92.00000\n",
       "95%       114.00000\n",
       "max       221.00000\n",
       "Name: clean_description, dtype: float64"
      ]
     },
     "execution_count": 19,
     "metadata": {},
     "output_type": "execute_result"
    }
   ],
   "source": [
    "# Identifying range of descriptions in after cleaning\n",
    " \n",
    "df_description_without_empty_clean = df[\"clean_description\"].apply(lambda x: len(x.split()))\n",
    "#df_descriptions_without_empty.describe()\n",
    "df_description_without_empty_clean.describe([0.03,0.1,0.2,0.3,0.75,0.85,0.90,0.95])"
   ]
  },
  {
   "cell_type": "code",
   "execution_count": 20,
   "metadata": {},
   "outputs": [
    {
     "data": {
      "text/plain": [
       "[('skin', 762),\n",
       " ('hair', 372),\n",
       " ('oil', 288),\n",
       " ('use', 270),\n",
       " ('natural', 268),\n",
       " ('product', 266),\n",
       " ('body', 229),\n",
       " ('fragrance', 214),\n",
       " ('help', 207),\n",
       " ('not', 178),\n",
       " ('oz', 174),\n",
       " ('clean', 171),\n",
       " ('free', 170),\n",
       " ('formula', 162),\n",
       " ('shave', 156),\n",
       " ('dry', 151),\n",
       " ('no', 146),\n",
       " ('color', 141),\n",
       " ('smooth', 135),\n",
       " ('soft', 134),\n",
       " ('x', 130),\n",
       " ('day', 129),\n",
       " ('ingredient', 128),\n",
       " ('vitamin', 126),\n",
       " ('time', 117),\n",
       " ('blend', 115),\n",
       " ('soap', 113),\n",
       " ('long', 111),\n",
       " ('scent', 110),\n",
       " ('system', 109),\n",
       " ('size', 107),\n",
       " ('water', 107),\n",
       " ('shaving', 106),\n",
       " ('head', 105),\n",
       " ('blade', 103),\n",
       " ('extract', 102),\n",
       " ('line', 99),\n",
       " ('face', 97),\n",
       " ('easy', 97),\n",
       " ('contains', 96),\n",
       " ('nbsp', 96),\n",
       " ('organic', 94),\n",
       " ('bath', 94),\n",
       " ('provides', 93),\n",
       " ('hand', 92),\n",
       " ('designed', 92),\n",
       " ('razor', 91),\n",
       " ('cream', 89),\n",
       " ('note', 87),\n",
       " ('lip', 86),\n",
       " ('e', 84),\n",
       " ('essential', 84),\n",
       " ('woman', 82),\n",
       " ('work', 82),\n",
       " ('perfect', 81),\n",
       " ('area', 81),\n",
       " ('amp', 81),\n",
       " ('without', 80),\n",
       " ('new', 79),\n",
       " ('trimmer', 79),\n",
       " ('gel', 79),\n",
       " ('xl', 79),\n",
       " ('lotion', 77),\n",
       " ('remove', 77),\n",
       " ('minute', 75),\n",
       " ('gently', 75),\n",
       " ('wear', 74),\n",
       " ('design', 74),\n",
       " ('shaver', 74),\n",
       " ('great', 74),\n",
       " ('light', 74),\n",
       " ('feature', 73),\n",
       " ('gentle', 73),\n",
       " ('fresh', 72),\n",
       " ('moisture', 72),\n",
       " ('year', 71),\n",
       " ('leaf', 71),\n",
       " ('rich', 70),\n",
       " ('pure', 70),\n",
       " ('shine', 68),\n",
       " ('treatment', 68),\n",
       " ('brush', 68),\n",
       " ('healthy', 68),\n",
       " ('eye', 68),\n",
       " ('fit', 67),\n",
       " ('sensitive', 66),\n",
       " ('comfortable', 65),\n",
       " ('spray', 65),\n",
       " ('tea', 65),\n",
       " ('quality', 64),\n",
       " ('come', 64),\n",
       " ('apply', 63),\n",
       " ('non', 62),\n",
       " ('feel', 62),\n",
       " ('need', 61),\n",
       " ('unique', 60),\n",
       " ('way', 60),\n",
       " ('protection', 60),\n",
       " ('looking', 60),\n",
       " ('care', 60)]"
      ]
     },
     "execution_count": 20,
     "metadata": {},
     "output_type": "execute_result"
    }
   ],
   "source": [
    "from collections import Counter\n",
    "Counter(\" \".join(df[\"clean_description\"]).split()).most_common(100)"
   ]
  },
  {
   "cell_type": "code",
   "execution_count": 22,
   "metadata": {},
   "outputs": [
    {
     "name": "stdout",
     "output_type": "stream",
     "text": [
      "['biodegradable', 'reduced packaging', 'reduced', 'sustainable', 'plastic free', 'sustainably sourced', 'compostable', 'renewable', 'renewable energy', 'reusable', 'biodegradable', 'organic', 'refillable', 'refill', 'solid bar', 'recycled', 'cardboard', 'reef safe', 'reef friendly', 'oxybenzone free', 'triclosan free', 'microplastics free', 'microbeads free', 'palm oil free', 'hdpe', 'post consumer recycled plastic', 'renewable energy', 'recycling scheme', 'sustainably sourced', 'low impact', 'carbon neutral', 'carbon offsetting', 'eco', 'soil association', 'conservation', 'cosmos', 'natrue', 'rspo', 'fsc']\n",
      "['no animal testing', 'cruelty free', 'vegan', 'plant based', 'palm oil free', 'ethical', 'vegan society', 'peta', 'leaping bunny', 'fair trade', 'local', 'hand', 'small business']\n",
      "['fair trade', 'renewable energy', 'circular economy', 'locally sourced', 'local', 'small business', 'job creation']\n",
      "['non toxic', 'bio', 'organic', 'plant based', 'paraben free', 'triclosan free', 'fragrance free', 'synthetic fragrance free', 'sl free', 'phthalates free', 'nanoparticles free', 'non nano', 'formaldehyde free', 'phthalates free', 'no gmo', 'soil association', 'cosmos', 'natrue', 'usda']\n"
     ]
    }
   ],
   "source": [
    "###############################################################\n",
    "#                      Cleaning Keywords                                \n",
    "\n",
    "# TODO use fanilized list of keywords\n",
    "\n",
    "enviromental = ['biodegradable', 'reduced packaging', 'reduced', 'sustainable', 'plastic-free', 'sustainably sourced', 'compostable', 'renewable', 'renewable energy', 'reusable', 'biodegradable', 'organic', 'refillable', 'refills', 'solid bar', 'recycled', 'cardboard', 'reef safe','reef-friendly', 'oxybenzone free', 'triclosan-free', 'microplastics free', 'microbeads free', 'palm oil free', 'HDPE', 'post-consumer recycled plastic', 'renewable energy', 'recycling scheme', 'sustainably sourced', 'low-impact', 'carbon neutral', 'carbon offsetting', 'eco', 'soil association', 'conservation', 'COSMOS', 'NATRUE', 'RSPO', 'FSC']\n",
    "social = ['No animal testing', 'cruelty-free', 'vegan', 'plant-based', 'palm oil-free', 'ethical', 'vegan society', 'PETA', 'leaping bunny', 'fair trade', 'local', 'hand-made', 'small business'] \n",
    "economic = ['Fair trade', 'renewable energy', 'circular economy', 'locally sourced', 'local', 'small business', 'job creation']\n",
    "health = ['non-toxic', 'bio', 'organic', 'plant-based', 'paraben free', 'triclosan-free', 'fragrance-free', 'synthetic fragrance-free', 'SLS free', 'phthalates free','nanoparticles free', 'non-nano', 'formaldehyde free', 'phthalates free', 'no GMO', 'soil association', 'COSMOS', 'NATRUE', 'USDA']\n",
    "\n",
    "# Cleaning keywords in the same way as the corpus\n",
    "clean_enviro = list(map(preprocessing, enviromental))\n",
    "clean_social = list(map(preprocessing, social))\n",
    "clean_economic = list(map(preprocessing, economic))\n",
    "clean_health = list(map(preprocessing, health))\n",
    "\n",
    "print(clean_enviro)\n",
    "print(clean_social)\n",
    "print(clean_economic)\n",
    "print(clean_health)\n"
   ]
  },
  {
   "cell_type": "code",
   "execution_count": 37,
   "metadata": {},
   "outputs": [
    {
     "name": "stdout",
     "output_type": "stream",
     "text": [
      "['aa', 'aaa', 'abdominal', 'abduction', 'aberration', 'ability', 'able', 'abnormal', 'abnormality', 'abrasion', 'abrasive', 'absent', 'absolute', 'absolutely', 'absorb', 'absorbable', 'absorbed', 'absorbency', 'absorbent', 'absorbing', 'absorbs', 'absorption', 'abundant', 'ac', 'acacia', 'accelerated', 'accelerator', 'acceleratorsup', 'accent', 'accented', 'accentuate', 'accept', 'acceptance', 'accepted', 'access', 'accessoriesthis', 'accessory', 'accidental', 'acclaimed', 'accommodate', 'accompanied', 'accompany', 'accomplished', 'accord', 'accordes', 'according', 'account', 'accu', 'accucontrol', 'accumulation', 'accuracy', 'accurately', 'accuvac', 'ace', 'acesulfame', 'acetate', 'ache', 'achieve', 'achieved', 'achieving', 'aching', 'acid', 'acidcitric', 'aciddibasic', 'acidic', 'acidifier', 'acidity', 'acidmagnesium', 'acidmantle', 'acidsfor', 'acne', 'acneic', 'acnopur', 'acqua', 'acrylate', 'acrylic', 'act', 'acticuf', 'acting', 'action', 'activ', 'activated', 'activator', 'active', 'actively', 'activity', 'acto', 'actress', 'actual', 'actually', 'acu', 'acucontrol', 'acupucturist', 'acupuncture', 'ad', 'ada', 'adaptability', 'adaptable', 'adapted', 'adapter', 'adaptor', 'add', 'added', 'addict', 'addictive', 'adding', 'addition', 'additional', 'additionally', 'additive', 'address', 'adhere', 'adheres', 'adhesion', 'adhesive', 'adjust', 'adjustable', 'adjustble', 'adjusted', 'adjusting', 'adjustment', 'adjusts', 'administration', 'adrien', 'adult', 'advance', 'advanced', 'advantage', 'adventure', 'adverse', 'advice', 'advise', 'advised', 'aerosol', 'af', 'affect', 'affected', 'affecting', 'affectionately', 'affiliated', 'affordable', 'afirm', 'afirms', 'afraid', 'africa', 'african', 'aftershave', 'agave', 'age', 'agent', 'ager', 'aggression', 'aggressive', 'aging', 'aglow', 'ago', 'agree', 'agriculture', 'aguilera', 'aha', 'ahas', 'aid', 'aigas', 'ailment', 'aim', 'air', 'airborne', 'airbrush', 'aire', 'airplane', 'airport', 'airway', 'airy', 'ajo', 'alabama', 'alarm', 'alba', 'albolene', 'album', 'alcohol', 'alert', 'alfalfa', 'algae', 'alginate', 'aliano', 'align', 'alike', 'alive', 'alkali', 'alkaline', 'alkohol', 'allantion', 'allantoin', 'allays', 'allergenic', 'allergic', 'allergy', 'alleviated', 'alleviates', 'alliance', 'allicin', 'alligator', 'allimax', 'allow', 'allowance', 'allowing', 'allows', 'allure', 'alluring', 'almay', 'almays', 'almond', 'aloe', 'alpha', 'alter', 'altered', 'alternated', 'alternative', 'alternifolia', 'altogether', 'aluminum', 'amarige', 'amaryllis', 'amazing', 'amazingly', 'amber', 'ambient', 'ambrette', 'ambrosia', 'ambrosial', 'ambulatory', 'amenable', 'america', 'american', 'ameriglide', 'amino', 'aminogenesis', 'aminomethyl', 'ammonia', 'ammonium', 'ammunition', 'amoena', 'amorous', 'amp', 'amplifier', 'amplifies', 'amusement', 'analgesic', 'analysis', 'analyzing', 'anatomy', 'anchor', 'anchorman', 'ancient', 'andbikini', 'andcan', 'andquot', 'andrea', 'androstenol', 'androstenone', 'andsoften', 'anexcellent', 'angel', 'angle', 'angled', 'animal', 'animalsparaben', 'anise', 'anit', 'annick', 'announces', 'annoyance', 'annoying', 'annuus', 'anodized', 'anpasst', 'answer', 'anthony', 'anti', 'antibacterial', 'anticipation', 'antifungal', 'antig', 'antilles', 'antimicrobial', 'antioxidant', 'antiperspirant', 'antipruritic', 'antiseptic', 'antiseptically', 'antisepticgreat', 'anxiety', 'anytime', 'aphrodisiac', 'apma', 'apollo', 'apos', 'apothecary', 'appeal', 'appealing', 'appear', 'appearance', 'appeared', 'appearing', 'appears', 'appetite', 'apple', 'appliance', 'application', 'applicator', 'applied', 'applies', 'apply', 'applying', 'appointed', 'appreciated', 'approach', 'approached', 'appropriate', 'approved', 'approx', 'approximate', 'approximately', 'apricot', 'apron', 'aps', 'aqua', 'aqualumiere', 'aquamarine', 'aquatic', 'aqueous', 'aquis', 'aquitex', 'ar', 'araliaesculenta', 'aravos', 'arba', 'archery', 'arching', 'architect', 'architecture', 'arduous', 'area', 'areause', 'arent', 'arginaid', 'arginine', 'arguably', 'arimino', 'arm', 'armani', 'armpit', 'armrest', 'arnica', 'aroma', 'aromabenefits', 'aromarine', 'aromasensible', 'aromatheraphy', 'aromatherapy', 'aromatic', 'arousal', 'arpel', 'arranged', 'arrangement', 'arrhythmia', 'arrival', 'arrive', 'arrives', 'arriving', 'arrow', 'arsenal', 'art', 'artemia', 'arterial', 'artery', 'arthritic', 'arthritis', 'artichoke', 'article', 'artificial', 'artificially', 'artisan', 'artwork', 'asafoetida', 'ascorbate', 'ascorbyl', 'aseptic', 'aseptico', 'ash', 'asia', 'asian', 'asiatic', 'aside', 'asin', 'ask', 'asked', 'asme', 'aspartame', 'aspx', 'assembled', 'assembly', 'assist', 'assisting', 'associated', 'association', 'assorted', 'assure', 'assured', 'assures', 'assuring', 'astazanthin', 'astringent', 'asymmetrical', 'athlete', 'atmosphere', 'atmungsaktiv', 'atomic', 'atomiser', 'atomizer', 'atp', 'atrial', 'attach', 'attached', 'attachment', 'attack', 'attact', 'attention', 'attitude', 'attract', 'attractant', 'attractants', 'attracting', 'attraction', 'attractive', 'attractiveness', 'attracts', 'auf', 'aunique', 'aura', 'austin', 'australia', 'australian', 'autenticnim', 'authentic', 'authenticity', 'author', 'authorized', 'auto', 'autoimmune', 'automatic', 'automatically', 'av', 'available', 'avalon', 'avec', 'aveda', 'avena', 'average', 'avocado', 'avoid', 'avoiding', 'avon', 'awaken', 'awakens', 'award', 'awarded', 'aware', 'away', 'aways', 'awesome', 'awhile', 'axe', 'ayate', 'ayur', 'ayurevedic', 'ayurvedic', 'az', 'azelaic', 'azulene', 'azzaro', 'ba', 'babassu', 'baby', 'bacid', 'backache', 'backbone', 'backdrop', 'backed', 'backing', 'backpack', 'bacteria', 'bacterial', 'bacteriostatic', 'bad', 'badedas', 'badge', 'badger', 'bag', 'bake', 'baked', 'bakes', 'baking', 'balance', 'balanced', 'balancing', 'bale', 'ball', 'balm', 'balmain', 'balmproduct', 'bamboo', 'band', 'bandage', 'bang', 'banish', 'bank', 'bar', 'barba', 'barbadensis', 'barbara', 'barber', 'barberry', 'bare', 'baritone', 'bark', 'barproduct', 'barrel', 'barrette', 'barrier', 'basalt', 'base', 'based', 'baseline', 'basic', 'basicslightweightsoothessoftensnourishesfirmsfirming', 'basil', 'basin', 'basis', 'basket', 'basketball', 'bass', 'basswood', 'batched', 'bath', 'bather', 'bathing', 'bathroom', 'bathtime', 'bathwater', 'battery', 'battle', 'bay', 'bayberry', 'bb', 'bbready', 'beach', 'bead', 'bean', 'beard', 'bearing', 'beautiful', 'beautifully', 'beautify', 'beauty', 'beautyofasite', 'beckons', 'bed', 'bedard', 'bedding', 'bedtime', 'bee', 'beeswax', 'begin', 'beginner', 'beginning', 'begs', 'begun', 'beige', 'beinol', 'belief', 'believe', 'bell', 'bellow', 'belly', 'belmont', 'belson', 'belt', 'belvedere', 'bench', 'benchmark', 'benefiance', 'beneficial', 'benefit', 'benefiting', 'benign', 'bent', 'bentonite', 'benzalkonium', 'benzoate', 'benzocaine', 'benzoic', 'benzoin', 'benzophenone', 'benzoyl', 'benzyl', 'bergamont', 'bergamot', 'berlin', 'berry', 'besonders', 'best', 'bestseller', 'besttigt', 'beta', 'betaine', 'better', 'beverly', 'bewegungen', 'bezel', 'bhringaraj', 'bhringarajs', 'bht', 'bi', 'bia', 'bib', 'big', 'bigger', 'biggest', 'bijan', 'bikini', 'bilberry', 'billing', 'billion', 'biloba', 'bin', 'binder', 'bio', 'bioactive', 'bioactives', 'bioavailability', 'biodegradable', 'biodynamic', 'biological', 'biotherm', 'biotin', 'birch', 'birchwood', 'birth', 'birthday', 'birthing', 'birthstone', 'bisabolol', 'bismol', 'bismuth', 'bit', 'bite', 'biting', 'bititem', 'bitter', 'bitterness', 'black', 'blackberrynote', 'blackcurrant', 'blackhead', 'bladder', 'blade', 'blank', 'blast', 'blazing', 'bleached', 'bleed', 'bleeding', 'bleeds', 'blemish', 'blend', 'blended', 'blending', 'blendswith', 'blessing', 'blind', 'blink', 'block', 'blockage', 'blocking', 'blonde', 'blood', 'bloodstream', 'bloom', 'blooming', 'blossom', 'blow', 'blower', 'blown', 'blowpipe', 'blue', 'blueberry', 'bluerush', 'blush', 'blv', 'boar', 'board', 'boat', 'boater', 'bob', 'bobble', 'bobblehead', 'boby', 'body', 'bodyblush', 'bodylift', 'bodyproduct', 'bodyspray', 'bodywash', 'bogart', 'bois', 'bold', 'bomb', 'bond', 'bonded', 'bonding', 'bone', 'bonus', 'boo', 'boogie', 'book', 'bookletplease', 'boost', 'booster', 'boot', 'borage', 'borate', 'borax', 'boring', 'bos', 'boston', 'botanical', 'botanically', 'bottle', 'bottled', 'bottleincludes', 'bottlemade', 'bottomrollers', 'bouffant', 'boule', 'bounce', 'bouncy', 'bound', 'bountiful', 'bouquet', 'bourbon', 'bourjois', 'bowel', 'bowl', 'box', 'boxed', 'boxfashion', 'boy', 'br', 'bra', 'braa', 'brace', 'brack', 'bradford', 'braided', 'brain', 'branch', 'brand', 'brandt', 'brass', 'brassiness', 'braun', 'bravo', 'brazilian', 'bread', 'break', 'breakage', 'breaking', 'breakout', 'breakrooms', 'breakthrough', 'breast', 'breastfeeding', 'breath', 'breathable', 'breathing', 'breathtaking', 'breathtakingly', 'breeding', 'breeze', 'bridge', 'brief', 'briefcase', 'bright', 'brighten', 'brightened', 'brightening', 'brightens', 'brighter', 'brightness', 'brilliance', 'brilliant', 'brim', 'bring', 'bringing', 'brings', 'bristle', 'brittle', 'broad', 'broaden', 'bromhidrosis', 'bronchial', 'bronze', 'bronzer', 'bronzers', 'bronzing', 'brother', 'brought', 'brow', 'brown', 'bruise', 'bruised', 'brush', 'brushhead', 'brushing', 'bubble', 'bubbly', 'buckwheat', 'bud', 'buddy', 'buff', 'buffalo', 'buffing', 'bugey', 'build', 'buildable', 'builder', 'building', 'buildup', 'built', 'bulb', 'bulgari', 'bulk', 'bullet', 'bumblebee', 'bump', 'bumper', 'bundle', 'bundled', 'buoyant', 'burdock', 'burn', 'burned', 'burner', 'burning', 'burst', 'burt', 'bush', 'bushing', 'business', 'bust', 'buster', 'busy', 'butane', 'butplease', 'butter', 'butterfly', 'buttermoisturizing', 'buttock', 'button', 'butylparaben', 'buy', 'buying', 'buzzing', 'bvlgari', 'bvlgaris', 'bwc', 'byproduct', 'bzk', 'cable', 'cacia', 'caddy', 'caffeine', 'cage', 'cajeput', 'cake', 'calamine', 'calcium', 'calculated', 'calculator', 'caleche', 'calendula', 'calibrated', 'calibration', 'california', 'calla', 'called', 'calling', 'calloused', 'callouses', 'callus', 'calm', 'calmer', 'calming', 'calmness', 'calorie', 'camellia', 'camera', 'camillia', 'camisole', 'camp', 'camphor', 'canada', 'cancer', 'candelilla', 'candle', 'cane', 'canister', 'canker', 'cannon', 'canopy', 'canvas', 'cap', 'capability', 'capacity', 'cape', 'capful', 'capillary', 'caprictriglyceride', 'caprylic', 'capsicum', 'capsule', 'capsuleproduct', 'captivating', 'capture', 'captured', 'capturing', 'car', 'caract', 'caramel', 'carat', 'caratteristiche', 'carbamide', 'carbide', 'carbohydrate', 'carbon', 'carbonatewarnings', 'carboxy', 'card', 'cardamom', 'care', 'career', 'careful', 'carefully', 'caregiver', 'careproduct', 'caress', 'caribbean', 'caridad', 'carminative', 'carmine', 'carmol', 'carnation', 'carnauba', 'carnelian', 'carolina', 'carotene', 'carrect', 'carried', 'carrot', 'carry', 'carrying', 'carrythis', 'cartbomer', 'cartier', 'carton', 'cartridge', 'cascara', 'case', 'cashmere', 'casing', 'cassia', 'cassis', 'castellani', 'castile', 'castor', 'casual', 'catalog', 'catch', 'category', 'catheter', 'catheterization', 'cationic', 'catridges', 'cattle', 'cause', 'caused', 'causing', 'caution', 'cavity', 'cbr', 'cc', 'cd', 'ce', 'cedar', 'cedarwood', 'celazome', 'celestial', 'cell', 'cellular', 'cellulite', 'cellulose', 'cellulosethis', 'cement', 'centella', 'center', 'central', 'centrifugal', 'century', 'cera', 'ceramic', 'ceramide', 'ceremony', 'certain', 'certification', 'certified', 'cetyl', 'cfc', 'chafed', 'chafing', 'chain', 'chair', 'chakras', 'challenge', 'challenging', 'chamber', 'chamomile', 'chamomilla', 'champagne', 'champaign', 'champu', 'chance', 'chanel', 'change', 'changed', 'changing', 'channel', 'chanter', 'chaparral', 'chapped', 'chapping', 'chapter', 'character', 'characteristic', 'charcoal', 'charge', 'charged', 'charging', 'charing', 'charity', 'charm', 'charming', 'chart', 'che', 'cheap', 'check', 'checkout', 'cheek', 'chef', 'chemical', 'chemically', 'chemicalsget', 'chemist', 'chemistry', 'chemotherapy', 'chemtronics', 'cherished', 'cherry', 'chest', 'chestnut', 'chew', 'chewing', 'chi', 'chic', 'chicken', 'chiefly', 'child', 'childbirth', 'childhood', 'childrens', 'chime', 'chin', 'china', 'chinensis', 'chinese', 'chip', 'chisel', 'chitosan', 'chloracetamide', 'chlorella', 'chloride', 'chlorine', 'chocolat', 'chocolate', 'choice', 'cholesterol', 'choose', 'chooses', 'chopping', 'chosen', 'chris', 'christian', 'christina', 'christopher', 'chrome', 'chromium', 'chronic', 'chrysanthemum', 'chrysin', 'chumming', 'chung', 'ci', 'cicles', 'cide', 'cigarette', 'cilantro', 'cinammon', 'cinnamon', 'cipe', 'circle', 'circular', 'circulation', 'circumstance', 'citrate', 'citre', 'citric', 'citron', 'citrus', 'cl', 'claiborne', 'claim', 'claiming', 'clamp', 'clarifying', 'clarins', 'clarity', 'clary', 'clarysage', 'clasp', 'classers', 'classic', 'classically', 'classified', 'claw', 'clay', 'clean', 'cleaned', 'cleaner', 'cleanest', 'cleaning', 'cleanly', 'cleanse', 'cleansed', 'cleanser', 'cleanserproduct', 'cleansesulfate', 'cleanshave', 'cleansing', 'cleanup', 'clear', 'clearance', 'clearasil', 'clearer', 'clearing', 'clearly', 'cleaver', 'clenair', 'clever', 'click', 'client', 'climate', 'climax', 'cling', 'clinical', 'clinically', 'clinique', 'clip', 'clipper', 'clnsr', 'clock', 'clog', 'clogged', 'clogging', 'close', 'closely', 'closeness', 'closer', 'closest', 'closet', 'closure', 'cloth', 'clothes', 'clothing', 'cloud', 'cloudiness', 'clove', 'clovebud', 'clover', 'clown', 'clownies', 'club', 'clubman', 'clump', 'clumping', 'clycerin', 'cm', 'coach', 'coal', 'coarse', 'coarsest', 'coast', 'coat', 'coated', 'coating', 'cobre', 'coca', 'cocamide', 'cocamidopropyl', 'cocamidopropylbetaine', 'cocktail', 'coco', 'cocoa', 'cocoamidopropyl', 'cocoate', 'coconut', 'cocount', 'cod', 'code', 'coded', 'coding', 'coffee', 'cohesive', 'coil', 'coiled', 'cold', 'colgate', 'collagen', 'collapsing', 'collar', 'collectible', 'collection', 'colloidal', 'colloidalsodium', 'cologne', 'colonoscopy', 'color', 'colorant', 'colorants', 'coloration', 'colorbodyblush', 'colored', 'colorfragrance', 'colorful', 'coloring', 'colorless', 'colorsilk', 'colorwont', 'colour', 'colourants', 'coloured', 'com', 'comb', 'combat', 'combination', 'combine', 'combined', 'combing', 'combining', 'combo', 'combustible', 'come', 'comedogenic', 'comf', 'comfort', 'comfortable', 'comfortably', 'comfortech', 'comfortglide', 'comforting', 'comfortip', 'comfrey', 'comfy', 'coming', 'commade', 'command', 'comment', 'commercial', 'commitment', 'committed', 'commode', 'common', 'commonly', 'commonwealth', 'communicate', 'communication', 'communis', 'comp', 'compact', 'companion', 'company', 'compare', 'compared', 'compartment', 'compatible', 'compiled', 'complaint', 'complement', 'complementary', 'complete', 'completely', 'completing', 'completion', 'complex', 'complexe', 'complexion', 'complexionproduct', 'complexity', 'compliant', 'complies', 'compliment', 'complimenting', 'component', 'composed', 'composition', 'compound', 'comprehensive', 'comprise', 'comprised', 'comprises', 'comprising', 'compromised', 'compromising', 'computer', 'conair', 'concave', 'concealer', 'concealers', 'concentrate', 'concentrated', 'concentration', 'concentrator', 'concept', 'concern', 'concert', 'concise', 'concluded', 'concoction', 'concord', 'concreta', 'condiment', 'condition', 'conditioned', 'conditioner', 'conditionerstep', 'conditioning', 'condom', 'conducted', 'conductive', 'cone', 'coneflower', 'confezione', 'confidence', 'confidencesafe', 'confident', 'confidential', 'confidently', 'confining', 'conform', 'conformerproduct', 'conforming', 'congeal', 'congealing', 'congested', 'congestion', 'conjunction', 'connecting', 'connector', 'connectorplastic', 'conquer', 'conscious', 'consciousness', 'consecutive', 'conservation', 'consider', 'considered', 'consist', 'consistency', 'consistent', 'consistently', 'consists', 'constantly', 'constipation', 'constituent', 'construct', 'constructed', 'construction', 'consult', 'consultation', 'consumer', 'consuming', 'contact', 'contain', 'contained', 'container', 'containing', 'contains', 'contamination', 'contemporary', 'content', 'continent', 'continental', 'continually', 'continue', 'continued', 'continues', 'continuing', 'continuous', 'continuously', 'contour', 'contoured', 'contouring', 'contr', 'contra', 'contraceptive', 'contradiction', 'contrast', 'contribute', 'contribution', 'control', 'controllable', 'controlled', 'controller', 'controlling', 'convatec', 'convenience', 'convenienceproduct', 'convenient', 'conveniently', 'conventional', 'convert', 'convey', 'convinced', 'coochy', 'cook', 'cookbook', 'cooked', 'cooking', 'cool', 'coolant', 'cooler', 'cooling', 'coolness', 'coordinating', 'copied', 'copolymer', 'copolyol', 'copper', 'coppertone', 'copra', 'copulins', 'copy', 'copycat', 'cord', 'corded', 'cordless', 'cordura', 'corduroy', 'core', 'coriander', 'corn', 'corner', 'corneum', 'cornflower', 'cornmint', 'corporation', 'corporis', 'correct', 'correction', 'correctors', 'corrects', 'correspondence', 'corrosion', 'corrupt', 'cosmetic', 'cosmetically', 'cost', 'costly', 'costume', 'cotton', 'coty', 'cough', 'coulter', 'count', 'counter', 'counteract', 'countless', 'country', 'couple', 'coupon', 'course', 'coveka', 'cover', 'coverage', 'coverageproduct', 'covered', 'covering', 'cow', 'cozy', 'cr', 'cracked', 'cracking', 'crafted', 'craftsmanship', 'cranberry', 'craving', 'craze', 'crazy', 'cream', 'creamy', 'crease', 'creasing', 'create', 'created', 'creates', 'creatine', 'creating', 'creation', 'creative', 'creativity', 'credit', 'creek', 'crema', 'cremas', 'creme', 'cremeingredients', 'creomulsion', 'crepey', 'crest', 'crew', 'crisp', 'critical', 'crme', 'crop', 'crow', 'crown', 'cruelty', 'crunchy', 'cruris', 'crushed', 'crusty', 'cruzer', 'crystal', 'crystalline', 'csa', 'ct', 'cuba', 'cubic', 'cuccio', 'cucumber', 'cudesne', 'cult', 'cultivated', 'cultivation', 'culture', 'cup', 'cupping', 'cure', 'curl', 'curled', 'curling', 'curly', 'currant', 'currency', 'current', 'currently', 'curve', 'curved', 'cush', 'cushion', 'cushioned', 'cushioning', 'custom', 'customer', 'customization', 'customizing', 'cut', 'cute', 'cuthbert', 'cuticle', 'cutlerysub', 'cutout', 'cutter', 'cutterblock', 'cutting', 'cyberskin', 'cycle', 'cycling', 'cyclomethicone', 'cyclomethione', 'cyclopentasiloxane', 'cylinder', 'cynergytk', 'cypress', 'da', 'dab', 'daily', 'dairy', 'damage', 'damageand', 'damaged', 'damaging', 'damask', 'damp', 'dampened', 'dampness', 'dana', 'dandelion', 'dandruff', 'danger', 'dangerous', 'dans', 'dany', 'daphn', 'dare', 'dark', 'darken', 'darker', 'darkest', 'darling', 'dart', 'dash', 'data', 'date', 'dating', 'dauber', 'day', 'daysperformance', 'daytime', 'db', 'dd', 'dea', 'dead', 'deaden', 'deal', 'death', 'debris', 'decade', 'decadent', 'decaf', 'decay', 'deceiving', 'december', 'decide', 'decidedly', 'decides', 'decline', 'decolletage', 'decor', 'decorated', 'decorative', 'decrease', 'decreased', 'decyl', 'dedicated', 'dedication', 'deed', 'deep', 'deepens', 'deeper', 'deeply', 'defect', 'defective', 'defend', 'defending', 'defense', 'deficiency', 'defies', 'define', 'definerproduct', 'defines', 'defining', 'definition', 'deflector', 'defluxer', 'deformity', 'defying', 'degree', 'dehydrated', 'dehydration', 'deionized', 'del', 'delayed', 'delectable', 'delicacy', 'delicate', 'delicately', 'delicious', 'deliciously', 'delight', 'delightful', 'deliver', 'delivered', 'delivering', 'delivers', 'delivery', 'deluxe', 'demaagd', 'demanding', 'democratic', 'den', 'denese', 'denney', 'dental', 'dentist', 'dentotape', 'denture', 'deo', 'deodorant', 'deodoranta', 'deodorantlong', 'deodorizes', 'department', 'dependent', 'depending', 'depilatory', 'depleted', 'depleting', 'deployment', 'depress', 'depression', 'depth', 'der', 'derivative', 'derived', 'derma', 'dermacerin', 'dermal', 'dermalologist', 'dermarest', 'dermaseptic', 'dermatitis', 'dermatological', 'dermatologisch', 'dermatologist', 'dermatoscope', 'dermis', 'dermlite', 'descendent', 'described', 'description', 'descriptionready', 'descriptionthe', 'desensitizes', 'desert', 'deserves', 'deserving', 'desiccation', 'design', 'designated', 'designed', 'designer', 'desire', 'desired', 'desk', 'despite', 'dessert', 'dessertjuicy', 'destroy', 'destroyed', 'destroying', 'detailed', 'detailsdesigned', 'detangler', 'detangles', 'detangling', 'detergent', 'determination', 'determine', 'deters', 'detox', 'detoxification', 'detoxify', 'detoxifying', 'devastating', 'develop', 'developed', 'development', 'developped', 'develops', 'device', 'dew', 'dewy', 'dha', 'dhc', 'dhea', 'dht', 'di', 'dia', 'diabease', 'diabetic', 'diagnose', 'diagnosis', 'diagram', 'dial', 'diameter', 'diamond', 'diaper', 'diarrhea', 'diary', 'diat', 'diazolidinyl', 'dictate', 'die', 'died', 'diet', 'dietary', 'differ', 'difference', 'different', 'differentiating', 'differnt', 'difficult', 'difficulty', 'diffuser', 'digestion', 'digestive', 'digit', 'digital', 'dihydratestearic', 'dihydro', 'dilaurate', 'dilinoleate', 'diluted', 'dimension', 'dimensional', 'dimer', 'dimethicone', 'dimethiconol', 'dimethyl', 'diminish', 'diminishes', 'dimpled', 'dinner', 'dinosaur', 'dior', 'dioressence', 'diorskin', 'dioxide', 'dip', 'dipped', 'direct', 'directed', 'direction', 'directional', 'directionsexpert', 'directionsto', 'directly', 'directs', 'dirt', 'dirty', 'disadvantage', 'disappear', 'disappears', 'disassembly', 'disc', 'discard', 'discipline', 'disclaimer', 'disco', 'discoloration', 'discomfort', 'discontinue', 'discontinued', 'discount', 'discourage', 'discover', 'discovered', 'discreet', 'discreetly', 'discrimination', 'disease', 'dish', 'dishwasher', 'disinfected', 'disinfecting', 'disney', 'disodium', 'disolve', 'disolves', 'dispels', 'dispense', 'dispensed', 'dispenser', 'dispenses', 'dispensing', 'dispersed', 'dispersion', 'display', 'disposable', 'disrupting', 'dissipate', 'dissolve', 'distance', 'distillate', 'distillation', 'distilled', 'distinct', 'distinctive', 'distress', 'distribute', 'distributed', 'distributing', 'distribution', 'distributor', 'disturbing', 'diuretic', 'diva', 'divaderme', 'divine', 'divinely', 'divining', 'divot', 'dizziness', 'dl', 'dlc', 'dmae', 'dobroti', 'doctor', 'docusate', 'doesn', 'doesnt', 'dog', 'dollar', 'dome', 'domestic', 'dominance', 'donor', 'dont', 'donut', 'door', 'dose', 'dosed', 'doshas', 'double', 'doubling', 'doubt', 'dough', 'dove', 'downward', 'dr', 'drag', 'dragging', 'dragon', 'dragonfly', 'drain', 'drainage', 'draining', 'dramatic', 'dramatically', 'drape', 'draw', 'drawn', 'drawstring', 'dream', 'dreamed', 'dreamer', 'dreamin', 'dreamt', 'dreamy', 'dremel', 'drench', 'drenched', 'dresser', 'dressing', 'dried', 'drier', 'driest', 'drink', 'drip', 'dripping', 'drive', 'driven', 'driver', 'driving', 'dromeceius', 'drone', 'drop', 'dropper', 'drug', 'drugstore', 'dry', 'dryer', 'drying', 'dryness', 'du', 'dual', 'duffle', 'dull', 'dulling', 'dullness', 'dun', 'duo', 'dupont', 'dura', 'durability', 'durabiltiy', 'durable', 'durably', 'duration', 'dust', 'duty', 'dv', 'dvc', 'dvd', 'dw', 'dx', 'dye', 'dyed', 'dynamic', 'dynamometer', 'dysphagia', 'ea', 'eachnet', 'eachniacea', 'eakin', 'ean', 'ear', 'earlite', 'early', 'earmold', 'earmolds', 'earring', 'earth', 'earthly', 'earthy', 'eas', 'ease', 'easier', 'easiest', 'easily', 'easy', 'eat', 'eating', 'eau', 'eb', 'ebay', 'ecf', 'ecg', 'echinacea', 'eclipta', 'eclipze', 'eco', 'ecological', 'ecologically', 'economic', 'economical', 'economy', 'ecualptus', 'eczema', 'ed', 'edc', 'edelweiss', 'edge', 'edged', 'edited', 'edition', 'editor', 'edt', 'edta', 'educational', 'ef', 'effect', 'effective', 'effectively', 'effectiveness', 'effektiv', 'effervescent', 'effet', 'efficacy', 'efficient', 'efficiently', 'effort', 'effortless', 'effortlessly', 'egypt', 'elaborated', 'elapsed', 'elastic', 'elasticity', 'elastin', 'elastomer', 'elbow', 'elderberry', 'elderflower', 'electric', 'electrified', 'electrolysis', 'electron', 'electronic', 'electronics', 'electrophysiology', 'elegance', 'elegant', 'element', 'elemental', 'elementary', 'elevate', 'elevated', 'elevates', 'eligible', 'elimanates', 'eliminate', 'eliminates', 'eliminating', 'elimination', 'eliminatorsaccelerators', 'elixir', 'elle', 'elmo', 'elusan', 'elusive', 'em', 'email', 'embarassing', 'embarrassment', 'embellished', 'emblic', 'embossed', 'embrace', 'emerge', 'emergency', 'emerges', 'emilie', 'emily', 'emits', 'emitting', 'emollience', 'emollient', 'emotion', 'emotional', 'emphasis', 'emphasizes', 'employ', 'emptied', 'emulation', 'emulsifier', 'emulsifying', 'emulsion', 'enables', 'enamel', 'encapsulated', 'encased', 'encases', 'enchanting', 'enchats', 'enclosed', 'encounter', 'encourage', 'encourages', 'end', 'endocrine', 'endorsed', 'endorsement', 'endurance', 'energetic', 'energize', 'energizes', 'energizeyour', 'energizing', 'energy', 'enforces', 'engage', 'engineer', 'engineered', 'engineering', 'england', 'english', 'engraved', 'engulfed', 'enhance', 'enhanced', 'enhancement', 'enhancer', 'enhances', 'enhancing', 'enjoy', 'enjoyment', 'enlarge', 'enlarged', 'enlargement', 'enliven', 'enlivening', 'enrich', 'enriched', 'enriches', 'enriching', 'ensure', 'ensures', 'ensuring', 'enter', 'entertainment', 'enthusiast', 'entice', 'entire', 'entirely', 'entrapment', 'envelope', 'enveloped', 'environment', 'environmental', 'environmentally', 'enzymatic', 'enzyme', 'epic', 'epidermis', 'epilating', 'epilation', 'equal', 'equally', 'equave', 'equipment', 'equipped', 'equivalent', 'er', 'erection', 'ergonomic', 'ergonomically', 'erica', 'erythrulose', 'escential', 'especially', 'esrog', 'essay', 'essence', 'essential', 'essentially', 'establish', 'established', 'estee', 'ester', 'estrogen', 'et', 'etch', 'etched', 'ether', 'ethyl', 'ethylenediamine', 'eucalyptus', 'eucerin', 'euphoria', 'europe', 'european', 'ev', 'evaluate', 'evaluated', 'evaporate', 'evenblend', 'evening', 'evenly', 'evenness', 'event', 'eventone', 'eventually', 'everlasting', 'everyday', 'evidence', 'evocative', 'evoke', 'evokes', 'evolved', 'ewg', 'exact', 'exactly', 'exam', 'exceed', 'excel', 'excellant', 'excellence', 'excellent', 'exception', 'exceptional', 'excess', 'excessive', 'exchanged', 'exciting', 'excluded', 'exclusive', 'exercise', 'exerciser', 'exertion', 'exfoliate', 'exfoliates', 'exfoliating', 'exfoliation', 'exfoliator', 'exfoliators', 'exhaustion', 'exhibition', 'exhilarating', 'exist', 'existing', 'exists', 'exotic', 'exp', 'expand', 'expanded', 'expanding', 'expect', 'expectancy', 'expectation', 'expected', 'expediting', 'expedition', 'expeller', 'expensive', 'experience', 'experienced', 'experiencing', 'experiment', 'experimented', 'expert', 'expertise', 'expiration', 'explanation', 'explosive', 'expose', 'exposed', 'exposing', 'exposure', 'express', 'exquisite', 'ext', 'extend', 'extendable', 'extended', 'extender', 'extends', 'extension', 'extensive', 'exterior', 'external', 'extra', 'extract', 'extracted', 'extractthis', 'extraordinarily', 'extraordinary', 'extreme', 'extremely', 'exudate', 'exudating', 'eye', 'eyebrow', 'eyeglass', 'eyelash', 'eyelid', 'eyeshadow', 'eyeshields', 'ez', 'faace', 'fabled', 'fabric', 'fabulous', 'face', 'faced', 'facet', 'facial', 'facilitating', 'facilproduct', 'fact', 'factor', 'factory', 'fade', 'faded', 'fading', 'fair', 'fairly', 'fake', 'falling', 'fallout', 'familial', 'family', 'famous', 'famously', 'fan', 'fanci', 'fanny', 'fantastic', 'fantasy', 'far', 'farmland', 'farther', 'fashion', 'fashionable', 'fashionably', 'fashioned', 'fast', 'fasten', 'fastener', 'faster', 'fastest', 'fat', 'father', 'fatigue', 'fatty', 'faucet', 'faulding', 'faux', 'faviola', 'favor', 'favorable', 'favored', 'favorite', 'fb', 'fc', 'fd', 'fda', 'fear', 'feather', 'feathering', 'feature', 'featuring', 'febreze', 'fecal', 'feces', 'fectly', 'fed', 'federal', 'fedex', 'fee', 'feedback', 'feeding', 'feel', 'feelhydrates', 'feeling', 'feellike', 'fekkai', 'fell', 'felt', 'female', 'feminine', 'femininity', 'femmes', 'fends', 'fenestrated', 'fenugreek', 'fermented', 'ferric', 'ferrocyanide', 'fertility', 'fetish', 'fever', 'feverfew', 'fewer', 'fiber', 'fiberglass', 'field', 'fiery', 'fig', 'fight', 'fighter', 'fighting', 'figure', 'file', 'filemaster', 'filing', 'filled', 'filler', 'filling', 'film', 'filozofiji', 'filter', 'filtered', 'final', 'finale', 'finalizes', 'finally', 'fine', 'finely', 'finer', 'finest', 'finger', 'fingering', 'fingern', 'fingernail', 'fingertip', 'finish', 'finished', 'finisher', 'finishing', 'finishskin', 'fir', 'fireproof', 'firm', 'firmenich', 'firmer', 'firming', 'firmly', 'firmness', 'fish', 'fishing', 'fit', 'fitness', 'fitted', 'fitting', 'fix', 'fixative', 'fixer', 'fixture', 'fixturefits', 'fixturemeets', 'fizz', 'fl', 'flagship', 'flake', 'flakiness', 'flaking', 'flaky', 'flame', 'flammable', 'flap', 'flare', 'flash', 'flashcard', 'flashlight', 'flat', 'flatten', 'flattened', 'flatulence', 'flaunt', 'flavor', 'flavored', 'flavoring', 'flawless', 'flawlessy', 'flax', 'flaxseed', 'flea', 'fleece', 'flents', 'flesh', 'flex', 'flexibel', 'flexibility', 'flexible', 'flexibles', 'flexing', 'flexshine', 'flicker', 'flight', 'flip', 'flirt', 'flirty', 'float', 'floatable', 'floates', 'floating', 'flop', 'flora', 'floral', 'florals', 'florentine', 'florum', 'floss', 'flosser', 'flossing', 'flow', 'flower', 'flowerbase', 'flowering', 'flowery', 'flu', 'fluffy', 'fluid', 'fluoride', 'fluorocarbon', 'flush', 'flux', 'fly', 'flyaways', 'flying', 'flyps', 'fm', 'fo', 'foam', 'foaming', 'focus', 'focused', 'fog', 'foil', 'fold', 'foley', 'folk', 'follow', 'followed', 'following', 'follows', 'food', 'foot', 'footboard', 'footrest', 'footsmart', 'force', 'forehead', 'foreign', 'foremost', 'forest', 'forever', 'forged', 'forget', 'forgetting', 'form', 'formaldehyde', 'format', 'formation', 'formato', 'formed', 'forming', 'formula', 'formulated', 'formulation', 'forte', 'fortified', 'fortifies', 'fortify', 'forward', 'fossilized', 'fot', 'foundation', 'foundationproduct', 'founded', 'fourth', 'fr', 'fra', 'fraction', 'fragile', 'fragrance', 'fragranced', 'fragranceleaves', 'fragrant', 'frame', 'france', 'franklin', 'freckle', 'fred', 'free', 'freecruelty', 'freedom', 'freeph', 'freeradical', 'freesia', 'freethis', 'freeuse', 'freezable', 'french', 'freon', 'frequency', 'frequent', 'fresh', 'freshen', 'freshener', 'freshens', 'fresher', 'freshly', 'freshness', 'fresia', 'fret', 'friction', 'friend', 'friendly', 'fringepractice', 'fritter', 'frizz', 'frizzies', 'frizzy', 'fro', 'frosted', 'frothy', 'frozen', 'fruit', 'fruity', 'frustration', 'fry', 'ft', 'fudge', 'fuji', 'fuller', 'fullest', 'fullness', 'fully', 'fumeproduct', 'fumigated', 'fun', 'function', 'functional', 'functionality', 'fungal', 'fungus', 'funk', 'funny', 'furniture', 'furriest', 'furrow', 'furrowing', 'furterer', 'fuse', 'fusion', 'future', 'fyi', 'gag', 'gain', 'gaining', 'gall', 'gallbladder', 'gallet', 'gallon', 'game', 'gamma', 'gap', 'garbage', 'garden', 'gardenia', 'gardening', 'garfield', 'garlic', 'garnished', 'gas', 'gasket', 'gastric', 'gate', 'gathering', 'gatineau', 'gauge', 'gauss', 'gaze', 'geared', 'gel', 'gelatin', 'gellong', 'gem', 'gemstone', 'gena', 'gender', 'general', 'generalized', 'generally', 'generate', 'generation', 'generic', 'generous', 'gentle', 'gentlest', 'gently', 'genuine', 'geologic', 'geranium', 'gerbil', 'geriatric', 'germ', 'germain', 'german', 'germanium', 'germany', 'germe', 'germicide', 'getaway', 'getting', 'gift', 'gifting', 'giggle', 'gigi', 'gilbrand', 'gillette', 'ginger', 'gingivitis', 'gingko', 'ginkgo', 'ginseng', 'gio', 'giorgio', 'girl', 'girth', 'given', 'givenchy', 'giving', 'glacial', 'glam', 'glamorous', 'glamour', 'glance', 'gland', 'glandular', 'glass', 'glassy', 'glaze', 'glidability', 'glide', 'glideno', 'glider', 'gliding', 'glisten', 'glistening', 'glitter', 'global', 'glorious', 'gloss', 'glossary', 'glosser', 'glossing', 'glossy', 'glove', 'glow', 'glowing', 'glowingly', 'glucose', 'glue', 'gluten', 'glycerin', 'glycerine', 'glyceryl', 'glycol', 'glycolate', 'glycolic', 'glyderm', 'gm', 'gmbh', 'gmo', 'gmos', 'gmp', 'gn', 'goal', 'goat', 'goatee', 'god', 'goer', 'going', 'gold', 'golden', 'goldenseal', 'golfer', 'gone', 'good', 'goof', 'goosebump', 'gorgeous', 'got', 'gotu', 'gourmand', 'goutal', 'governed', 'gown', 'gp', 'gr', 'graceful', 'grad', 'grade', 'graded', 'gradually', 'graduated', 'graduation', 'graduationunique', 'grafco', 'graham', 'grain', 'gram', 'grandel', 'grano', 'granted', 'granule', 'grape', 'grapefruit', 'grapeseed', 'graphaccurate', 'graphic', 'graphite', 'grass', 'grassy', 'gray', 'greaseless', 'greasy', 'great', 'greater', 'greatly', 'greece', 'green', 'greenery', 'grey', 'greying', 'grip', 'groe', 'groin', 'groom', 'groomed', 'groomer', 'groomers', 'grooming', 'ground', 'group', 'grow', 'grown', 'grows', 'growth', 'gt', 'gthanks', 'guaiazulene', 'guarantee', 'guaranteed', 'guard', 'guessing', 'guest', 'guide', 'guideline', 'gum', 'gumline', 'gun', 'guy', 'gwyneth', 'gx', 'gym', 'gynecological', 'habit', 'habitat', 'hadassim', 'hair', 'hairband', 'haircolor', 'hairdressing', 'hairformulated', 'hairline', 'hairloaded', 'hairstyle', 'hairstylist', 'half', 'halfway', 'hall', 'halston', 'halt', 'hamster', 'han', 'hand', 'handbag', 'handed', 'handeven', 'handgrip', 'handle', 'handled', 'handleshydro', 'handling', 'handmade', 'handrail', 'handsbecause', 'handsomely', 'handy', 'hang', 'hanger', 'hangerthe', 'hanging', 'happens', 'happiness', 'hard', 'hardcore', 'harden', 'hardeners', 'hardening', 'hardware', 'hardwire', 'harm', 'harmful', 'harmonize', 'harmonizes', 'harmony', 'harness', 'harrys', 'harsh', 'hartiji', 'harvest', 'harvested', 'hask', 'hassle', 'hatch', 'hautverletzungen', 'hautvertrglicher', 'hautvertrglichkeit', 'having', 'hawaiian', 'hazard', 'haze', 'hazel', 'hazelnut', 'hcfc', 'head', 'headache', 'headband', 'headboard', 'header', 'headline', 'headpiece', 'headsfeature', 'heady', 'heal', 'healed', 'healing', 'heals', 'health', 'healthcare', 'healthier', 'healthiest', 'healthy', 'hear', 'heard', 'hearing', 'heart', 'heartbreaker', 'heartburn', 'heartfelt', 'heartwarming', 'hearty', 'heat', 'heated', 'heating', 'heaven', 'heavier', 'heavily', 'heavy', 'hedgehog', 'heel', 'height', 'heightens', 'heldfond', 'heldfonds', 'helen', 'helene', 'helenebrand', 'helianthus', 'helicopter', 'heliotrope', 'hello', 'help', 'helpful', 'helping', 'hemorrhoid', 'hemp', 'henriksen', 'herb', 'herbal', 'herbalist', 'herbicide', 'herbology', 'hereau', 'heritage', 'hermes', 'hernia', 'herrera', 'hershey', 'herve', 'hexandediol', 'hibiscus', 'hidden', 'hide', 'hideaway', 'hidrofugal', 'high', 'higher', 'highest', 'highland', 'highlandpipers', 'highlight', 'highly', 'hiking', 'hilfiger', 'hill', 'hinge', 'hinged', 'hint', 'hip', 'historic', 'hit', 'hither', 'hobacare', 'hobacares', 'hobby', 'hold', 'holder', 'holding', 'hole', 'holiday', 'hollow', 'holographic', 'home', 'homedics', 'homemade', 'homeopathic', 'homme', 'homogenized', 'honey', 'honor', 'honored', 'hook', 'hope', 'horizontal', 'horizontally', 'hormonal', 'hormonally', 'hormone', 'horn', 'horse', 'horsechestnut', 'horsetail', 'hospital', 'hostess', 'hot', 'hottie', 'hour', 'hoursproduct', 'house', 'household', 'housing', 'hp', 'hq', 'hr', 'hream', 'http', 'hug', 'huge', 'hugging', 'hugo', 'hull', 'human', 'humane', 'humectant', 'humid', 'humidifier', 'humidity', 'hummingbird', 'hungary', 'hunger', 'hunter', 'hurry', 'husband', 'hvac', 'hw', 'hyaluron', 'hyaluronic', 'hydra', 'hydrabase', 'hydrate', 'hydrated', 'hydrating', 'hydration', 'hydrator', 'hydraulic', 'hydro', 'hydrocolloid', 'hydrogel', 'hydrogen', 'hydrogenated', 'hydrolyzed', 'hydroptimale', 'hydroquinone', 'hydrox', 'hydroxide', 'hydroxy', 'hydroxyethylcellulose', 'hydroxypropyl', 'hygienic', 'hyper', 'hyperdispersion', 'hyperhidrosis', 'hyperosmotic', 'hyperpigmentation', 'hypersensitive', 'hypo', 'hypoallergenic', 'hypoallergenicfeatures', 'hysteria', 'hz', 'ice', 'icetm', 'iconeproduct', 'icy', 'idea', 'ideal', 'ideally', 'identical', 'identification', 'identify', 'identity', 'ii', 'iii', 'ill', 'illness', 'illusion', 'illustrated', 'illustration', 'ilustracijama', 'image', 'imaginable', 'imagination', 'imaginative', 'imagine', 'imagined', 'imaging', 'imaju', 'imbalance', 'imidazolidinyl', 'immaculate', 'immediate', 'immediately', 'immense', 'immersible', 'immoral', 'immunbalance', 'immune', 'immuskin', 'impact', 'impairment', 'imparts', 'imperfection', 'implement', 'important', 'imported', 'impotence', 'impress', 'impression', 'improve', 'improved', 'improvement', 'improves', 'improving', 'impurites', 'impurity', 'inadequate', 'incense', 'inch', 'incision', 'incl', 'include', 'included', 'includeds', 'includedupc', 'includes', 'including', 'income', 'incontinance', 'incontinence', 'incorporated', 'increase', 'increased', 'increasing', 'incredible', 'incredibly', 'increment', 'incrementscurved', 'independence', 'independent', 'independently', 'india', 'indian', 'indicated', 'indicates', 'indicating', 'indication', 'indicator', 'indigestion', 'indigo', 'individual', 'individualized', 'individually', 'indonesia', 'indoor', 'indoors', 'inducing', 'indulge', 'indulgence', 'indulgent', 'indulgently', 'industrial', 'industry', 'inexpensive', 'infant', 'infection', 'infertility', 'inflamed', 'inflammation', 'inflammatory', 'inflammatoryneutralizing', 'inflatable', 'influencing', 'info', 'information', 'infra', 'infrared', 'infrequent', 'infuse', 'infused', 'infusing', 'infusion', 'ingenious', 'ingestion', 'ingredient', 'ingredientsboosts', 'ingredientsolive', 'ingrow', 'ingrown', 'inguinal', 'inhabitant', 'inherent', 'inherently', 'inhibit', 'inimitable', 'initiated', 'injected', 'injured', 'injury', 'ink', 'inlet', 'inner', 'innovative', 'inositol', 'insatiable', 'insect', 'insert', 'inserter', 'inside', 'insidious', 'insight', 'insole', 'insolia', 'insomnia', 'inspire', 'inspired', 'inspires', 'inspiring', 'install', 'installation', 'installed', 'installing', 'instance', 'instant', 'instantly', 'instead', 'instinct', 'institute', 'instruction', 'instructional', 'instrument', 'insulating', 'insulator', 'insulin', 'insure', 'insures', 'integral', 'integrate', 'integrity', 'intended', 'intense', 'intensely', 'intensify', 'intensity', 'intensiv', 'intensive', 'intensively', 'intention', 'interaction', 'interchangeable', 'intercourseextension', 'interestingly', 'interface', 'interfere', 'interference', 'interim', 'interior', 'interlink', 'internal', 'international', 'internationally', 'interpret', 'interpretation', 'interrupt', 'interval', 'intestinal', 'intestine', 'intimacy', 'intimate', 'intoxicating', 'intraoral', 'intricate', 'intrigue', 'introduced', 'introducing', 'introduction', 'introductionary', 'introductory', 'intuition', 'invents', 'invest', 'invigorate', 'invigorated', 'invigorating', 'invisible', 'invisibly', 'inviting', 'involuntary', 'ion', 'ionic', 'ip', 'ipomoea', 'iridescent', 'iris', 'irisome', 'iron', 'irradiated', 'irregularity', 'irreplaceable', 'irresistible', 'irrigation', 'irritant', 'irritated', 'irritating', 'irritation', 'irritationsdierctions', 'isn', 'isnt', 'isobutylparaben', 'isoflex', 'isolates', 'isolation', 'isononanoate', 'isopropyl', 'isopropylparaben', 'isostearoyl', 'israeli', 'issue', 'ist', 'italian', 'italy', 'itch', 'itching', 'itchy', 'item', 'iu', 'ive', 'ives', 'ivoire', 'ivory', 'izdanja', 'jac', 'jacket', 'jacques', 'jacuzzi', 'jamais', 'jameson', 'japan', 'japanese', 'japonais', 'jar', 'jardin', 'jarproduct', 'jasmin', 'jasmine', 'jason', 'java', 'jaw', 'jawed', 'jdl', 'jean', 'jeanie', 'jeffco', 'jeffrey', 'jelly', 'jenna', 'jennifer', 'jet', 'jewel', 'jeweled', 'jeweler', 'jock', 'john', 'johnson', 'johnwort', 'joico', 'join', 'joint', 'joiwhip', 'jojoba', 'jojobaoil', 'journal', 'journey', 'joy', 'joyous', 'juice', 'juicy', 'july', 'jumbo', 'jump', 'junctional', 'junior', 'juniper', 'kaltostat', 'kama', 'kao', 'kapok', 'kappus', 'karame', 'kashrus', 'kay', 'keeping', 'keepsake', 'kelp', 'kempt', 'kenguard', 'keratin', 'keri', 'kernel', 'key', 'keyboard', 'keypad', 'kg', 'kick', 'kicking', 'kid', 'kidney', 'kill', 'killer', 'killing', 'kilo', 'kind', 'kingsley', 'kinking', 'kiss', 'kissable', 'kissed', 'kit', 'kitchen', 'kitty', 'kiwi', 'kiwifruit', 'klebkraft', 'kneaded', 'knee', 'knife', 'knit', 'knjiga', 'knjige', 'knjigu', 'knob', 'knock', 'knockoff', 'knot', 'know', 'knowing', 'knowledge', 'known', 'kodos', 'koji', 'kojic', 'koju', 'koken', 'kola', 'koloru', 'komodo', 'korea', 'kosher', 'kosmosu', 'krizia', 'krpergeruch', 'kukui', 'kumquat', 'kupa', 'la', 'lab', 'label', 'labeled', 'labo', 'labor', 'laboratory', 'laboring', 'labstubing', 'lacking', 'lacquer', 'lacquered', 'lactic', 'lacto', 'lactoperoxidase', 'lactylate', 'laden', 'lady', 'ladybug', 'lahaye', 'laissez', 'lake', 'laminated', 'lamp', 'lancaster', 'land', 'landmark', 'landscape', 'lange', 'language', 'lanolin', 'lanosterol', 'lap', 'larenim', 'large', 'larger', 'largest', 'lasco', 'laser', 'lash', 'lasting', 'lastingproduct', 'late', 'later', 'laterally', 'latest', 'latex', 'lather', 'latmosph', 'lauder', 'launched', 'laundering', 'laura', 'lauramide', 'laurate', 'lauren', 'laurent', 'laureth', 'lauryl', 'lavandin', 'lavandula', 'lavare', 'lavender', 'lavera', 'law', 'laxative', 'lay', 'layer', 'layered', 'lb', 'lc', 'lcd', 'le', 'lead', 'leader', 'leading', 'leaf', 'league', 'leak', 'leakage', 'learn', 'learned', 'learning', 'leather', 'leau', 'leave', 'leaver', 'leaving', 'lecithin', 'led', 'lee', 'left', 'leg', 'legend', 'legendary', 'leger', 'leisure', 'lella', 'lemon', 'lemongrass', 'length', 'lengthen', 'lengthens', 'lens', 'lenssupports', 'leopard', 'let', 'level', 'lever', 'leverage', 'li', 'liberal', 'liberally', 'liberates', 'license', 'licensed', 'licious', 'licorice', 'lid', 'lidded', 'lie', 'life', 'lifeless', 'lifestyle', 'lifetime', 'lifiting', 'lift', 'lifted', 'lifter', 'lifting', 'liftsez', 'liftstainless', 'liggett', 'light', 'lighted', 'lightened', 'lightener', 'lightening', 'lightens', 'lighter', 'lighting', 'lightly', 'lightweight', 'lignamax', 'lignan', 'like', 'likelihood', 'lily', 'lime', 'limit', 'limited', 'limiting', 'limp', 'linden', 'line', 'linear', 'lined', 'linen', 'liner', 'lineur', 'lingerie', 'lingering', 'lingers', 'lining', 'link', 'linoleic', 'linolenic', 'lint', 'linum', 'lip', 'lipcolor', 'lipglossproduct', 'lipid', 'lipliner', 'lipo', 'lipocare', 'lipoic', 'lipsproduct', 'lipstick', 'lipstickproduct', 'liquefies', 'liquid', 'liquifying', 'liquor', 'lisa', 'listed', 'listen', 'listing', 'lit', 'literature', 'litter', 'little', 'live', 'lived', 'livelier', 'lively', 'liver', 'living', 'liz', 'lizard', 'll', 'lmphedema', 'lo', 'loaded', 'loading', 'local', 'location', 'lock', 'lockable', 'locked', 'locker', 'locking', 'lodged', 'loewe', 'logix', 'logo', 'long', 'longer', 'longerbuy', 'longest', 'longstanding', 'longwearing', 'loofah', 'look', 'looking', 'loonette', 'loop', 'loose', 'loosen', 'lopez', 'loreal', 'lose', 'loss', 'lost', 'lot', 'lotion', 'lotus', 'loud', 'lounger', 'love', 'loved', 'lovely', 'lovepotionperfume', 'lover', 'loving', 'low', 'lower', 'lowered', 'lowest', 'lowland', 'lozenge', 'lozingredients', 'lt', 'lubrastrip', 'lubrastrips', 'lubricant', 'lubricate', 'lubricates', 'lubricating', 'lubrication', 'lubricity', 'lucite', 'luck', 'lukewarm', 'lulav', 'lumar', 'lumbago', 'lumbar', 'luminescent', 'lumineuse', 'luminosity', 'luminous', 'lung', 'lupine', 'lure', 'lurks', 'luscious', 'lush', 'lushly', 'lust', 'luster', 'lustre', 'lustrous', 'lutein', 'luxa', 'luxe', 'luxorpro', 'luxurious', 'luxuriously', 'luxury', 'ly', 'lychee', 'lycium', 'lycra', 'lygnan', 'lymphatic', 'lysine', 'mac', 'macadamia', 'mach', 'machine', 'mackie', 'madagascar', 'maggies', 'magic', 'magical', 'magickal', 'magique', 'magnesium', 'magnetic', 'magnifier', 'magnify', 'magnolia', 'maguey', 'mai', 'main', 'mainland', 'maintain', 'maintained', 'maintaining', 'maintains', 'maintenance', 'majestic', 'major', 'make', 'maker', 'makeup', 'making', 'male', 'malic', 'malleable', 'malog', 'mama', 'man', 'manage', 'manageability', 'manageable', 'management', 'mandarin', 'mandarinheart', 'maneuver', 'mango', 'manicure', 'manicured', 'manicurist', 'manincludes', 'manly', 'manual', 'manufacture', 'manufactured', 'manufacturer', 'manufacturing', 'map', 'mar', 'marble', 'marc', 'margarine', 'marigold', 'marine', 'marjoram', 'mark', 'marked', 'market', 'marketer', 'martha', 'marvelous', 'mary', 'mascara', 'mascaraproduct', 'masculine', 'masculinity', 'masimium', 'mask', 'masque', 'mass', 'massage', 'massager', 'massaging', 'massimo', 'mastectomy', 'master', 'masterpiece', 'mastery', 'mat', 'match', 'matched', 'material', 'matifies', 'matricaria', 'matrix', 'matt', 'matte', 'matter', 'matting', 'mattress', 'mature', 'maurer', 'mavala', 'max', 'maxi', 'maximize', 'maximizes', 'maximizing', 'maximum', 'maybe', 'mazquital', 'mcm', 'md', 'mdash', 'mea', 'meadow', 'meal', 'mean', 'meaning', 'measure', 'measured', 'measurement', 'measuring', 'meat', 'mechanically', 'med', 'medal', 'medic', 'medical', 'medicated', 'medication', 'medicinal', 'medicine', 'medicool', 'medicools', 'mediflow', 'mediterranean', 'medium', 'medport', 'medtemp', 'meduim', 'meet', 'meeting', 'megachopper', 'megatechs', 'mehaz', 'mehazno', 'melaleuca', 'melanin', 'meld', 'mellow', 'melon', 'melt', 'melting', 'member', 'membrane', 'memorable', 'memory', 'men', 'meninstantly', 'menstrual', 'menstruating', 'mentha', 'menthol', 'mentholated', 'mention', 'menu', 'meq', 'mercury', 'mermaid', 'merman', 'mesh', 'meshulashim', 'mesquite', 'mess', 'message', 'messed', 'messy', 'metabolic', 'metabolism', 'metal', 'metallic', 'metallicproduct', 'meter', 'metered', 'methane', 'method', 'methodhome', 'methyl', 'methyloparaben', 'methylparaben', 'meticulously', 'mexico', 'mg', 'miami', 'mica', 'michael', 'micro', 'microcirulation', 'microclear', 'microcrystalline', 'microdermabrasion', 'microfiber', 'microfibers', 'microfins', 'microflora', 'micronized', 'microorganism', 'microprocessor', 'microscope', 'microscopic', 'microscreen', 'microscreens', 'microsponge', 'microwave', 'microwaveable', 'mid', 'middle', 'migraine', 'miki', 'milan', 'mild', 'mildew', 'mildly', 'mildness', 'military', 'milk', 'milky', 'milled', 'millimeter', 'milling', 'million', 'mimosa', 'mina', 'mind', 'minded', 'mineral', 'mini', 'minim', 'minimal', 'minimally', 'minimize', 'minimizes', 'minimizing', 'minimum', 'minor', 'mint', 'mintasure', 'minute', 'minutenote', 'miracle', 'mirror', 'mirth', 'missed', 'missing', 'mission', 'mist', 'mitchell', 'mite', 'mitt', 'mix', 'mixed', 'mixing', 'mixture', 'ml', 'mlange', 'mlp', 'mlthis', 'mm', 'mobile', 'mode', 'model', 'moderate', 'moderately', 'modern', 'modified', 'moist', 'moisten', 'moistened', 'moisture', 'moistureduo', 'moisturing', 'moisturising', 'moisturization', 'moisturize', 'moisturized', 'moisturizer', 'moisturizers', 'moisturizes', 'moisturizing', 'moisurizes', 'mojave', 'mold', 'moldable', 'molded', 'molding', 'moldsa', 'molecular', 'molecularity', 'molecularly', 'molecule', 'moleculessealmoisturizing', 'moleskines', 'mom', 'moment', 'momentary', 'money', 'monitor', 'monitoring', 'monkey', 'mono', 'monotony', 'mont', 'month', 'monthly', 'montiel', 'montreal', 'mood', 'moon', 'moonlight', 'morning', 'moroccan', 'morton', 'moss', 'mossy', 'mother', 'motif', 'motion', 'motivational', 'motivator', 'motor', 'mount', 'mountain', 'mounted', 'mounting', 'mouse', 'mousing', 'mousse', 'moustache', 'mouth', 'movement', 'moving', 'mpt', 'mr', 'msm', 'msrp', 'mtv', 'mucous', 'mucus', 'muguet', 'mulien', 'mullein', 'multi', 'multiple', 'multivitamin', 'munich', 'murad', 'murray', 'musc', 'muschiosapone', 'muscle', 'musclebuilding', 'muscular', 'music', 'musician', 'musk', 'muslin', 'mustache', 'mustard', 'musty', 'myocellular', 'myristate', 'myrtle', 'mysore', 'myth', 'na', 'nail', 'nailglide', 'nailideal', 'nailtiques', 'nair', 'named', 'nanomolecular', 'nanomolecules', 'nanoparticulated', 'napa', 'nape', 'nappy', 'narcissus', 'narrow', 'nasal', 'nasty', 'nate', 'nates', 'national', 'native', 'natural', 'naturaldeet', 'naturale', 'naturally', 'nature', 'naturel', 'nauropath', 'nausea', 'nautica', 'navigational', 'navy', 'nbsp', 'nc', 'nd', 'nda', 'near', 'nearly', 'neat', 'necessary', 'necessity', 'neck', 'neckline', 'neckproduct', 'need', 'needed', 'needle', 'neem', 'negative', 'neon', 'neonate', 'nephew', 'nerve', 'nervous', 'net', 'netherlands', 'nettle', 'neuralgia', 'neurological', 'neuropeptides', 'neurowheel', 'neutral', 'neutralizes', 'neutralizing', 'neutrogena', 'new', 'newborn', 'newer', 'newly', 'newport', 'nexus', 'niacin', 'nice', 'nicely', 'nick', 'nickelodeon', 'nicotinate', 'nicotinic', 'night', 'nightly', 'niki', 'nikki', 'nile', 'nip', 'nipe', 'nipper', 'nippersstainless', 'nippon', 'nit', 'nite', 'nitrile', 'nitrogen', 'nivea', 'nix', 'nobeading', 'nofa', 'noise', 'non', 'nonabsorbent', 'nonlipid', 'nonocclusive', 'nonslip', 'norelco', 'norelcos', 'normal', 'normally', 'north', 'northeast', 'nose', 'nostril', 'note', 'notice', 'noticeable', 'noticeably', 'noticed', 'nourish', 'nourisherpamper', 'nourishes', 'nourishing', 'nourishment', 'nova', 'november', 'novi', 'noxzema', 'nozzle', 'nproduct', 'nsp', 'nsps', 'nt', 'nu', 'nucifera', 'nuclear', 'nucleic', 'nudeproduct', 'number', 'numbing', 'numeric', 'numerous', 'nurse', 'nursery', 'nursing', 'nurture', 'nurturing', 'nut', 'nutmeg', 'nutra', 'nutribiotic', 'nutrient', 'nutrine', 'nutrition', 'nutritional', 'nutritive', 'nutrium', 'nutty', 'nxt', 'nylon', 'oak', 'oakmoss', 'oat', 'oatmeal', 'objavljuje', 'object', 'obtain', 'obtained', 'obtaining', 'occasion', 'occasional', 'occo', 'occupational', 'occur', 'occurring', 'occurs', 'ocean', 'oceanic', 'ochre', 'octadecanediol', 'octoxynol', 'octyl', 'odor', 'odorclear', 'odorless', 'offer', 'offered', 'offering', 'office', 'official', 'officinalis', 'offs', 'offset', 'ogromnom', 'oha', 'ohne', 'oil', 'oilcoconut', 'oiliness', 'oiltriple', 'oily', 'oilyskin', 'ointment', 'ojon', 'olay', 'old', 'older', 'oldest', 'ole', 'oleamido', 'oleda', 'oleic', 'olfactory', 'oligomers', 'oligopeptide', 'olio', 'olivate', 'olive', 'olivella', 'olivellas', 'omega', 'oni', 'online', 'onlythis', 'onox', 'onslaught', 'ontoyour', 'onyour', 'onyx', 'opaque', 'open', 'opened', 'opening', 'operated', 'operating', 'operation', 'ophthalmologist', 'opposite', 'optical', 'optimal', 'optimax', 'optimized', 'optimizer', 'optimum', 'option', 'orajel', 'oral', 'orange', 'orchard', 'orchid', 'order', 'ordinary', 'oregon', 'organic', 'organically', 'organism', 'organization', 'organize', 'organized', 'organizer', 'organizing', 'orient', 'oriental', 'origin', 'original', 'orlon', 'ornament', 'oropharyngeal', 'orourkeno', 'orris', 'oscar', 'oscillate', 'oscillates', 'osmolytes', 'osteopath', 'oster', 'osto', 'ostomy', 'ostoporosis', 'otc', 'otto', 'ou', 'ounce', 'outback', 'outbreak', 'outdoor', 'outdoors', 'outer', 'outlet', 'outlived', 'output', 'outrageous', 'outside', 'outstanding', 'outwards', 'oval', 'overall', 'overcome', 'overcomes', 'overdrying', 'overexertion', 'overflow', 'overlay', 'overnight', 'overpowering', 'overview', 'overworked', 'owers', 'owned', 'oxidant', 'oxidase', 'oxidation', 'oxidationblended', 'oxidative', 'oxide', 'oxygen', 'oxygenation', 'oz', 'ozeach', 'ozfor', 'ozfresh', 'ozone', 'ozpremium', 'ozs', 'paba', 'pacemaker', 'pacifies', 'pack', 'package', 'packaged', 'packaging', 'packed', 'packet', 'packing', 'packstep', 'pad', 'padded', 'padding', 'paddle', 'page', 'pageant', 'pain', 'painful', 'painless', 'painlessly', 'paint', 'painted', 'painter', 'painting', 'pair', 'pairing', 'paks', 'palm', 'palmarosa', 'palmate', 'palmer', 'palmetto', 'palmitate', 'palmitic', 'palmitoyl', 'paltrow', 'pamper', 'pampered', 'pampering', 'pampers', 'pan', 'panasonic', 'panel', 'pansy', 'panthenate', 'panthenol', 'paper', 'paperback', 'papoulis', 'par', 'para', 'paraben', 'parabens', 'parabola', 'parade', 'paradise', 'paraffin', 'paralysis', 'paramedic', 'parasol', 'paratherapy', 'parched', 'parent', 'parenteral', 'parfum', 'paris', 'parissa', 'park', 'parkinson', 'parsley', 'particle', 'particularly', 'particules', 'partner', 'party', 'passage', 'passed', 'passenger', 'passing', 'passion', 'passionate', 'past', 'pat', 'patch', 'patchouli', 'patent', 'patented', 'path', 'pathologic', 'pathological', 'pathology', 'patience', 'patient', 'patio', 'pattern', 'patting', 'paul', 'paynes', 'pc', 'pcb', 'pcshenderson', 'pea', 'peace', 'peaceful', 'peach', 'peak', 'peal', 'peanut', 'pear', 'pearl', 'pedi', 'pediatrician', 'pedicure', 'pedinol', 'pedinovaalso', 'pedis', 'peel', 'peeling', 'peg', 'pelvis', 'pen', 'penchant', 'pencil', 'pendant', 'pending', 'pendulum', 'penetrate', 'penetrates', 'penetrating', 'penetration', 'penile', 'penis', 'penny', 'peony', 'people', 'pepper', 'peppermint', 'peptide', 'pepto', 'percent', 'percentage', 'perception', 'perennial', 'perfect', 'perfection', 'perfectly', 'perforated', 'performance', 'performing', 'perfume', 'perfumed', 'perfumer', 'perfumerie', 'perfumery', 'perineal', 'period', 'periodic', 'periodically', 'perk', 'perm', 'permafilt', 'permanence', 'permanent', 'permanently', 'permeable', 'perming', 'permit', 'pernicious', 'peroxide', 'perricone', 'persist', 'persists', 'person', 'personal', 'personality', 'personalized', 'personalizes', 'perspirant', 'perspiration', 'pesky', 'pesticide', 'pet', 'petal', 'petchouli', 'petitgrain', 'petrochemical', 'petrolatum', 'petroleum', 'pgs', 'ph', 'phalle', 'pharmaceutical', 'pharmacist', 'pharmacopoeia', 'phase', 'phenol', 'phenoxyethanol', 'phero', 'pheromone', 'pheromonestm', 'philip', 'philippe', 'philosopher', 'phoenix', 'phone', 'phosphate', 'phosphatesodium', 'phosphatidylcholine', 'phospholipid', 'phosphric', 'photo', 'photodamaged', 'photograph', 'phthalates', 'phw', 'physical', 'physician', 'physiology', 'phytantriol', 'phyto', 'phytochemical', 'phytoestrogens', 'phytol', 'phytomerneutralizing', 'phytoserum', 'piano', 'pick', 'picture', 'piece', 'piecing', 'piercing', 'pigment', 'pigmentary', 'pigmentation', 'pigmented', 'pilgrim', 'pill', 'pillow', 'pimple', 'pin', 'pinch', 'pine', 'pineapple', 'pineles', 'pink', 'pinwheel', 'pipe', 'piperita', 'pistol', 'pitera', 'pitta', 'pivot', 'pivoting', 'pizzazz', 'pk', 'place', 'placed', 'placement', 'placenta', 'plague', 'plain', 'plane', 'planet', 'plankton', 'plant', 'plantain', 'plantar', 'plantation', 'planter', 'plaque', 'plastic', 'plate', 'plated', 'platform', 'plating', 'platinum', 'play', 'played', 'playful', 'playfulness', 'playing', 'pleasant', 'pleased', 'pleasing', 'pleasurable', 'pleasure', 'pleat', 'pledge', 'pledged', 'plenty', 'plongez', 'plug', 'plugged', 'plum', 'plump', 'plumped', 'plumper', 'plumping', 'plus', 'plush', 'plushness', 'ply', 'pocket', 'pod', 'podiatric', 'point', 'pointed', 'poise', 'poison', 'poisoning', 'poklon', 'polar', 'polarity', 'policy', 'polident', 'polish', 'polished', 'polisher', 'polishing', 'polishwhy', 'pollutant', 'pollution', 'polo', 'poly', 'polybagged', 'polydecene', 'polydura', 'polyester', 'polyfilled', 'polyfoam', 'polyglucose', 'polygluscside', 'polygonum', 'polymer', 'polymethacrylate', 'polyporaceae', 'polypropylene', 'polyquaternium', 'polysorbate', 'polyurethane', 'pomade', 'pomegranate', 'pommel', 'pond', 'pony', 'poo', 'poof', 'poofy', 'pool', 'poor', 'pop', 'poppyflower', 'popular', 'popularity', 'population', 'pore', 'port', 'portable', 'portion', 'pose', 'posebnoj', 'poseduju', 'position', 'positioned', 'positive', 'positively', 'posse', 'possibility', 'possible', 'post', 'postojanja', 'postoperative', 'postpartum', 'pot', 'potassium', 'potency', 'potent', 'potential', 'potentially', 'potion', 'potter', 'pottertjes', 'pouch', 'pouf', 'pound', 'pour', 'poured', 'pout', 'powder', 'powdera', 'powdered', 'powderproduct', 'powdery', 'power', 'powered', 'powerful', 'powerglide', 'powertip', 'pozeleti', 'practically', 'practice', 'practicing', 'prada', 'pre', 'prebiotic', 'prebiotics', 'precaution', 'precious', 'precise', 'precisely', 'precision', 'preferred', 'prefilled', 'pregnancy', 'pregnangcy', 'pregnant', 'pregnenolone', 'prelude', 'premature', 'premier', 'premiere', 'premium', 'premonition', 'prep', 'preparation', 'prepare', 'prepared', 'prepares', 'preparing', 'prepping', 'pres', 'prescribed', 'prescription', 'present', 'presentation', 'presented', 'preservative', 'preserve', 'preserver', 'preserving', 'press', 'pressed', 'pressing', 'pressure', 'prestigious', 'pretty', 'prevent', 'preventative', 'preventing', 'prevention', 'prevents', 'previous', 'prevod', 'price', 'priced', 'priceless', 'pride', 'primarily', 'primary', 'prime', 'priming', 'primo', 'primrose', 'princess', 'principal', 'prior', 'privacy', 'private', 'pro', 'proanthocyanidins', 'problem', 'procedure', 'process', 'processed', 'processing', 'procuring', 'procyanidin', 'prod', 'produce', 'produced', 'producing', 'product', 'production', 'productive', 'productschrome', 'produkt', 'prof', 'professional', 'professionally', 'professor', 'profile', 'profitable', 'proflavanol', 'profuse', 'progesterone', 'program', 'programme', 'progress', 'progressive', 'prohibited', 'project', 'prolong', 'prolonged', 'prolonging', 'prolongs', 'prom', 'promise', 'promote', 'promotes', 'promoting', 'promptly', 'prone', 'prong', 'pronounced', 'proof', 'propane', 'propanediol', 'proper', 'properly', 'property', 'propolis', 'proportion', 'proportionally', 'proprietary', 'propylene', 'propylparaben', 'propylparabens', 'proslavljene', 'prosperity', 'prostate', 'protect', 'protectant', 'protectants', 'protected', 'protecting', 'protection', 'protective', 'protector', 'protects', 'protein', 'proteo', 'protouch', 'proud', 'prove', 'proven', 'provence', 'provide', 'provided', 'provider', 'provides', 'providesdual', 'providesextra', 'providing', 'provoking', 'prvi', 'psi', 'psoriasis', 'psoriatic', 'psychic', 'ptfe', 'pubic', 'published', 'puff', 'puffiness', 'puffing', 'puffy', 'pulcinella', 'pull', 'pulled', 'pulp', 'pulse', 'pumice', 'pump', 'pumped', 'punch', 'purchase', 'purchasing', 'pure', 'puree', 'pureed', 'purell', 'purest', 'purge', 'purification', 'purified', 'purifier', 'purifies', 'purifying', 'purist', 'purity', 'purple', 'purpose', 'purr', 'purse', 'push', 'pushing', 'pussy', 'putting', 'pvc', 'pvi', 'pycnogenol', 'pyramid', 'qcarbo', 'qckxgwcm', 'quad', 'quadra', 'quadriplegic', 'quality', 'quantity', 'quantum', 'quarter', 'quarterbackliness', 'quarterly', 'quartz', 'quasi', 'quaternium', 'quattro', 'queen', 'quench', 'question', 'qui', 'quick', 'quickbust', 'quicker', 'quickest', 'quickly', 'quillaja', 'quot', 'radiance', 'radiant', 'radiantly', 'radiate', 'radiating', 'radiation', 'radical', 'radio', 'radius', 'rail', 'rain', 'rainbow', 'raise', 'raised', 'ralph', 'rancid', 'random', 'randomly', 'range', 'ranging', 'rank', 'ranked', 'rapidly', 'rare', 'rasberry', 'rash', 'raspberry', 'rat', 'ratchet', 'rate', 'rated', 'rating', 'ratio', 'raw', 'ray', 'rayon', 'razor', 'razorless', 'rc', 'reach', 'reaching', 'reaction', 'reactivate', 'reactive', 'reacts', 'read', 'readability', 'readable', 'reader', 'reading', 'readoutathlete', 'ready', 'reagent', 'real', 'reality', 'reappear', 'reapplied', 'reapply', 'rear', 'reason', 'reasonable', 'rebate', 'rebirth', 'reborn', 'recall', 'recapture', 'receipt', 'receive', 'received', 'receiver', 'recent', 'recharge', 'rechargeable', 'recharged', 'recharger', 'recharges', 'recharging', 'recipe', 'recommend', 'recommendation', 'recommended', 'recommends', 'reconditions', 'reconstruction', 'recover', 'recovering', 'recovery', 'rectal', 'recuperate', 'recutita', 'recyclable', 'recycled', 'red', 'reddening', 'redefine', 'redefined', 'redefines', 'redesign', 'redesigned', 'redness', 'reduce', 'reduced', 'reduces', 'reducible', 'reducing', 'reduction', 'reduziert', 'reed', 'reedssoft', 'refer', 'reference', 'referred', 'refill', 'refilling', 'refine', 'refined', 'refiner', 'refines', 'refining', 'refinisher', 'reflect', 'reflecting', 'reflection', 'reflective', 'reflects', 'reflex', 'refreezable', 'refresh', 'refreshed', 'refresher', 'refreshes', 'refreshing', 'refreshingly', 'refreshmint', 'refrigerate', 'refrozen', 'refund', 'reg', 'regain', 'regains', 'regard', 'regardless', 'regenerate', 'regenerates', 'regeneration', 'regime', 'regimen', 'region', 'registered', 'regret', 'regrowth', 'regular', 'regularly', 'regulate', 'regulating', 'regulator', 'rehabilitate', 'rehydrates', 'rehydrating', 'reincarnation', 'reinforce', 'reinforced', 'reinforces', 'reinvents', 'rejuvenate', 'rejuvenated', 'rejuvenates', 'rejuvenating', 'rejuvenation', 'rejuvenator', 'related', 'relatively', 'relax', 'relaxation', 'relaxed', 'relaxes', 'relaxing', 'release', 'released', 'reliable', 'reliably', 'relied', 'relief', 'relieve', 'relieverdirections', 'relieving', 'relive', 'reloading', 'rely', 'remain', 'remained', 'remaining', 'remains', 'remarkable', 'remarkably', 'remedy', 'remember', 'remembered', 'remind', 'reminder', 'reminds', 'remington', 'removable', 'removal', 'remove', 'removed', 'remover', 'removing', 'ren', 'renew', 'renewal', 'renewed', 'renewer', 'renewing', 'renewingextraction', 'renews', 'renova', 'renowed', 'renowned', 'renta', 'repair', 'reparative', 'repeat', 'repellant', 'replace', 'replaceable', 'replaced', 'replacement', 'replaces', 'replacing', 'replenish', 'replenished', 'replenishes', 'replenishing', 'replenishment', 'replicated', 'report', 'reported', 'representing', 'reproduction', 'reproductive', 'republic', 'require', 'required', 'requirement', 'requires', 'requiring', 'resealable', 'research', 'reserved', 'reservoir', 'reset', 'reshape', 'reshave', 'resident', 'residue', 'resilience', 'resilient', 'resin', 'resist', 'resistant', 'resisting', 'resistivity', 'resists', 'resort', 'resource', 'respect', 'respectively', 'respond', 'responds', 'response', 'responsible', 'responsive', 'responsiveness', 'rest', 'restful', 'resting', 'restorative', 'restore', 'restored', 'restorer', 'restores', 'restoring', 'restructures', 'restructuring', 'restyles', 'restyling', 'result', 'resulting', 'resurfaces', 'resurfacing', 'retail', 'retailer', 'retain', 'retardant', 'retention', 'retexture', 'retexturize', 'retin', 'retinal', 'retinol', 'retinolmax', 'retinyl', 'retractable', 'retracts', 'retrieving', 'retro', 'return', 'returned', 'reusable', 'rev', 'reveal', 'revealing', 'reveals', 'revere', 'revers', 'reverse', 'review', 'revised', 'revitalization', 'revitalize', 'revitalized', 'revitalizes', 'revitalizing', 'revived', 'revives', 'revivogen', 'revlon', 'revolutionary', 'revolutionized', 'revolving', 'rewarding', 'rheumatic', 'rheumatism', 'rhinestone', 'rhino', 'rhizome', 'rhondonite', 'rhythm', 'rial', 'ribbed', 'ribbing', 'ribbon', 'ribcage', 'rice', 'rich', 'richer', 'richly', 'richness', 'ricinoleate', 'ricinus', 'rid', 'riddance', 'ride', 'riding', 'right', 'ring', 'ringworm', 'rinse', 'rinseability', 'rinsed', 'rinsing', 'ripe', 'ripened', 'rise', 'risk', 'ristiques', 'ritual', 'river', 'riviera', 'rl', 'road', 'robe', 'rock', 'rocker', 'rocket', 'roger', 'role', 'roll', 'rolled', 'roller', 'rolling', 'romance', 'romantic', 'romantically', 'room', 'root', 'rope', 'rosacea', 'rose', 'rosemary', 'rosinate', 'rotary', 'rotated', 'rotates', 'rotating', 'rotation', 'rotational', 'rotor', 'rough', 'roughest', 'roughly', 'round', 'rounded', 'routine', 'roux', 'row', 'royal', 'rpf', 'rpm', 'rub', 'rubber', 'rubgentle', 'ruining', 'rule', 'rum', 'run', 'running', 'runny', 'rural', 'rush', 'rusting', 'rv', 'rvp', 'rx', 'rxac', 'rykiel', 'sa', 'sable', 'sachet', 'sacr', 'sacred', 'saddlebag', 'safe', 'safeguard', 'safely', 'safer', 'safest', 'safety', 'safflower', 'sag', 'sage', 'sagging', 'sagrada', 'sahve', 'said', 'saint', 'sakura', 'salad', 'sale', 'salesperson', 'salicylic', 'saliva', 'salivasure', 'salmiak', 'salminae', 'salon', 'salt', 'salter', 'salvation', 'salve', 'samba', 'sample', 'sanctuary', 'sand', 'sandalwood', 'sandlewood', 'sandwich', 'sanitizing', 'sanrio', 'santal', 'sante', 'santiago', 'sanz', 'sap', 'sapone', 'saponified', 'sarcosinate', 'satin', 'satiny', 'satisfaction', 'satisfied', 'sativa', 'saturate', 'saturated', 'saturation', 'sauce', 'sauna', 'saute', 'save', 'saved', 'saving', 'savored', 'savvy', 'saw', 'say', 'saying', 'sc', 'scab', 'scale', 'scaling', 'scalp', 'scalpicin', 'scalpicins', 'scaly', 'scar', 'scene', 'scent', 'scented', 'schick', 'schlage', 'schnitt', 'scholls', 'school', 'schrfwunden', 'schtzt', 'schweibildung', 'science', 'scientific', 'scientifically', 'scissors', 'score', 'scotch', 'scotford', 'scrape', 'scratch', 'screen', 'screw', 'scrub', 'scrubbing', 'scrubble', 'scrumptious', 'scrunch', 'scrunching', 'sculpt', 'sculpted', 'sculpting', 'scurl', 'sd', 'se', 'sea', 'seabreeze', 'seabuckthorn', 'seal', 'sealed', 'sealing', 'sealling', 'seamless', 'seamlessly', 'sean', 'search', 'searched', 'season', 'seasonal', 'seasonally', 'seat', 'seaweed', 'sebastian', 'seborrhea', 'seborrheic', 'second', 'secret', 'secretive', 'section', 'secura', 'secure', 'secured', 'securely', 'secures', 'security', 'seduce', 'seduces', 'seduction', 'seductive', 'seed', 'seedpod', 'seeing', 'seek', 'seeking', 'seen', 'seldom', 'select', 'selected', 'selectives', 'selenium', 'self', 'sell', 'seller', 'selling', 'semi', 'send', 'senegal', 'seninses', 'senior', 'senna', 'sens', 'sensation', 'sensational', 'sense', 'sensing', 'sensitak', 'sensitive', 'sensitivefor', 'sensitivity', 'sensor', 'sensorexcel', 'sensory', 'sensual', 'sensuality', 'sensualtop', 'sensuous', 'sent', 'separate', 'separated', 'separately', 'separatelyinstructions', 'separation', 'sephora', 'serenity', 'serf', 'series', 'serrated', 'serum', 'serve', 'server', 'service', 'serving', 'sesame', 'session', 'set', 'setgreen', 'setting', 'settle', 'settled', 'seven', 'seventh', 'severe', 'severely', 'sewer', 'sewn', 'sex', 'sexier', 'sexual', 'sexy', 'sfym', 'shade', 'shadow', 'shaft', 'shaftused', 'shake', 'shampoo', 'shampoohelps', 'shampooing', 'shampooselenium', 'shampoostep', 'shape', 'shaped', 'shapely', 'shaper', 'shaping', 'share', 'shared', 'sharp', 'sharpener', 'sharpening', 'sharpens', 'sharpest', 'shatter', 'shave', 'shaved', 'shaven', 'shaver', 'shavetheres', 'shaving', 'shawl', 'shea', 'shear', 'shearer', 'shearing', 'sheen', 'sheep', 'sheer', 'sheet', 'shelf', 'shell', 'shes', 'shield', 'shielding', 'shift', 'shikai', 'shimmering', 'shimmery', 'shine', 'shinghas', 'shining', 'shiny', 'ship', 'shipment', 'shipped', 'shipping', 'shirt', 'shiseido', 'shock', 'shoe', 'shooting', 'shop', 'short', 'shorten', 'shortly', 'shot', 'shou', 'shoulder', 'shouldnt', 'shower', 'showering', 'showing', 'shown', 'showroom', 'shred', 'shredding', 'shu', 'shunk', 'shyams', 'sicap', 'sich', 'sicheren', 'sicilian', 'sideburn', 'sided', 'sightseer', 'sign', 'signal', 'signature', 'significant', 'significantly', 'silent', 'silhouette', 'silica', 'silicate', 'silicone', 'silk', 'silken', 'silkening', 'silky', 'sillcock', 'silver', 'silverware', 'simethicone', 'similar', 'similarly', 'simmondsia', 'simple', 'simplicity', 'simplified', 'simplifies', 'simplify', 'simply', 'simultaneously', 'sinensis', 'singer', 'singha', 'singhas', 'single', 'sink', 'sinus', 'sircuit', 'sisley', 'sissy', 'sister', 'sit', 'site', 'sitosterol', 'sits', 'sitter', 'situation', 'size', 'sized', 'sk', 'ski', 'skill', 'skillbuilder', 'skin', 'skina', 'skincare', 'skinevens', 'skinlastic', 'skinned', 'skinproduct', 'skinthis', 'skip', 'skunk', 'slam', 'slant', 'slap', 'slather', 'sleek', 'sleep', 'sleeping', 'sleeplessness', 'slender', 'slick', 'slide', 'sliding', 'slight', 'slightest', 'slightly', 'slighty', 'slim', 'slimmer', 'slimming', 'sling', 'slip', 'slipper', 'slippery', 'slipping', 'slot', 'slough', 'slow', 'slowly', 'smacker', 'small', 'smaller', 'smart', 'smartpost', 'smartto', 'smarttouch', 'smearproof', 'smell', 'smelling', 'smelly', 'smile', 'smith', 'smoke', 'smoker', 'smoking', 'smooth', 'smoother', 'smoothes', 'smoothest', 'smoothing', 'smoothly', 'smoothness', 'smudge', 'smudgeproof', 'smudging', 'snag', 'snaglessstyling', 'snap', 'snug', 'snuggle', 'soak', 'soaking', 'soap', 'soaping', 'soapmakers', 'soapproduct', 'soar', 'soaring', 'soccer', 'social', 'society', 'sock', 'soda', 'sodium', 'soft', 'soften', 'softener', 'softeness', 'softening', 'softens', 'softer', 'softest', 'softgel', 'softlotion', 'softly', 'softness', 'softsoap', 'soiled', 'soir', 'soiree', 'sold', 'sole', 'solid', 'solingen', 'solstis', 'solubility', 'soluble', 'solution', 'solve', 'solvent', 'solving', 'son', 'song', 'sonia', 'soon', 'sooth', 'soothe', 'soothed', 'soother', 'soothers', 'soothes', 'soothing', 'sophisticated', 'sore', 'soreness', 'sorting', 'sothys', 'souffle', 'soul', 'sound', 'souper', 'sour', 'source', 'sourish', 'southern', 'soy', 'soya', 'soybean', 'sp', 'spa', 'space', 'spaced', 'spacesaver', 'spacial', 'spare', 'sparkle', 'sparkling', 'sparkly', 'sparklycrystal', 'spasm', 'spays', 'speaker', 'spearmint', 'special', 'specialising', 'specialist', 'specially', 'specialty', 'specific', 'specifically', 'specify', 'spectrum', 'speed', 'speedy', 'spend', 'spent', 'speziell', 'spf', 'spherical', 'spice', 'spiciness', 'spicy', 'spicybenefits', 'spider', 'spillno', 'spin', 'spine', 'spiral', 'spirit', 'spirited', 'splash', 'splattering', 'split', 'splitting', 'sponge', 'spongebob', 'spoof', 'spoon', 'spornette', 'spornettes', 'sport', 'sporting', 'spot', 'spotsthis', 'spr', 'sprain', 'spray', 'sprayer', 'spraying', 'spread', 'spreading', 'spring', 'springtime', 'sprinkle', 'sprite', 'spritz', 'spruce', 'spry', 'spun', 'squalane', 'squalene', 'square', 'squared', 'squarepants', 'squeaky', 'squeeze', 'squeezed', 'squeezegenerously', 'squeezing', 'squirt', 'sreareth', 'st', 'stability', 'stabilization', 'stabilize', 'stabilized', 'stabilizes', 'stabilizing', 'stable', 'stage', 'stain', 'staining', 'stainless', 'stair', 'stairlift', 'stairlifts', 'stale', 'stamen', 'stamp', 'stand', 'standard', 'standardized', 'standing', 'star', 'starburst', 'starch', 'stardust', 'starke', 'start', 'started', 'starter', 'stasis', 'state', 'stated', 'statement', 'static', 'station', 'stationary', 'status', 'stay', 'staying', 'steam', 'steamer', 'stearate', 'stearatesilica', 'steareth', 'stearic', 'steartrimonum', 'stearyl', 'steel', 'steelwave', 'steep', 'stegosaurus', 'stemming', 'stencil', 'step', 'steralkonium', 'sterch', 'sterility', 'sterilized', 'sterol', 'stick', 'stickcolor', 'sticker', 'sticky', 'stiff', 'stiffnes', 'stiffness', 'stimulant', 'stimulate', 'stimulated', 'stimulates', 'stimulating', 'stimulation', 'stimulator', 'stimulators', 'stimulus', 'stinging', 'stir', 'stitched', 'stitching', 'stives', 'stock', 'stoma', 'stomach', 'stomachic', 'stone', 'stood', 'stool', 'stop', 'storage', 'store', 'storing', 'story', 'stow', 'straight', 'straighten', 'straightener', 'straighter', 'straightforward', 'strain', 'strand', 'strap', 'stratum', 'strawberry', 'stray', 'streak', 'stream', 'streamlined', 'street', 'strength', 'strengthen', 'strengthening', 'strengthens', 'stress', 'stressed', 'stressful', 'stretch', 'stretchable', 'stretched', 'strict', 'striking', 'strip', 'stripe', 'striped', 'strive', 'strives', 'strkste', 'stroke', 'strong', 'stronger', 'strongest', 'structural', 'structurally', 'structure', 'structured', 'stubble', 'stubbled', 'stubborn', 'stud', 'student', 'studex', 'studied', 'study', 'stuff', 'stuffy', 'stunning', 'sturdy', 'style', 'styled', 'styling', 'stylish', 'stylist', 'stylus', 'styptic', 'styrax', 'suave', 'subgingival', 'sublime', 'submersible', 'subsalicylate', 'substance', 'substanzen', 'substitute', 'subtle', 'subtly', 'succeeded', 'success', 'successful', 'successfully', 'succulent', 'sucking', 'sucrose', 'suction', 'suffer', 'sufficient', 'sugar', 'sugared', 'suggest', 'suggested', 'suggestion', 'suggests', 'suit', 'suitable', 'suitcase', 'suited', 'sulfate', 'sulfide', 'sulfonyl', 'sulfur', 'sultry', 'summarized', 'summer', 'sumptuous', 'sun', 'sunblock', 'sunburn', 'sunburned', 'sunflower', 'sunless', 'sunlight', 'sunnies', 'sunny', 'sunray', 'sunscreen', 'sunshape', 'sunsilk', 'sunslim', 'suntouched', 'sup', 'super', 'superb', 'supercharged', 'superfine', 'superior', 'supermodel', 'supernatural', 'supersaturating', 'supershine', 'superspots', 'supervision', 'supple', 'supplement', 'supplemental', 'supplementproduct', 'suppleness', 'supply', 'support', 'supported', 'supportive', 'supposed', 'suppository', 'suppressed', 'sure', 'surface', 'surfaceadjustable', 'surfaceleaves', 'surgeon', 'surgery', 'surpasses', 'surprise', 'surprising', 'surprisingly', 'surrender', 'surround', 'surrounded', 'surroundings', 'survival', 'suspends', 'suspension', 'sustain', 'sustainability', 'sustainable', 'sustainably', 'sustained', 'sutra', 'svetu', 'swab', 'swallow', 'swallowed', 'swallowing', 'swanson', 'swap', 'sweat', 'sweep', 'sweet', 'sweeten', 'sweetened', 'sweetener', 'sweetly', 'sweetness', 'swell', 'swelling', 'swept', 'swim', 'swimmer', 'swimming', 'swimsuit', 'swing', 'swirl', 'swirling', 'swiss', 'swisspers', 'switch', 'switzerland', 'swivel', 'swiveled', 'swollen', 'sx', 'symbol', 'symmetrical', 'symphonic', 'symptom', 'synchronization', 'synergistic', 'synergistically', 'synthe', 'synthesis', 'synthesized', 'synthetic', 'syringe', 'syrupy', 'systematically', 'systemic', 'systemour', 'systemthe', 'systm', 'systme', 'tab', 'table', 'tablet', 'tackle', 'tact', 'tag', 'tail', 'tailbone', 'tailored', 'takara', 'taken', 'taking', 'taklon', 'talc', 'talking', 'tall', 'tamarind', 'tame', 'tamer', 'tames', 'tampon', 'tan', 'tangerine', 'tangle', 'tangling', 'tangy', 'tank', 'tanned', 'tanner', 'tanning', 'tanproduct', 'tantalizing', 'tantrum', 'tao', 'taoist', 'tap', 'tape', 'tapered', 'tar', 'tare', 'target', 'targeted', 'targeting', 'tarragon', 'tartar', 'task', 'taste', 'tasting', 'taupe', 'taut', 'tawny', 'tbl', 'tbsp', 'tcf', 'te', 'tea', 'teaching', 'teak', 'teaox', 'tear', 'teardrop', 'tech', 'technical', 'technically', 'technician', 'technique', 'technological', 'technology', 'teen', 'teenage', 'teeth', 'telemetry', 'tell', 'telltale', 'temper', 'temperament', 'temperature', 'temple', 'temporarily', 'temporary', 'temptation', 'tempted', 'tempting', 'tenacious', 'tendency', 'tender', 'tends', 'tenor', 'tension', 'tepid', 'teqie', 'terax', 'term', 'terminated', 'terra', 'terracotta', 'terribly', 'territory', 'terry', 'test', 'tested', 'testedproduct', 'testing', 'testingcaution', 'testinghow', 'testosterone', 'text', 'textilmaterial', 'texture', 'textured', 'textureenhances', 'texturing', 'texturized', 'th', 'thailand', 'thank', 'thanks', 'thatconforms', 'thats', 'thaw', 'thawing', 'thc', 'theforks', 'theme', 'therapeutic', 'therapie', 'therapist', 'therapy', 'theratears', 'therell', 'thermal', 'thermo', 'theyre', 'theyve', 'thi', 'thickener', 'thickens', 'thicker', 'thief', 'thigh', 'thing', 'thinking', 'thinner', 'thinning', 'thirsty', 'thisilyn', 'thorough', 'thoroughly', 'thought', 'thousand', 'threw', 'throat', 'throught', 'thumb', 'thursday', 'thyme', 'thymesuggested', 'thymus', 'ti', 'tiara', 'tibetan', 'tick', 'tidy', 'tied', 'tieng', 'tige', 'tiger', 'tight', 'tighten', 'tightening', 'tightens', 'tighter', 'tightly', 'tigi', 'tile', 'till', 'tilt', 'tilth', 'time', 'timeless', 'tin', 'tincture', 'tinea', 'tingle', 'tingling', 'tint', 'tinted', 'tinteven', 'tiny', 'tip', 'tipped', 'tired', 'tiredness', 'tissue', 'titania', 'titanium', 'titillating', 'title', 'tm', 'toast', 'tobacco', 'tocopherol', 'tocopheryl', 'today', 'toe', 'toenail', 'toilet', 'toileting', 'toiletry', 'toilette', 'tolerance', 'tolerant', 'tolerated', 'toll', 'toluene', 'tom', 'tommy', 'ton', 'tone', 'toned', 'toneproduct', 'toneprotectlike', 'toner', 'tongue', 'tonic', 'tonify', 'tonight', 'toning', 'tonka', 'took', 'tool', 'tooth', 'toothbrush', 'toothed', 'toothpaste', 'toothpick', 'topical', 'topically', 'topper', 'tortoise', 'total', 'totally', 'tote', 'touch', 'touchable', 'touchably', 'touching', 'tough', 'toughest', 'toughness', 'tourmaline', 'towel', 'towelettes', 'toweling', 'town', 'toxic', 'toxicity', 'toxin', 'toy', 'trace', 'tracing', 'track', 'tract', 'trade', 'traded', 'trademark', 'tradition', 'traditional', 'traditionally', 'train', 'training', 'trainr', 'transfer', 'transferring', 'transform', 'transformation', 'transforms', 'transit', 'transition', 'transitioning', 'translucent', 'transmitter', 'transparency', 'transparent', 'transport', 'transporteur', 'trap', 'traumatized', 'trav', 'travel', 'traveler', 'traveling', 'travelling', 'tray', 'treat', 'treated', 'treating', 'treatment', 'tree', 'tremor', 'tress', 'tri', 'trial', 'triangle', 'tribe', 'trichloroethylene', 'triclosan', 'triclosanwhat', 'tricot', 'triethanolamine', 'triethanolomine', 'trigger', 'triggering', 'triglyceride', 'trim', 'trimester', 'trimmed', 'trimmer', 'trimming', 'trimonium', 'trip', 'triphala', 'triple', 'triterpenes', 'tropical', 'trouble', 'troubleshooting', 'trough', 'troy', 'true', 'truly', 'trumper', 'trunk', 'trussardi', 'trust', 'trusted', 'try', 'trying', 'tsa', 'tss', 'tub', 'tube', 'tuberose', 'tubing', 'tuck', 'tuckable', 'tuft', 'tugging', 'tula', 'tumble', 'tune', 'tunesbrush', 'tunisian', 'turbo', 'turbofile', 'turkish', 'turmeric', 'turn', 'turnaround', 'turned', 'turning', 'turquoise', 'turtle', 'tuscan', 'tush', 'tweezer', 'twice', 'twig', 'twin', 'twist', 'twisting', 'type', 'typesproduct', 'typessoothes', 'typical', 'typing', 'tyrosine', 'ue', 'uemura', 'ugly', 'uhs', 'uk', 'ul', 'ulcer', 'ultimate', 'ultra', 'ultrafine', 'ultrafloss', 'ultramarine', 'ultraviolet', 'um', 'umbrella', 'unadulterated', 'unattended', 'unauthorized', 'unboxed', 'unbreakable', 'uncertain', 'unchanged', 'uncle', 'unclogging', 'unclogs', 'uncomfortable', 'uncontained', 'uncovers', 'und', 'underarm', 'underarms', 'undereye', 'underneath', 'underpad', 'underside', 'understand', 'understanding', 'undertone', 'underwear', 'undetectable', 'unequalled', 'unevenness', 'unexpected', 'unexpectedly', 'unforgettable', 'unforgivable', 'unfortunately', 'ungaro', 'ungus', 'uniform', 'uniformly', 'unimark', 'union', 'unique', 'uniquely', 'unisex', 'unit', 'united', 'universal', 'unlike', 'unlikely', 'unmatched', 'unmistakable', 'unmistakably', 'unnecessary', 'unparalleled', 'unpleasant', 'unplug', 'unprecedented', 'unrefined', 'unrestrained', 'unsaturated', 'unscented', 'unscrubbed', 'unsightly', 'unsurpassed', 'unveil', 'unwanted', 'unwind', 'uom', 'upakovano', 'upc', 'update', 'updated', 'upf', 'upgrade', 'upholstery', 'upkeep', 'uplifting', 'upper', 'upright', 'ups', 'upset', 'upside', 'upward', 'uranium', 'urban', 'urbans', 'urea', 'urethra', 'urge', 'urinary', 'urine', 'usa', 'usad', 'usaphthalate', 'usda', 'use', 'useful', 'usefulness', 'user', 'usesuse', 'useto', 'usitatissimum', 'usmle', 'usp', 'usually', 'utah', 'utensil', 'utensilshave', 'uterine', 'uterus', 'utilizes', 'utilizing', 'utmost', 'uv', 'uva', 'uvb', 'vac', 'vacation', 'vacuum', 'vacuuming', 'valance', 'valle', 'valley', 'valobra', 'valuable', 'value', 'valve', 'vanilla', 'vanille', 'vanish', 'vanishing', 'vanity', 'variation', 'varicose', 'varied', 'varies', 'variety', 'vary', 'varying', 'vc', 'vec', 'vegan', 'vegetable', 'vegetarian', 'vegetation', 'vegicap', 'vehicle', 'veil', 'vein', 'velcro', 'velform', 'velika', 'velour', 'velva', 'velvet', 'velvety', 'vent', 'vented', 'ventricular', 'venus', 'vera', 'verano', 'verbal', 'verbena', 'versatile', 'versatility', 'verseo', 'version', 'versorgung', 'vert', 'vertically', 'vertigo', 'vessel', 'vetiver', 'vhs', 'viacom', 'vial', 'vibe', 'vibrance', 'vibrancy', 'vibrant', 'vibrate', 'vibrates', 'vibration', 'vicinity', 'victim', 'victoria', 'video', 'view', 'viewing', 'vignelli', 'vigorousproduct', 'village', 'vine', 'vinegar', 'vintage', 'vinyl', 'violet', 'violinist', 'virgin', 'virginia', 'virtual', 'virtually', 'virus', 'visceral', 'viscosity', 'vise', 'visible', 'visibly', 'vision', 'visit', 'visual', 'vit', 'vita', 'vitabath', 'vital', 'vitality', 'vitalizing', 'vitamin', 'vits', 'viva', 'vivid', 'vodka', 'vogue', 'voice', 'volt', 'voltage', 'volume', 'voluminous', 'volumizer', 'volumizing', 'voluptuous', 'von', 'vor', 'voted', 'votivo', 'vous', 'vulgaris', 'waffle', 'wait', 'wakasa', 'walk', 'walker', 'wall', 'wallet', 'walnut', 'wand', 'wang', 'want', 'wanted', 'warfare', 'warm', 'warmer', 'warming', 'warms', 'warmth', 'warning', 'warranty', 'warrantyrequires', 'wart', 'wartenberg', 'wash', 'washable', 'washcloth', 'washdrop', 'washed', 'washer', 'washing', 'waste', 'watcher', 'water', 'waterbase', 'watermelon', 'waterproof', 'watery', 'watt', 'wave', 'waved', 'waveform', 'wavy', 'wax', 'waxedpipe', 'waxing', 'waxless', 'waxnwaxing', 'way', 'wchich', 'weak', 'weakened', 'weakness', 'weapon', 'wear', 'wearer', 'wearersproduct', 'wearing', 'weary', 'weather', 'weave', 'web', 'website', 'wedding', 'wedge', 'wee', 'week', 'weekend', 'weigh', 'weighing', 'weighs', 'weight', 'weighted', 'weightless', 'welcoming', 'weleda', 'weledas', 'wellness', 'went', 'weomen', 'wernets', 'westwood', 'wet', 'wetness', 'weve', 'whats', 'wheat', 'wheatgerm', 'wheel', 'wheelchair', 'whenapplyingany', 'whip', 'whipped', 'whisker', 'whisper', 'white', 'whiten', 'whitening', 'whitens', 'whiter', 'whitestrips', 'wholeness', 'wholesale', 'wibi', 'wick', 'wickelbar', 'wicking', 'wide', 'widely', 'wider', 'widerstandfhig', 'widest', 'width', 'wie', 'wielded', 'wife', 'wig', 'wiggle', 'wih', 'wild', 'wilkinson', 'willard', 'willing', 'willingness', 'willow', 'wind', 'window', 'windshield', 'windsor', 'wine', 'winning', 'winter', 'wintergreen', 'wipe', 'wire', 'wirkung', 'wirtz', 'wisdom', 'wise', 'wiseways', 'wish', 'wisp', 'wisteria', 'witch', 'withexfoliating', 'withstand', 'wobbly', 'woman', 'womenproduct', 'womensweet', 'wonder', 'wonderful', 'wonderfully', 'wondering', 'wont', 'wood', 'wooden', 'woodland', 'woodsy', 'woody', 'woodys', 'wool', 'word', 'work', 'workbook', 'worked', 'worker', 'working', 'workout', 'workshop', 'world', 'worldwide', 'worn', 'worried', 'worry', 'worse', 'worsen', 'worsens', 'wort', 'worth', 'wound', 'woundcare', 'woven', 'wrap', 'wrapped', 'wrapper', 'wrinkle', 'wrinkling', 'wrist', 'writing', 'wrong', 'wt', 'wu', 'www', 'xa', 'xae', 'xanthan', 'xcelerator', 'xd', 'xl', 'xlcc', 'xld', 'xylitol', 'xylitolapple', 'xyliwhite', 'yacht', 'yam', 'yanaver', 'yard', 'yardleylondon', 'yarn', 'yarrow', 'year', 'yearning', 'yeast', 'yelling', 'yellow', 'yellowing', 'yield', 'ylang', 'yogurt', 'york', 'youll', 'young', 'younger', 'youre', 'youth', 'youthful', 'youthfulness', 'youv', 'youve', 'yum', 'yume', 'yummy', 'yun', 'yuzu', 'yves', 'zadruga', 'zafu', 'zapzyt', 'zealand', 'zeaxanthin', 'zenmed', 'zents', 'zero', 'zest', 'zesty', 'zia', 'zias', 'zinc', 'zing', 'zip', 'zipper', 'zippered', 'zone', 'zoom', 'zum', 'zur', 'zuverlssigkeit']\n",
      "WARNING: Anchor word not in word column labels provided to CorEx: reduced packaging\n",
      "WARNING: Anchor word not in word column labels provided to CorEx: plastic free\n",
      "WARNING: Anchor word not in word column labels provided to CorEx: sustainably sourced\n",
      "WARNING: Anchor word not in word column labels provided to CorEx: compostable\n",
      "WARNING: Anchor word not in word column labels provided to CorEx: renewable\n",
      "WARNING: Anchor word not in word column labels provided to CorEx: renewable energy\n",
      "WARNING: Anchor word not in word column labels provided to CorEx: refillable\n",
      "WARNING: Anchor word not in word column labels provided to CorEx: solid bar\n",
      "WARNING: Anchor word not in word column labels provided to CorEx: cardboard\n",
      "WARNING: Anchor word not in word column labels provided to CorEx: reef safe\n",
      "WARNING: Anchor word not in word column labels provided to CorEx: reef friendly\n",
      "WARNING: Anchor word not in word column labels provided to CorEx: oxybenzone free\n",
      "WARNING: Anchor word not in word column labels provided to CorEx: triclosan free\n",
      "WARNING: Anchor word not in word column labels provided to CorEx: microplastics free\n",
      "WARNING: Anchor word not in word column labels provided to CorEx: microbeads free\n",
      "WARNING: Anchor word not in word column labels provided to CorEx: palm oil free\n",
      "WARNING: Anchor word not in word column labels provided to CorEx: hdpe\n",
      "WARNING: Anchor word not in word column labels provided to CorEx: post consumer recycled plastic\n",
      "WARNING: Anchor word not in word column labels provided to CorEx: renewable energy\n",
      "WARNING: Anchor word not in word column labels provided to CorEx: recycling scheme\n",
      "WARNING: Anchor word not in word column labels provided to CorEx: sustainably sourced\n",
      "WARNING: Anchor word not in word column labels provided to CorEx: low impact\n",
      "WARNING: Anchor word not in word column labels provided to CorEx: carbon neutral\n",
      "WARNING: Anchor word not in word column labels provided to CorEx: carbon offsetting\n",
      "WARNING: Anchor word not in word column labels provided to CorEx: soil association\n",
      "WARNING: Anchor word not in word column labels provided to CorEx: cosmos\n",
      "WARNING: Anchor word not in word column labels provided to CorEx: natrue\n",
      "WARNING: Anchor word not in word column labels provided to CorEx: rspo\n",
      "WARNING: Anchor word not in word column labels provided to CorEx: fsc\n",
      "WARNING: Anchor word not in word column labels provided to CorEx: no animal testing\n",
      "WARNING: Anchor word not in word column labels provided to CorEx: cruelty free\n",
      "WARNING: Anchor word not in word column labels provided to CorEx: plant based\n",
      "WARNING: Anchor word not in word column labels provided to CorEx: palm oil free\n",
      "WARNING: Anchor word not in word column labels provided to CorEx: ethical\n",
      "WARNING: Anchor word not in word column labels provided to CorEx: vegan society\n",
      "WARNING: Anchor word not in word column labels provided to CorEx: peta\n",
      "WARNING: Anchor word not in word column labels provided to CorEx: leaping bunny\n",
      "WARNING: Anchor word not in word column labels provided to CorEx: fair trade\n",
      "WARNING: Anchor word not in word column labels provided to CorEx: small business\n",
      "WARNING: Anchor word not in word column labels provided to CorEx: fair trade\n",
      "WARNING: Anchor word not in word column labels provided to CorEx: renewable energy\n",
      "WARNING: Anchor word not in word column labels provided to CorEx: circular economy\n",
      "WARNING: Anchor word not in word column labels provided to CorEx: locally sourced\n",
      "WARNING: Anchor word not in word column labels provided to CorEx: small business\n",
      "WARNING: Anchor word not in word column labels provided to CorEx: job creation\n",
      "WARNING: Anchor word not in word column labels provided to CorEx: non toxic\n",
      "WARNING: Anchor word not in word column labels provided to CorEx: plant based\n",
      "WARNING: Anchor word not in word column labels provided to CorEx: paraben free\n",
      "WARNING: Anchor word not in word column labels provided to CorEx: triclosan free\n",
      "WARNING: Anchor word not in word column labels provided to CorEx: fragrance free\n",
      "WARNING: Anchor word not in word column labels provided to CorEx: synthetic fragrance free\n",
      "WARNING: Anchor word not in word column labels provided to CorEx: sl free\n",
      "WARNING: Anchor word not in word column labels provided to CorEx: phthalates free\n",
      "WARNING: Anchor word not in word column labels provided to CorEx: nanoparticles free\n",
      "WARNING: Anchor word not in word column labels provided to CorEx: non nano\n",
      "WARNING: Anchor word not in word column labels provided to CorEx: formaldehyde free\n",
      "WARNING: Anchor word not in word column labels provided to CorEx: phthalates free\n",
      "WARNING: Anchor word not in word column labels provided to CorEx: no gmo\n",
      "WARNING: Anchor word not in word column labels provided to CorEx: soil association\n",
      "WARNING: Anchor word not in word column labels provided to CorEx: cosmos\n",
      "WARNING: Anchor word not in word column labels provided to CorEx: natrue\n"
     ]
    }
   ],
   "source": [
    "###############################################################\n",
    "#                      CorEx                                  #\n",
    "# Code based on\n",
    "# https://github.com/gregversteeg/corex_topic/blob/master/corextopic/example/corex_topic_example.ipynb\n",
    "\n",
    "# Setting anchor words for corEx\n",
    "# Anchor with group of words\n",
    "anchor_words = [clean_enviro, clean_social, clean_economic, clean_health]\n",
    "\n",
    "#------------------------------------------------------\n",
    "#                   Vectorisation\n",
    "# fow working with sparse arrays\n",
    "import scipy.sparse as ss\n",
    "\n",
    "# Vectorisation\n",
    "from sklearn.feature_extraction.text import CountVectorizer\n",
    "\n",
    "# Vectorise the dataset\n",
    "\n",
    "# TODO double check which stopwords removed no need for stop_words='englsih' because those are removed already \n",
    "# Give better results with them \n",
    "# TODO but need to check about NEGATIVES with it and wihtouth it\n",
    "# TODO check if max_features=20000 is needed, if there is a point to use it as it will select top words from everything, number might need adjusting\n",
    "# TODO invest9gate the chance of using Max_df to remove some words with high frequency\n",
    "# binary set to True because this takes frequesncy of each word into account (for GLDA this need to be set to default false as it only accepts 0 or 1)\n",
    "vectorizer = CountVectorizer(stop_words='english', binary=True)         \n",
    "\n",
    "doc_word = vectorizer.fit_transform(df[\"clean_description\"]) # dont need .data cuz we have dataframe\n",
    "# Transform descriptions into a sparse matrix\n",
    "doc_word = ss.csr_matrix(doc_word)\n",
    "\n",
    "doc_word.shape # n_docs x m_words\n",
    "\n",
    "# TODO should I be adding my seedwords to the vocabulary?\n",
    "# Getting words for labeling the columns of the matrix\n",
    "words = list(np.asarray(vectorizer.get_feature_names_out()))\n",
    "print(words)\n",
    "#-----------------------------------------------------\n",
    "#           COREX\n",
    "import corextopic.corextopic as ct\n",
    "\n",
    "# TODO experiment with anchor strength\n",
    "anchored_topic_model = ct.Corex(n_hidden=4, seed=2)\n",
    "anchored_topic_model.fit(doc_word, words=words, anchors=anchor_words, anchor_strength=5);\n",
    "\n"
   ]
  },
  {
   "cell_type": "code",
   "execution_count": 42,
   "metadata": {},
   "outputs": [
    {
     "name": "stdout",
     "output_type": "stream",
     "text": [
      "0: organic, refill, reusable, biodegradable, sustainable, reduced, hot, blood, peppermint, increase\n",
      "1: hand, vegan, local, oilyskin, whenapplyingany, similarly, consider, instance, alter, affect\n",
      "2: blade, shave, trimmer, head, norelco, razor, shaving, norelcos, shaver, cordless\n",
      "3: organic, skin, ingredient, oil, vitamin, product, extract, natural, soothing, help\n"
     ]
    }
   ],
   "source": [
    "#               Corex output\n",
    "\n",
    "for n in range(len(anchor_words)):\n",
    "    topic_words,_,_ = zip(*anchored_topic_model.get_topics(topic=n))\n",
    "    print('{}: '.format(n) + ', '.join(topic_words))\n"
   ]
  },
  {
   "cell_type": "code",
   "execution_count": null,
   "metadata": {},
   "outputs": [],
   "source": [
    "'''\n",
    "Withouth spell check\n",
    "\n",
    "0: organic, fragrance, biodegradable, launched, house, note, scent, recommended, blend, refill\n",
    "1: hand, vegan, trimmer, cordless, head, shaving, blade, shave, system, norelco\n",
    "2: local, diet, aging, similarly, consider, instance, whenapplyingany, alter, oilyskin, chemistry\n",
    "3: organic, vitamin, oil, ingredient, skin, extract, natural, animal, product, healthy\n",
    "'''"
   ]
  },
  {
   "cell_type": "code",
   "execution_count": 46,
   "metadata": {},
   "outputs": [
    {
     "data": {
      "text/plain": [
       "[('hand', 0.8456658970704904, 1.0),\n",
       " ('vegan', 0.1483173044461751, 1.0),\n",
       " ('local', 0.04009181540524613, 1.0),\n",
       " ('oilyskin', 0.02966346088923502, 1.0),\n",
       " ('whenapplyingany', 0.02966346088923502, 1.0),\n",
       " ('similarly', 0.02966346088923502, 1.0),\n",
       " ('consider', 0.02966346088923502, 1.0),\n",
       " ('instance', 0.02966346088923502, 1.0),\n",
       " ('alter', 0.02966346088923502, 1.0),\n",
       " ('affect', 0.02892167026902224, 1.0)]"
      ]
     },
     "execution_count": 46,
     "metadata": {},
     "output_type": "execute_result"
    }
   ],
   "source": [
    "# Show top words for selected topic, number is \"highest mutual information with the topic\"\n",
    "anchored_topic_model.get_topics(topic=1, n_words=10)"
   ]
  },
  {
   "cell_type": "code",
   "execution_count": 43,
   "metadata": {},
   "outputs": [
    {
     "name": "stdout",
     "output_type": "stream",
     "text": [
      "NOTE: 'docs' not provided to CorEx. Returning top docs as lists of row indices\n"
     ]
    },
    {
     "data": {
      "text/plain": [
       "[(428, -37.976977830299944),\n",
       " (50, -38.454266672802284),\n",
       " (547, -38.81289322003444),\n",
       " (218, -39.14284035723783),\n",
       " (948, -39.346430540696154),\n",
       " (778, -39.45691695953759),\n",
       " (955, -39.51191568196159),\n",
       " (939, -39.618106745152616),\n",
       " (359, -39.93467544486075),\n",
       " (659, -40.55792350642572),\n",
       " (653, -40.84025594459864),\n",
       " (96, -41.01205013487814),\n",
       " (302, -41.95187989288415),\n",
       " (660, -41.997491785255235),\n",
       " (822, -42.05209164447969),\n",
       " (504, -42.064994052499195),\n",
       " (342, -43.035552872126104),\n",
       " (720, -45.56926774170902),\n",
       " (898, -47.95725311867178),\n",
       " (62, -48.4424986918038)]"
      ]
     },
     "execution_count": 43,
     "metadata": {},
     "output_type": "execute_result"
    }
   ],
   "source": [
    "# Show all documents for each topic\n",
    "# TODO what is exactly this number?\n",
    "anchored_topic_model.get_top_docs(topic=1, n_docs=10000, sort_by='log_prob')[-20:]"
   ]
  },
  {
   "cell_type": "code",
   "execution_count": null,
   "metadata": {},
   "outputs": [],
   "source": [
    "# from https://www.kaggle.com/code/nvpsani/topic-modelling-using-guided-lda\n",
    "# used workaround as well\n",
    "\n",
    "import numpy as np\n",
    "from lda import guidedlda as glda\n",
    "\n",
    "model = glda.GuidedLDA(n_topics=4, n_iter=2000, random_state=7, refresh=20,alpha=0.01,eta=0.01)\n"
   ]
  }
 ],
 "metadata": {
  "kernelspec": {
   "display_name": "Python 3",
   "language": "python",
   "name": "python3"
  },
  "language_info": {
   "codemirror_mode": {
    "name": "ipython",
    "version": 3
   },
   "file_extension": ".py",
   "mimetype": "text/x-python",
   "name": "python",
   "nbconvert_exporter": "python",
   "pygments_lexer": "ipython3",
   "version": "3.11.8"
  }
 },
 "nbformat": 4,
 "nbformat_minor": 2
}
