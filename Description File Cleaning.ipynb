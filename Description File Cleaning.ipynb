{
 "cells": [
  {
   "cell_type": "code",
   "execution_count": 1,
   "metadata": {},
   "outputs": [
    {
     "name": "stderr",
     "output_type": "stream",
     "text": [
      "C:\\Users\\Lenovo\\AppData\\Local\\Temp\\ipykernel_38108\\2769020576.py:5: DeprecationWarning: \n",
      "Pyarrow will become a required dependency of pandas in the next major release of pandas (pandas 3.0),\n",
      "(to allow more performant data types, such as the Arrow string type, and better interoperability with other libraries)\n",
      "but was not found to be installed on your system.\n",
      "If this would cause problems for you,\n",
      "please provide us feedback at https://github.com/pandas-dev/pandas/issues/54466\n",
      "        \n",
      "  import pandas as pd\n"
     ]
    }
   ],
   "source": [
    "# Importing metadata zip file and converting it to dataframe\n",
    "\n",
    "import json\n",
    "import gzip\n",
    "import pandas as pd\n",
    "\n",
    "def getDF(path):\n",
    "  # Unzip the file, load in each line as an object\n",
    "  g = gzip.open(path, 'rb')\n",
    "  g = [json.loads(l) for l in g]\n",
    "\n",
    "  # Map to a dictionary, then load in as a dataframe\n",
    "  dict_df = {i: d for (i, d) in enumerate(g)}\n",
    "  return pd.DataFrame.from_dict(dict_df, orient='index')\n",
    "\n",
    "df = getDF('meta_ALL_Beauty.json.gz')"
   ]
  },
  {
   "cell_type": "code",
   "execution_count": 2,
   "metadata": {},
   "outputs": [
    {
     "data": {
      "text/html": [
       "<div>\n",
       "<style scoped>\n",
       "    .dataframe tbody tr th:only-of-type {\n",
       "        vertical-align: middle;\n",
       "    }\n",
       "\n",
       "    .dataframe tbody tr th {\n",
       "        vertical-align: top;\n",
       "    }\n",
       "\n",
       "    .dataframe thead th {\n",
       "        text-align: right;\n",
       "    }\n",
       "</style>\n",
       "<table border=\"1\" class=\"dataframe\">\n",
       "  <thead>\n",
       "    <tr style=\"text-align: right;\">\n",
       "      <th></th>\n",
       "      <th>description</th>\n",
       "      <th>asin</th>\n",
       "    </tr>\n",
       "  </thead>\n",
       "  <tbody>\n",
       "    <tr>\n",
       "      <th>count</th>\n",
       "      <td>32892</td>\n",
       "      <td>32892</td>\n",
       "    </tr>\n",
       "    <tr>\n",
       "      <th>unique</th>\n",
       "      <td>13751</td>\n",
       "      <td>32488</td>\n",
       "    </tr>\n",
       "    <tr>\n",
       "      <th>top</th>\n",
       "      <td>[]</td>\n",
       "      <td>B00027CDOW</td>\n",
       "    </tr>\n",
       "    <tr>\n",
       "      <th>freq</th>\n",
       "      <td>17773</td>\n",
       "      <td>2</td>\n",
       "    </tr>\n",
       "  </tbody>\n",
       "</table>\n",
       "</div>"
      ],
      "text/plain": [
       "       description        asin\n",
       "count        32892       32892\n",
       "unique       13751       32488\n",
       "top             []  B00027CDOW\n",
       "freq         17773           2"
      ]
     },
     "execution_count": 2,
     "metadata": {},
     "output_type": "execute_result"
    }
   ],
   "source": [
    "\n",
    "# Selecting only the colums that are required for analysis\n",
    "\n",
    "colums_description_asin = [\"description\",\"asin\"]\n",
    "df = df[colums_description_asin]\n",
    "\n",
    "df.describe()"
   ]
  },
  {
   "cell_type": "code",
   "execution_count": 3,
   "metadata": {},
   "outputs": [],
   "source": [
    "# Descriptions in the json file are a list of strings, converting to sting for easy cleaning\n",
    "df[\"newdescription\"] = df.description.map(lambda x: \".\".join(x).replace(\"\\n\",\"\"))\n"
   ]
  },
  {
   "cell_type": "code",
   "execution_count": 4,
   "metadata": {},
   "outputs": [
    {
     "name": "stdout",
     "output_type": "stream",
     "text": [
      "15108\n"
     ]
    }
   ],
   "source": [
    "# Remove empty descriptions\n",
    "df = df.drop(df[df[\"newdescription\"] == \"\"].index)\n",
    "\n",
    "print(len(df)) \n",
    "\n"
   ]
  },
  {
   "cell_type": "code",
   "execution_count": 5,
   "metadata": {},
   "outputs": [
    {
     "data": {
      "text/html": [
       "<div>\n",
       "<style scoped>\n",
       "    .dataframe tbody tr th:only-of-type {\n",
       "        vertical-align: middle;\n",
       "    }\n",
       "\n",
       "    .dataframe tbody tr th {\n",
       "        vertical-align: top;\n",
       "    }\n",
       "\n",
       "    .dataframe thead th {\n",
       "        text-align: right;\n",
       "    }\n",
       "</style>\n",
       "<table border=\"1\" class=\"dataframe\">\n",
       "  <thead>\n",
       "    <tr style=\"text-align: right;\">\n",
       "      <th></th>\n",
       "      <th>description</th>\n",
       "      <th>asin</th>\n",
       "      <th>newdescription</th>\n",
       "    </tr>\n",
       "  </thead>\n",
       "  <tbody>\n",
       "    <tr>\n",
       "      <th>count</th>\n",
       "      <td>14821</td>\n",
       "      <td>14821</td>\n",
       "      <td>14821</td>\n",
       "    </tr>\n",
       "    <tr>\n",
       "      <th>unique</th>\n",
       "      <td>13749</td>\n",
       "      <td>14821</td>\n",
       "      <td>13743</td>\n",
       "    </tr>\n",
       "    <tr>\n",
       "      <th>top</th>\n",
       "      <td>[For over 60 years, Betty Dain Creations, Inc....</td>\n",
       "      <td>6546546450</td>\n",
       "      <td>For over 60 years, Betty Dain Creations, Inc. ...</td>\n",
       "    </tr>\n",
       "    <tr>\n",
       "      <th>freq</th>\n",
       "      <td>59</td>\n",
       "      <td>1</td>\n",
       "      <td>59</td>\n",
       "    </tr>\n",
       "  </tbody>\n",
       "</table>\n",
       "</div>"
      ],
      "text/plain": [
       "                                              description        asin  \\\n",
       "count                                               14821       14821   \n",
       "unique                                              13749       14821   \n",
       "top     [For over 60 years, Betty Dain Creations, Inc....  6546546450   \n",
       "freq                                                   59           1   \n",
       "\n",
       "                                           newdescription  \n",
       "count                                               14821  \n",
       "unique                                              13743  \n",
       "top     For over 60 years, Betty Dain Creations, Inc. ...  \n",
       "freq                                                   59  "
      ]
     },
     "execution_count": 5,
     "metadata": {},
     "output_type": "execute_result"
    }
   ],
   "source": [
    "# Remove duplicate asin so can have only unique products\n",
    "df[df.duplicated(\"asin\")]\n",
    "df = df.drop_duplicates(\"asin\", keep=\"last\")\n",
    "df.describe()"
   ]
  },
  {
   "cell_type": "code",
   "execution_count": 6,
   "metadata": {},
   "outputs": [
    {
     "data": {
      "text/html": [
       "<div>\n",
       "<style scoped>\n",
       "    .dataframe tbody tr th:only-of-type {\n",
       "        vertical-align: middle;\n",
       "    }\n",
       "\n",
       "    .dataframe tbody tr th {\n",
       "        vertical-align: top;\n",
       "    }\n",
       "\n",
       "    .dataframe thead th {\n",
       "        text-align: right;\n",
       "    }\n",
       "</style>\n",
       "<table border=\"1\" class=\"dataframe\">\n",
       "  <thead>\n",
       "    <tr style=\"text-align: right;\">\n",
       "      <th></th>\n",
       "      <th>description</th>\n",
       "      <th>asin</th>\n",
       "      <th>newdescription</th>\n",
       "    </tr>\n",
       "  </thead>\n",
       "  <tbody>\n",
       "    <tr>\n",
       "      <th>count</th>\n",
       "      <td>13743</td>\n",
       "      <td>13743</td>\n",
       "      <td>13743</td>\n",
       "    </tr>\n",
       "    <tr>\n",
       "      <th>unique</th>\n",
       "      <td>13743</td>\n",
       "      <td>13743</td>\n",
       "      <td>13743</td>\n",
       "    </tr>\n",
       "    <tr>\n",
       "      <th>top</th>\n",
       "      <td>[Loud 'N Clear Personal Sound Amplifier allows...</td>\n",
       "      <td>6546546450</td>\n",
       "      <td>Loud 'N Clear Personal Sound Amplifier allows ...</td>\n",
       "    </tr>\n",
       "    <tr>\n",
       "      <th>freq</th>\n",
       "      <td>1</td>\n",
       "      <td>1</td>\n",
       "      <td>1</td>\n",
       "    </tr>\n",
       "  </tbody>\n",
       "</table>\n",
       "</div>"
      ],
      "text/plain": [
       "                                              description        asin  \\\n",
       "count                                               13743       13743   \n",
       "unique                                              13743       13743   \n",
       "top     [Loud 'N Clear Personal Sound Amplifier allows...  6546546450   \n",
       "freq                                                    1           1   \n",
       "\n",
       "                                           newdescription  \n",
       "count                                               13743  \n",
       "unique                                              13743  \n",
       "top     Loud 'N Clear Personal Sound Amplifier allows ...  \n",
       "freq                                                    1  "
      ]
     },
     "execution_count": 6,
     "metadata": {},
     "output_type": "execute_result"
    }
   ],
   "source": [
    "# Remove duplicate description\n",
    "df[df.duplicated(\"newdescription\")]\n",
    "df = df.drop_duplicates(\"newdescription\", keep=\"last\")\n",
    "df.describe() "
   ]
  },
  {
   "cell_type": "code",
   "execution_count": 7,
   "metadata": {},
   "outputs": [
    {
     "data": {
      "text/html": [
       "<div>\n",
       "<style scoped>\n",
       "    .dataframe tbody tr th:only-of-type {\n",
       "        vertical-align: middle;\n",
       "    }\n",
       "\n",
       "    .dataframe tbody tr th {\n",
       "        vertical-align: top;\n",
       "    }\n",
       "\n",
       "    .dataframe thead th {\n",
       "        text-align: right;\n",
       "    }\n",
       "</style>\n",
       "<table border=\"1\" class=\"dataframe\">\n",
       "  <thead>\n",
       "    <tr style=\"text-align: right;\">\n",
       "      <th></th>\n",
       "      <th>newdescription</th>\n",
       "      <th>asin</th>\n",
       "    </tr>\n",
       "  </thead>\n",
       "  <tbody>\n",
       "    <tr>\n",
       "      <th>count</th>\n",
       "      <td>13743</td>\n",
       "      <td>13743</td>\n",
       "    </tr>\n",
       "    <tr>\n",
       "      <th>unique</th>\n",
       "      <td>13743</td>\n",
       "      <td>13743</td>\n",
       "    </tr>\n",
       "    <tr>\n",
       "      <th>top</th>\n",
       "      <td>Loud 'N Clear Personal Sound Amplifier allows ...</td>\n",
       "      <td>6546546450</td>\n",
       "    </tr>\n",
       "    <tr>\n",
       "      <th>freq</th>\n",
       "      <td>1</td>\n",
       "      <td>1</td>\n",
       "    </tr>\n",
       "  </tbody>\n",
       "</table>\n",
       "</div>"
      ],
      "text/plain": [
       "                                           newdescription        asin\n",
       "count                                               13743       13743\n",
       "unique                                              13743       13743\n",
       "top     Loud 'N Clear Personal Sound Amplifier allows ...  6546546450\n",
       "freq                                                    1           1"
      ]
     },
     "execution_count": 7,
     "metadata": {},
     "output_type": "execute_result"
    }
   ],
   "source": [
    "# Removing redundant old description column\n",
    "colums_description_asin = [\"newdescription\",\"asin\"]\n",
    "df = df[colums_description_asin]\n",
    "\n",
    "df.describe()"
   ]
  },
  {
   "cell_type": "code",
   "execution_count": 10,
   "metadata": {},
   "outputs": [
    {
     "data": {
      "text/plain": [
       "count                                                 13688\n",
       "unique                                                13688\n",
       "top       Loud 'N Clear Personal Sound Amplifier allows ...\n",
       "freq                                                      1\n",
       "Name: newdescription, dtype: object"
      ]
     },
     "execution_count": 10,
     "metadata": {},
     "output_type": "execute_result"
    }
   ],
   "source": [
    "# Remove descriptions with more than 511 pre-cleaned words\n",
    "\n",
    "# Split at any white space \n",
    "df[\"num_words_description\"] = df[\"newdescription\"].apply(lambda x: len(x.split()))\n",
    "\n",
    "# Check if under or equal to 511 words fulfils withs condition and set it\n",
    "df = df[df[\"num_words_description\"] <= 511]\n",
    "\n",
    "df[\"newdescription\"].describe()"
   ]
  },
  {
   "cell_type": "code",
   "execution_count": 24,
   "metadata": {},
   "outputs": [
    {
     "name": "stderr",
     "output_type": "stream",
     "text": [
      "[nltk_data] Downloading package wordnet to\n",
      "[nltk_data]     C:\\Users\\Lenovo\\AppData\\Roaming\\nltk_data...\n",
      "[nltk_data]   Package wordnet is already up-to-date!\n",
      "[nltk_data] Downloading package stopwords to\n",
      "[nltk_data]     C:\\Users\\Lenovo\\AppData\\Roaming\\nltk_data...\n",
      "[nltk_data]   Package stopwords is already up-to-date!\n"
     ]
    },
    {
     "data": {
      "text/plain": [
       "0        [loud, n, clear, personal, sound, amplifier, a...\n",
       "1        [no, lift, luminate, triple, action, serum, ml...\n",
       "2        [no, stay, perfect, foundation, now, stays, pe...\n",
       "4        [lacto, calamine, skin, balance, daily, nouris...\n",
       "5        [mary, kay, satin, hands, peach, hand, cream, ...\n",
       "                               ...                        \n",
       "32880                                                  NaN\n",
       "32884                                                  NaN\n",
       "32885                                                  NaN\n",
       "32886                                                  NaN\n",
       "32890                                                  NaN\n",
       "Name: clean_description, Length: 13688, dtype: object"
      ]
     },
     "execution_count": 24,
     "metadata": {},
     "output_type": "execute_result"
    }
   ],
   "source": [
    "# Regrex for character removal\n",
    "import re\n",
    "\n",
    "# Spacy for spell check\n",
    "import spacy\n",
    "import contextualSpellCheck\n",
    "nlp = spacy.load(\"en_core_web_sm\")\n",
    "contextualSpellCheck.add_to_pipe(nlp)\n",
    "\n",
    "# NLTK for tokenisation, remocing stop words and lemmatization\n",
    "import nltk\n",
    "from nltk.corpus import stopwords\n",
    "from nltk.tokenize import word_tokenize\n",
    "from nltk.stem import WordNetLemmatizer\n",
    "\n",
    "nltk.download('wordnet')\n",
    "nltk.download('stopwords')\n",
    "\n",
    "# Preprocessing of descriptions\n",
    "\n",
    "def preprocessing(raw_string):\n",
    "    # Remove html tags and anything inside them \n",
    "    no_html = re.sub(r'<[^>]*>','', raw_string)\n",
    "    #print(\"after removing html\", no_html)\n",
    "\n",
    "\n",
    "    # Make everything lowercase\n",
    "    lowercase_column = no_html.lower()\n",
    "    #print(\"lowercase\", lowercase_column)\n",
    "\n",
    "    # Remove apostrophe to enable spell check to correct words with apostrophe\n",
    "    without_apostrophe = re.sub(r'[\\']', '', lowercase_column)\n",
    "\n",
    "    # ! Need to double check again where best to use this spell check\n",
    "    # \n",
    "    # .pepe for batches of text\n",
    "    #doc = list(nlp.pipe(without_apostrophe))\n",
    "\n",
    "    #spell_checked = doc._.outcome_spellCheck\n",
    "\n",
    "    # Remove all non alphabetic instances that aren't a space and replace them with a space using Regrex\n",
    "    alphabetic_column = re.sub(r'[^a-z\\s]', ' ', without_apostrophe)\n",
    "    #print(\"removed numerical and punctuation\", alphabetic_column)\n",
    "\n",
    "    tokens = word_tokenize(alphabetic_column)\n",
    "\n",
    "    return tokens\n",
    "\n",
    "df[\"clean_description\"] = df[\"newdescription\"].head(5).apply(preprocessing)\n",
    "\n",
    "df[\"clean_description\"]"
   ]
  }
 ],
 "metadata": {
  "kernelspec": {
   "display_name": "Python 3",
   "language": "python",
   "name": "python3"
  },
  "language_info": {
   "codemirror_mode": {
    "name": "ipython",
    "version": 3
   },
   "file_extension": ".py",
   "mimetype": "text/x-python",
   "name": "python",
   "nbconvert_exporter": "python",
   "pygments_lexer": "ipython3",
   "version": "3.11.8"
  }
 },
 "nbformat": 4,
 "nbformat_minor": 2
}
