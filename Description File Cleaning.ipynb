{
 "cells": [
  {
   "cell_type": "code",
   "execution_count": 36,
   "metadata": {},
   "outputs": [],
   "source": [
    "# Importing metadata zip file and converting it to dataframe\n",
    "\n",
    "import json\n",
    "import gzip\n",
    "import pandas as pd\n",
    "\n",
    "def getDF(path):\n",
    "  # Unzip the file, load in each line as an object\n",
    "  g = gzip.open(path, 'rb')\n",
    "  g = [json.loads(l) for l in g]\n",
    "\n",
    "  # Map to a dictionary, then load in as a dataframe\n",
    "  dict_df = {i: d for (i, d) in enumerate(g)}\n",
    "  return pd.DataFrame.from_dict(dict_df, orient='index')\n",
    "\n",
    "df = getDF('meta_ALL_Beauty.json.gz')"
   ]
  },
  {
   "cell_type": "code",
   "execution_count": 37,
   "metadata": {},
   "outputs": [
    {
     "data": {
      "text/html": [
       "<div>\n",
       "<style scoped>\n",
       "    .dataframe tbody tr th:only-of-type {\n",
       "        vertical-align: middle;\n",
       "    }\n",
       "\n",
       "    .dataframe tbody tr th {\n",
       "        vertical-align: top;\n",
       "    }\n",
       "\n",
       "    .dataframe thead th {\n",
       "        text-align: right;\n",
       "    }\n",
       "</style>\n",
       "<table border=\"1\" class=\"dataframe\">\n",
       "  <thead>\n",
       "    <tr style=\"text-align: right;\">\n",
       "      <th></th>\n",
       "      <th>description</th>\n",
       "      <th>asin</th>\n",
       "    </tr>\n",
       "  </thead>\n",
       "  <tbody>\n",
       "    <tr>\n",
       "      <th>count</th>\n",
       "      <td>32892</td>\n",
       "      <td>32892</td>\n",
       "    </tr>\n",
       "    <tr>\n",
       "      <th>unique</th>\n",
       "      <td>13751</td>\n",
       "      <td>32488</td>\n",
       "    </tr>\n",
       "    <tr>\n",
       "      <th>top</th>\n",
       "      <td>[]</td>\n",
       "      <td>B00027CDOW</td>\n",
       "    </tr>\n",
       "    <tr>\n",
       "      <th>freq</th>\n",
       "      <td>17773</td>\n",
       "      <td>2</td>\n",
       "    </tr>\n",
       "  </tbody>\n",
       "</table>\n",
       "</div>"
      ],
      "text/plain": [
       "       description        asin\n",
       "count        32892       32892\n",
       "unique       13751       32488\n",
       "top             []  B00027CDOW\n",
       "freq         17773           2"
      ]
     },
     "execution_count": 37,
     "metadata": {},
     "output_type": "execute_result"
    }
   ],
   "source": [
    "\n",
    "# Selecting only the colums that are required for analysis\n",
    "\n",
    "colums_description_asin = [\"description\",\"asin\"]\n",
    "df = df[colums_description_asin]\n",
    "\n",
    "df.describe()"
   ]
  },
  {
   "cell_type": "code",
   "execution_count": 38,
   "metadata": {},
   "outputs": [],
   "source": [
    "# Descriptions in the json file are a list of strings, converting to sting for easy cleaning\n",
    "df[\"newdescription\"] = df.description.map(lambda x: \".\".join(x).replace(\"\\n\",\"\"))\n"
   ]
  },
  {
   "cell_type": "code",
   "execution_count": 39,
   "metadata": {},
   "outputs": [],
   "source": [
    "# Remove empty descriptions\n",
    "#df = df.drop(df[df[\"newdescription\"] == \"\"].index)\n",
    "\n",
    "#print(len(df)) \n",
    "\n"
   ]
  },
  {
   "cell_type": "code",
   "execution_count": 40,
   "metadata": {},
   "outputs": [
    {
     "data": {
      "text/html": [
       "<div>\n",
       "<style scoped>\n",
       "    .dataframe tbody tr th:only-of-type {\n",
       "        vertical-align: middle;\n",
       "    }\n",
       "\n",
       "    .dataframe tbody tr th {\n",
       "        vertical-align: top;\n",
       "    }\n",
       "\n",
       "    .dataframe thead th {\n",
       "        text-align: right;\n",
       "    }\n",
       "</style>\n",
       "<table border=\"1\" class=\"dataframe\">\n",
       "  <thead>\n",
       "    <tr style=\"text-align: right;\">\n",
       "      <th></th>\n",
       "      <th>description</th>\n",
       "      <th>asin</th>\n",
       "      <th>newdescription</th>\n",
       "    </tr>\n",
       "  </thead>\n",
       "  <tbody>\n",
       "    <tr>\n",
       "      <th>0</th>\n",
       "      <td>[Loud 'N Clear Personal Sound Amplifier allows...</td>\n",
       "      <td>6546546450</td>\n",
       "      <td>Loud 'N Clear Personal Sound Amplifier allows ...</td>\n",
       "    </tr>\n",
       "    <tr>\n",
       "      <th>1</th>\n",
       "      <td>[No7 Lift &amp; Luminate Triple Action Serum 50ml ...</td>\n",
       "      <td>7178680776</td>\n",
       "      <td>No7 Lift &amp; Luminate Triple Action Serum 50ml b...</td>\n",
       "    </tr>\n",
       "    <tr>\n",
       "      <th>2</th>\n",
       "      <td>[No7 Stay Perfect Foundation now stays perfect...</td>\n",
       "      <td>7250468162</td>\n",
       "      <td>No7 Stay Perfect Foundation now stays perfect ...</td>\n",
       "    </tr>\n",
       "    <tr>\n",
       "      <th>4</th>\n",
       "      <td>[Lacto Calamine Skin Balance Daily Nourishing ...</td>\n",
       "      <td>7414204790</td>\n",
       "      <td>Lacto Calamine Skin Balance Daily Nourishing L...</td>\n",
       "    </tr>\n",
       "    <tr>\n",
       "      <th>5</th>\n",
       "      <td>[Mary Kay Satin Hands Peach Hand Cream Travel ...</td>\n",
       "      <td>7535842801</td>\n",
       "      <td>Mary Kay Satin Hands Peach Hand Cream Travel S...</td>\n",
       "    </tr>\n",
       "    <tr>\n",
       "      <th>...</th>\n",
       "      <td>...</td>\n",
       "      <td>...</td>\n",
       "      <td>...</td>\n",
       "    </tr>\n",
       "    <tr>\n",
       "      <th>32880</th>\n",
       "      <td>[Move over soap on a rope! This heavy-duty Bri...</td>\n",
       "      <td>B01HIHLFOC</td>\n",
       "      <td>Move over soap on a rope! This heavy-duty Bric...</td>\n",
       "    </tr>\n",
       "    <tr>\n",
       "      <th>32884</th>\n",
       "      <td>[Eau de parfum spray vial mini design house: y...</td>\n",
       "      <td>B01HIPOQ2M</td>\n",
       "      <td>Eau de parfum spray vial mini design house: yv...</td>\n",
       "    </tr>\n",
       "    <tr>\n",
       "      <th>32885</th>\n",
       "      <td>[Pokemon Plush 9.2 Inch / 23cm Gengar Doll Stu...</td>\n",
       "      <td>B01HIUEEHO</td>\n",
       "      <td>Pokemon Plush 9.2 Inch / 23cm Gengar Doll Stuf...</td>\n",
       "    </tr>\n",
       "    <tr>\n",
       "      <th>32886</th>\n",
       "      <td>[New and unused product. 100% authentic Benefi...</td>\n",
       "      <td>B01HIWKGOM</td>\n",
       "      <td>New and unused product. 100% authentic Benefit...</td>\n",
       "    </tr>\n",
       "    <tr>\n",
       "      <th>32890</th>\n",
       "      <td>[Brand new and high quality&lt;br&gt; Enables fast v...</td>\n",
       "      <td>B01HJASD20</td>\n",
       "      <td>Brand new and high quality&lt;br&gt; Enables fast vo...</td>\n",
       "    </tr>\n",
       "  </tbody>\n",
       "</table>\n",
       "<p>15108 rows × 3 columns</p>\n",
       "</div>"
      ],
      "text/plain": [
       "                                             description        asin  \\\n",
       "0      [Loud 'N Clear Personal Sound Amplifier allows...  6546546450   \n",
       "1      [No7 Lift & Luminate Triple Action Serum 50ml ...  7178680776   \n",
       "2      [No7 Stay Perfect Foundation now stays perfect...  7250468162   \n",
       "4      [Lacto Calamine Skin Balance Daily Nourishing ...  7414204790   \n",
       "5      [Mary Kay Satin Hands Peach Hand Cream Travel ...  7535842801   \n",
       "...                                                  ...         ...   \n",
       "32880  [Move over soap on a rope! This heavy-duty Bri...  B01HIHLFOC   \n",
       "32884  [Eau de parfum spray vial mini design house: y...  B01HIPOQ2M   \n",
       "32885  [Pokemon Plush 9.2 Inch / 23cm Gengar Doll Stu...  B01HIUEEHO   \n",
       "32886  [New and unused product. 100% authentic Benefi...  B01HIWKGOM   \n",
       "32890  [Brand new and high quality<br> Enables fast v...  B01HJASD20   \n",
       "\n",
       "                                          newdescription  \n",
       "0      Loud 'N Clear Personal Sound Amplifier allows ...  \n",
       "1      No7 Lift & Luminate Triple Action Serum 50ml b...  \n",
       "2      No7 Stay Perfect Foundation now stays perfect ...  \n",
       "4      Lacto Calamine Skin Balance Daily Nourishing L...  \n",
       "5      Mary Kay Satin Hands Peach Hand Cream Travel S...  \n",
       "...                                                  ...  \n",
       "32880  Move over soap on a rope! This heavy-duty Bric...  \n",
       "32884  Eau de parfum spray vial mini design house: yv...  \n",
       "32885  Pokemon Plush 9.2 Inch / 23cm Gengar Doll Stuf...  \n",
       "32886  New and unused product. 100% authentic Benefit...  \n",
       "32890  Brand new and high quality<br> Enables fast vo...  \n",
       "\n",
       "[15108 rows x 3 columns]"
      ]
     },
     "execution_count": 40,
     "metadata": {},
     "output_type": "execute_result"
    }
   ],
   "source": [
    "df = df.drop(df[ ( (df[\"newdescription\"] == \"\" ) | ( df[\"newdescription\"].isnull()) ) ].index)\n",
    "\n",
    "df"
   ]
  },
  {
   "cell_type": "code",
   "execution_count": 41,
   "metadata": {},
   "outputs": [
    {
     "data": {
      "text/html": [
       "<div>\n",
       "<style scoped>\n",
       "    .dataframe tbody tr th:only-of-type {\n",
       "        vertical-align: middle;\n",
       "    }\n",
       "\n",
       "    .dataframe tbody tr th {\n",
       "        vertical-align: top;\n",
       "    }\n",
       "\n",
       "    .dataframe thead th {\n",
       "        text-align: right;\n",
       "    }\n",
       "</style>\n",
       "<table border=\"1\" class=\"dataframe\">\n",
       "  <thead>\n",
       "    <tr style=\"text-align: right;\">\n",
       "      <th></th>\n",
       "      <th>description</th>\n",
       "      <th>asin</th>\n",
       "      <th>newdescription</th>\n",
       "    </tr>\n",
       "  </thead>\n",
       "  <tbody>\n",
       "    <tr>\n",
       "      <th>count</th>\n",
       "      <td>14821</td>\n",
       "      <td>14821</td>\n",
       "      <td>14821</td>\n",
       "    </tr>\n",
       "    <tr>\n",
       "      <th>unique</th>\n",
       "      <td>13749</td>\n",
       "      <td>14821</td>\n",
       "      <td>13743</td>\n",
       "    </tr>\n",
       "    <tr>\n",
       "      <th>top</th>\n",
       "      <td>[For over 60 years, Betty Dain Creations, Inc....</td>\n",
       "      <td>6546546450</td>\n",
       "      <td>For over 60 years, Betty Dain Creations, Inc. ...</td>\n",
       "    </tr>\n",
       "    <tr>\n",
       "      <th>freq</th>\n",
       "      <td>59</td>\n",
       "      <td>1</td>\n",
       "      <td>59</td>\n",
       "    </tr>\n",
       "  </tbody>\n",
       "</table>\n",
       "</div>"
      ],
      "text/plain": [
       "                                              description        asin  \\\n",
       "count                                               14821       14821   \n",
       "unique                                              13749       14821   \n",
       "top     [For over 60 years, Betty Dain Creations, Inc....  6546546450   \n",
       "freq                                                   59           1   \n",
       "\n",
       "                                           newdescription  \n",
       "count                                               14821  \n",
       "unique                                              13743  \n",
       "top     For over 60 years, Betty Dain Creations, Inc. ...  \n",
       "freq                                                   59  "
      ]
     },
     "execution_count": 41,
     "metadata": {},
     "output_type": "execute_result"
    }
   ],
   "source": [
    "# Remove duplicate asin so can have only unique products\n",
    "df[df.duplicated(\"asin\")]\n",
    "df = df.drop_duplicates(\"asin\", keep=\"last\")\n",
    "df.describe()"
   ]
  },
  {
   "cell_type": "code",
   "execution_count": 42,
   "metadata": {},
   "outputs": [
    {
     "data": {
      "text/html": [
       "<div>\n",
       "<style scoped>\n",
       "    .dataframe tbody tr th:only-of-type {\n",
       "        vertical-align: middle;\n",
       "    }\n",
       "\n",
       "    .dataframe tbody tr th {\n",
       "        vertical-align: top;\n",
       "    }\n",
       "\n",
       "    .dataframe thead th {\n",
       "        text-align: right;\n",
       "    }\n",
       "</style>\n",
       "<table border=\"1\" class=\"dataframe\">\n",
       "  <thead>\n",
       "    <tr style=\"text-align: right;\">\n",
       "      <th></th>\n",
       "      <th>description</th>\n",
       "      <th>asin</th>\n",
       "      <th>newdescription</th>\n",
       "    </tr>\n",
       "  </thead>\n",
       "  <tbody>\n",
       "    <tr>\n",
       "      <th>count</th>\n",
       "      <td>13743</td>\n",
       "      <td>13743</td>\n",
       "      <td>13743</td>\n",
       "    </tr>\n",
       "    <tr>\n",
       "      <th>unique</th>\n",
       "      <td>13743</td>\n",
       "      <td>13743</td>\n",
       "      <td>13743</td>\n",
       "    </tr>\n",
       "    <tr>\n",
       "      <th>top</th>\n",
       "      <td>[Loud 'N Clear Personal Sound Amplifier allows...</td>\n",
       "      <td>6546546450</td>\n",
       "      <td>Loud 'N Clear Personal Sound Amplifier allows ...</td>\n",
       "    </tr>\n",
       "    <tr>\n",
       "      <th>freq</th>\n",
       "      <td>1</td>\n",
       "      <td>1</td>\n",
       "      <td>1</td>\n",
       "    </tr>\n",
       "  </tbody>\n",
       "</table>\n",
       "</div>"
      ],
      "text/plain": [
       "                                              description        asin  \\\n",
       "count                                               13743       13743   \n",
       "unique                                              13743       13743   \n",
       "top     [Loud 'N Clear Personal Sound Amplifier allows...  6546546450   \n",
       "freq                                                    1           1   \n",
       "\n",
       "                                           newdescription  \n",
       "count                                               13743  \n",
       "unique                                              13743  \n",
       "top     Loud 'N Clear Personal Sound Amplifier allows ...  \n",
       "freq                                                    1  "
      ]
     },
     "execution_count": 42,
     "metadata": {},
     "output_type": "execute_result"
    }
   ],
   "source": [
    "# Remove duplicate description\n",
    "df[df.duplicated(\"newdescription\")]\n",
    "df = df.drop_duplicates(\"newdescription\", keep=\"last\")\n",
    "df.describe() "
   ]
  },
  {
   "cell_type": "code",
   "execution_count": 43,
   "metadata": {},
   "outputs": [
    {
     "data": {
      "text/html": [
       "<div>\n",
       "<style scoped>\n",
       "    .dataframe tbody tr th:only-of-type {\n",
       "        vertical-align: middle;\n",
       "    }\n",
       "\n",
       "    .dataframe tbody tr th {\n",
       "        vertical-align: top;\n",
       "    }\n",
       "\n",
       "    .dataframe thead th {\n",
       "        text-align: right;\n",
       "    }\n",
       "</style>\n",
       "<table border=\"1\" class=\"dataframe\">\n",
       "  <thead>\n",
       "    <tr style=\"text-align: right;\">\n",
       "      <th></th>\n",
       "      <th>newdescription</th>\n",
       "      <th>asin</th>\n",
       "    </tr>\n",
       "  </thead>\n",
       "  <tbody>\n",
       "    <tr>\n",
       "      <th>count</th>\n",
       "      <td>13743</td>\n",
       "      <td>13743</td>\n",
       "    </tr>\n",
       "    <tr>\n",
       "      <th>unique</th>\n",
       "      <td>13743</td>\n",
       "      <td>13743</td>\n",
       "    </tr>\n",
       "    <tr>\n",
       "      <th>top</th>\n",
       "      <td>Loud 'N Clear Personal Sound Amplifier allows ...</td>\n",
       "      <td>6546546450</td>\n",
       "    </tr>\n",
       "    <tr>\n",
       "      <th>freq</th>\n",
       "      <td>1</td>\n",
       "      <td>1</td>\n",
       "    </tr>\n",
       "  </tbody>\n",
       "</table>\n",
       "</div>"
      ],
      "text/plain": [
       "                                           newdescription        asin\n",
       "count                                               13743       13743\n",
       "unique                                              13743       13743\n",
       "top     Loud 'N Clear Personal Sound Amplifier allows ...  6546546450\n",
       "freq                                                    1           1"
      ]
     },
     "execution_count": 43,
     "metadata": {},
     "output_type": "execute_result"
    }
   ],
   "source": [
    "# Removing redundant old description column\n",
    "colums_description_asin = [\"newdescription\",\"asin\"]\n",
    "df = df[colums_description_asin]\n",
    "\n",
    "df.describe()"
   ]
  },
  {
   "cell_type": "code",
   "execution_count": 44,
   "metadata": {},
   "outputs": [
    {
     "data": {
      "text/plain": [
       "count    13743.000000\n",
       "mean        63.643600\n",
       "std         91.940065\n",
       "min          1.000000\n",
       "10%          7.000000\n",
       "15%          9.000000\n",
       "20%         11.000000\n",
       "25%         14.000000\n",
       "30%         17.000000\n",
       "50%         39.000000\n",
       "75%         79.000000\n",
       "85%        114.000000\n",
       "90%        148.000000\n",
       "92%        169.000000\n",
       "95%        217.000000\n",
       "97%        259.000000\n",
       "98%        288.000000\n",
       "99%        324.000000\n",
       "max       3224.000000\n",
       "Name: newdescription, dtype: float64"
      ]
     },
     "execution_count": 44,
     "metadata": {},
     "output_type": "execute_result"
    }
   ],
   "source": [
    "# Identify range of descriptions in after duplicates removal\n",
    "\n",
    "df_descriptions_without_empty = df[\"newdescription\"].apply(lambda x: len(x.split()))\n",
    "\n",
    "df_descriptions_without_empty.describe([0.1,0.15,0.20,0.25,0.30,0.75,0.85,0.90,0.92,0.95,0.97,0.98,0.99])\n",
    "\n",
    "# 97% upper limit of 259 (same % milit as reviews)\n",
    "# 11 words (same numbe of words as reviews) 20% because no assuption is made on how much more each one is informative as well as descriptions \n",
    "# being a smaller sample\n"
   ]
  },
  {
   "cell_type": "code",
   "execution_count": 45,
   "metadata": {},
   "outputs": [
    {
     "data": {
      "text/plain": [
       "count                                                 10710\n",
       "unique                                                10710\n",
       "top       Loud 'N Clear Personal Sound Amplifier allows ...\n",
       "freq                                                      1\n",
       "Name: newdescription, dtype: object"
      ]
     },
     "execution_count": 45,
     "metadata": {},
     "output_type": "execute_result"
    }
   ],
   "source": [
    "# Remove descriptions with more or less than xx pre-cleaned words\n",
    "\n",
    "# Split at any white space \n",
    "df[\"num_words_description\"] = df[\"newdescription\"].apply(lambda x: len(x.split()))\n",
    "\n",
    "# Check if under or equal to 80% upper limmit words fulfils withs condition and set it\n",
    "df = df[(df[\"num_words_description\"] <= 259) & (df[\"num_words_description\"] >= 11)]\n",
    "\n",
    "df[\"newdescription\"].describe()"
   ]
  },
  {
   "cell_type": "code",
   "execution_count": 46,
   "metadata": {},
   "outputs": [
    {
     "data": {
      "text/plain": [
       "count    10710.000000\n",
       "mean        65.241923\n",
       "std         53.053433\n",
       "min         11.000000\n",
       "10%         15.000000\n",
       "15%         18.000000\n",
       "20%         23.000000\n",
       "25%         27.000000\n",
       "30%         31.000000\n",
       "50%         49.000000\n",
       "75%         86.000000\n",
       "85%        115.000000\n",
       "90%        142.000000\n",
       "92%        157.000000\n",
       "95%        185.000000\n",
       "97%        211.000000\n",
       "98%        225.000000\n",
       "99%        243.000000\n",
       "max        259.000000\n",
       "Name: newdescription, dtype: float64"
      ]
     },
     "execution_count": 46,
     "metadata": {},
     "output_type": "execute_result"
    }
   ],
   "source": [
    "# Check shortening worked\n",
    "df_descriptions_without_empty = df[\"newdescription\"].apply(lambda x: len(x.split()))\n",
    "\n",
    "df_descriptions_without_empty.describe([0.1,0.15,0.20,0.25,0.30,0.75,0.85,0.90,0.92,0.95,0.97,0.98,0.99])\n"
   ]
  },
  {
   "cell_type": "code",
   "execution_count": null,
   "metadata": {},
   "outputs": [],
   "source": [
    "# Regrex for character removal\n",
    "import re\n",
    "\n",
    "# Spacy for spell check\n",
    "import spacy\n",
    "import contextualSpellCheck\n",
    "nlp = spacy.load(\"en_core_web_sm\")\n",
    "contextualSpellCheck.add_to_pipe(nlp)\n",
    "\n",
    "# NLTK for tokenisation and lemmatization\n",
    "import nltk\n",
    "\n",
    "from nltk.tokenize import word_tokenize\n",
    "\n",
    "from nltk.stem import WordNetLemmatizer\n",
    "lemmatizer = WordNetLemmatizer()\n",
    "\n",
    "nltk.download('wordnet')\n",
    "\n",
    "# Spacy stop word creation\n",
    "stopping_words = spacy.lang.en.stop_words.STOP_WORDS\n"
   ]
  },
  {
   "cell_type": "code",
   "execution_count": 54,
   "metadata": {},
   "outputs": [
    {
     "data": {
      "text/plain": [
       "0                                                         \n",
       "2        o stay perfect foundation stay perfect longer ...\n",
       "4        lacto calamine skin balance daily oral anti oi...\n",
       "5        mary kay satin hand cream hand cream travel si...\n",
       "7        according legend brother native origin black b...\n",
       "                               ...                        \n",
       "32879                                                  NaN\n",
       "32880                                                  NaN\n",
       "32884                                                  NaN\n",
       "32885                                                  NaN\n",
       "32890                                                  NaN\n",
       "Name: clean_description, Length: 10710, dtype: object"
      ]
     },
     "execution_count": 54,
     "metadata": {},
     "output_type": "execute_result"
    }
   ],
   "source": [
    "# Preprocessing of descriptions\n",
    "\n",
    "def preprocessing(raw_string):\n",
    "    # Remove html tags and anything inside them \n",
    "    no_html = re.sub(r'<[^>]*>','', raw_string)\n",
    "    #print(\"after removing html\", no_html)\n",
    "\n",
    "\n",
    "    # Make everything lowercase\n",
    "    lowercase_column = no_html.lower()\n",
    "    #print(\"lowercase\", lowercase_column)\n",
    "\n",
    "    # Remove apostrophe to enable spell check to correct words with apostrophe\n",
    "    without_apostrophe = re.sub(r'[\\']', '', lowercase_column)\n",
    "\n",
    "    # ! Need to double check again where best to use this spell check\n",
    "    # \n",
    "    # .pipe for batches of text\n",
    "    #doc = list(nlp.pipe(without_apostrophe))\n",
    "    doc = nlp(without_apostrophe)\n",
    "\n",
    "    spell_checked = doc._.outcome_spellCheck\n",
    "\n",
    "    # Remove all non alphabetic instances that aren't a space and replace them with a space using Regrex\n",
    "    alphabetic_column = re.sub(r'[^a-z\\s]', ' ', spell_checked)\n",
    "    #print(\"removed numerical and punctuation\", alphabetic_column)\n",
    "\n",
    "    # Tokenize string into individual words\n",
    "    tokens = word_tokenize(alphabetic_column)\n",
    "\n",
    "    # Remove stopping words using Spacy library\n",
    "    tokens_without_stopping_words = [token for token in tokens if token not in stopping_words]\n",
    "\n",
    "    # Lemmatize tokens using nltk and join them into sentances\n",
    "    sentances_without_stop_words = ' '.join([lemmatizer.lemmatize(t) for t in tokens_without_stopping_words])\n",
    "\n",
    "    return sentances_without_stop_words\n",
    "\n",
    "df[\"clean_description\"] = df[\"newdescription\"].head(50).apply(preprocessing)\n",
    "\n",
    "df[\"clean_description\"]"
   ]
  },
  {
   "cell_type": "code",
   "execution_count": null,
   "metadata": {},
   "outputs": [],
   "source": [
    "# Remove any empty descriptions that appear because of head()\n",
    "df = df.drop(df[ ( (df[\"clean_description\"] == \"\" ) | ( df[\"clean_description\"].isnull()) ) ].index)"
   ]
  },
  {
   "cell_type": "code",
   "execution_count": null,
   "metadata": {},
   "outputs": [
    {
     "data": {
      "text/plain": [
       "count    10000.000000\n",
       "mean        43.353700\n",
       "std         32.439748\n",
       "min          2.000000\n",
       "3%          10.000000\n",
       "10%         13.000000\n",
       "20%         17.000000\n",
       "30%         22.000000\n",
       "50%         34.000000\n",
       "75%         56.000000\n",
       "85%         74.000000\n",
       "90%         90.000000\n",
       "95%        114.000000\n",
       "max        260.000000\n",
       "Name: clean_description, dtype: float64"
      ]
     },
     "execution_count": 34,
     "metadata": {},
     "output_type": "execute_result"
    }
   ],
   "source": [
    "# Identifying range of descriptions in after cleaning\n",
    " \n",
    "df_description_without_empty_clean = df[\"clean_description\"].apply(lambda x: len(x.split()))\n",
    "#df_descriptions_without_empty.describe()\n",
    "df_description_without_empty_clean.describe([0.03,0.1,0.2,0.3,0.75,0.85,0.90,0.95])"
   ]
  },
  {
   "cell_type": "code",
   "execution_count": 48,
   "metadata": {},
   "outputs": [
    {
     "ename": "KeyError",
     "evalue": "'clean_description'",
     "output_type": "error",
     "traceback": [
      "\u001b[1;31m---------------------------------------------------------------------------\u001b[0m",
      "\u001b[1;31mKeyError\u001b[0m                                  Traceback (most recent call last)",
      "File \u001b[1;32m~\\AppData\\Local\\Packages\\PythonSoftwareFoundation.Python.3.11_qbz5n2kfra8p0\\LocalCache\\local-packages\\Python311\\site-packages\\pandas\\core\\indexes\\base.py:3802\u001b[0m, in \u001b[0;36mIndex.get_loc\u001b[1;34m(self, key)\u001b[0m\n\u001b[0;32m   3801\u001b[0m \u001b[38;5;28;01mtry\u001b[39;00m:\n\u001b[1;32m-> 3802\u001b[0m     \u001b[38;5;28;01mreturn\u001b[39;00m \u001b[38;5;28;43mself\u001b[39;49m\u001b[38;5;241;43m.\u001b[39;49m\u001b[43m_engine\u001b[49m\u001b[38;5;241;43m.\u001b[39;49m\u001b[43mget_loc\u001b[49m\u001b[43m(\u001b[49m\u001b[43mcasted_key\u001b[49m\u001b[43m)\u001b[49m\n\u001b[0;32m   3803\u001b[0m \u001b[38;5;28;01mexcept\u001b[39;00m \u001b[38;5;167;01mKeyError\u001b[39;00m \u001b[38;5;28;01mas\u001b[39;00m err:\n",
      "File \u001b[1;32mindex.pyx:153\u001b[0m, in \u001b[0;36mpandas._libs.index.IndexEngine.get_loc\u001b[1;34m()\u001b[0m\n",
      "File \u001b[1;32mindex.pyx:182\u001b[0m, in \u001b[0;36mpandas._libs.index.IndexEngine.get_loc\u001b[1;34m()\u001b[0m\n",
      "File \u001b[1;32mpandas\\\\_libs\\\\hashtable_class_helper.pxi:7081\u001b[0m, in \u001b[0;36mpandas._libs.hashtable.PyObjectHashTable.get_item\u001b[1;34m()\u001b[0m\n",
      "File \u001b[1;32mpandas\\\\_libs\\\\hashtable_class_helper.pxi:7089\u001b[0m, in \u001b[0;36mpandas._libs.hashtable.PyObjectHashTable.get_item\u001b[1;34m()\u001b[0m\n",
      "\u001b[1;31mKeyError\u001b[0m: 'clean_description'",
      "\nThe above exception was the direct cause of the following exception:\n",
      "\u001b[1;31mKeyError\u001b[0m                                  Traceback (most recent call last)",
      "Cell \u001b[1;32mIn[48], line 2\u001b[0m\n\u001b[0;32m      1\u001b[0m \u001b[38;5;28;01mfrom\u001b[39;00m \u001b[38;5;21;01mcollections\u001b[39;00m \u001b[38;5;28;01mimport\u001b[39;00m Counter\n\u001b[1;32m----> 2\u001b[0m Counter(\u001b[38;5;124m\"\u001b[39m\u001b[38;5;124m \u001b[39m\u001b[38;5;124m\"\u001b[39m\u001b[38;5;241m.\u001b[39mjoin(\u001b[43mdf\u001b[49m\u001b[43m[\u001b[49m\u001b[38;5;124;43m\"\u001b[39;49m\u001b[38;5;124;43mclean_description\u001b[39;49m\u001b[38;5;124;43m\"\u001b[39;49m\u001b[43m]\u001b[49m)\u001b[38;5;241m.\u001b[39msplit())\u001b[38;5;241m.\u001b[39mmost_common(\u001b[38;5;241m100\u001b[39m)\n",
      "File \u001b[1;32m~\\AppData\\Local\\Packages\\PythonSoftwareFoundation.Python.3.11_qbz5n2kfra8p0\\LocalCache\\local-packages\\Python311\\site-packages\\pandas\\core\\frame.py:4090\u001b[0m, in \u001b[0;36mDataFrame.__getitem__\u001b[1;34m(self, key)\u001b[0m\n\u001b[0;32m   4088\u001b[0m \u001b[38;5;28;01mif\u001b[39;00m \u001b[38;5;28mself\u001b[39m\u001b[38;5;241m.\u001b[39mcolumns\u001b[38;5;241m.\u001b[39mnlevels \u001b[38;5;241m>\u001b[39m \u001b[38;5;241m1\u001b[39m:\n\u001b[0;32m   4089\u001b[0m     \u001b[38;5;28;01mreturn\u001b[39;00m \u001b[38;5;28mself\u001b[39m\u001b[38;5;241m.\u001b[39m_getitem_multilevel(key)\n\u001b[1;32m-> 4090\u001b[0m indexer \u001b[38;5;241m=\u001b[39m \u001b[38;5;28;43mself\u001b[39;49m\u001b[38;5;241;43m.\u001b[39;49m\u001b[43mcolumns\u001b[49m\u001b[38;5;241;43m.\u001b[39;49m\u001b[43mget_loc\u001b[49m\u001b[43m(\u001b[49m\u001b[43mkey\u001b[49m\u001b[43m)\u001b[49m\n\u001b[0;32m   4091\u001b[0m \u001b[38;5;28;01mif\u001b[39;00m is_integer(indexer):\n\u001b[0;32m   4092\u001b[0m     indexer \u001b[38;5;241m=\u001b[39m [indexer]\n",
      "File \u001b[1;32m~\\AppData\\Local\\Packages\\PythonSoftwareFoundation.Python.3.11_qbz5n2kfra8p0\\LocalCache\\local-packages\\Python311\\site-packages\\pandas\\core\\indexes\\base.py:3809\u001b[0m, in \u001b[0;36mIndex.get_loc\u001b[1;34m(self, key)\u001b[0m\n\u001b[0;32m   3804\u001b[0m     \u001b[38;5;28;01mif\u001b[39;00m \u001b[38;5;28misinstance\u001b[39m(casted_key, \u001b[38;5;28mslice\u001b[39m) \u001b[38;5;129;01mor\u001b[39;00m (\n\u001b[0;32m   3805\u001b[0m         \u001b[38;5;28misinstance\u001b[39m(casted_key, abc\u001b[38;5;241m.\u001b[39mIterable)\n\u001b[0;32m   3806\u001b[0m         \u001b[38;5;129;01mand\u001b[39;00m \u001b[38;5;28many\u001b[39m(\u001b[38;5;28misinstance\u001b[39m(x, \u001b[38;5;28mslice\u001b[39m) \u001b[38;5;28;01mfor\u001b[39;00m x \u001b[38;5;129;01min\u001b[39;00m casted_key)\n\u001b[0;32m   3807\u001b[0m     ):\n\u001b[0;32m   3808\u001b[0m         \u001b[38;5;28;01mraise\u001b[39;00m InvalidIndexError(key)\n\u001b[1;32m-> 3809\u001b[0m     \u001b[38;5;28;01mraise\u001b[39;00m \u001b[38;5;167;01mKeyError\u001b[39;00m(key) \u001b[38;5;28;01mfrom\u001b[39;00m \u001b[38;5;21;01merr\u001b[39;00m\n\u001b[0;32m   3810\u001b[0m \u001b[38;5;28;01mexcept\u001b[39;00m \u001b[38;5;167;01mTypeError\u001b[39;00m:\n\u001b[0;32m   3811\u001b[0m     \u001b[38;5;66;03m# If we have a listlike key, _check_indexing_error will raise\u001b[39;00m\n\u001b[0;32m   3812\u001b[0m     \u001b[38;5;66;03m#  InvalidIndexError. Otherwise we fall through and re-raise\u001b[39;00m\n\u001b[0;32m   3813\u001b[0m     \u001b[38;5;66;03m#  the TypeError.\u001b[39;00m\n\u001b[0;32m   3814\u001b[0m     \u001b[38;5;28mself\u001b[39m\u001b[38;5;241m.\u001b[39m_check_indexing_error(key)\n",
      "\u001b[1;31mKeyError\u001b[0m: 'clean_description'"
     ]
    }
   ],
   "source": [
    "from collections import Counter\n",
    "Counter(\" \".join(df[\"clean_description\"]).split()).most_common(100)"
   ]
  }
 ],
 "metadata": {
  "kernelspec": {
   "display_name": "Python 3",
   "language": "python",
   "name": "python3"
  },
  "language_info": {
   "codemirror_mode": {
    "name": "ipython",
    "version": 3
   },
   "file_extension": ".py",
   "mimetype": "text/x-python",
   "name": "python",
   "nbconvert_exporter": "python",
   "pygments_lexer": "ipython3",
   "version": "3.11.8"
  }
 },
 "nbformat": 4,
 "nbformat_minor": 2
}
