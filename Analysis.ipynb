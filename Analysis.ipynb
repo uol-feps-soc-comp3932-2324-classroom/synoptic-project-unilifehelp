{
 "cells": [
  {
   "cell_type": "code",
   "execution_count": null,
   "metadata": {},
   "outputs": [],
   "source": [
    "# Identify all columns, their sizes and datatypes in json file "
   ]
  },
  {
   "cell_type": "code",
   "execution_count": null,
   "metadata": {},
   "outputs": [],
   "source": [
    "# Check for format of every row in each asin and desccription"
   ]
  },
  {
   "cell_type": "code",
   "execution_count": 7,
   "metadata": {},
   "outputs": [],
   "source": [
    "\n",
    "# Importing metadata zip file and converting it to dataframe\n",
    "\n",
    "import json\n",
    "import gzip\n",
    "import pandas as pd\n",
    "\n",
    "def getDF(path):\n",
    "  # Unzip the file, load in each line as an object\n",
    "  g = gzip.open(path, 'rb')\n",
    "  g = [json.loads(l) for l in g]\n",
    "\n",
    "  # Map to a dictionary, then load in as a dataframe\n",
    "  dict_df = {i: d for (i, d) in enumerate(g)}\n",
    "  return pd.DataFrame.from_dict(dict_df, orient='index')\n",
    "\n",
    "df = getDF('meta_ALL_Beauty.json.gz')"
   ]
  },
  {
   "cell_type": "code",
   "execution_count": 8,
   "metadata": {},
   "outputs": [
    {
     "data": {
      "text/html": [
       "<div>\n",
       "<style scoped>\n",
       "    .dataframe tbody tr th:only-of-type {\n",
       "        vertical-align: middle;\n",
       "    }\n",
       "\n",
       "    .dataframe tbody tr th {\n",
       "        vertical-align: top;\n",
       "    }\n",
       "\n",
       "    .dataframe thead th {\n",
       "        text-align: right;\n",
       "    }\n",
       "</style>\n",
       "<table border=\"1\" class=\"dataframe\">\n",
       "  <thead>\n",
       "    <tr style=\"text-align: right;\">\n",
       "      <th></th>\n",
       "      <th>description</th>\n",
       "      <th>asin</th>\n",
       "    </tr>\n",
       "  </thead>\n",
       "  <tbody>\n",
       "    <tr>\n",
       "      <th>count</th>\n",
       "      <td>32892</td>\n",
       "      <td>32892</td>\n",
       "    </tr>\n",
       "    <tr>\n",
       "      <th>unique</th>\n",
       "      <td>13751</td>\n",
       "      <td>32488</td>\n",
       "    </tr>\n",
       "    <tr>\n",
       "      <th>top</th>\n",
       "      <td>[]</td>\n",
       "      <td>B00027CDOW</td>\n",
       "    </tr>\n",
       "    <tr>\n",
       "      <th>freq</th>\n",
       "      <td>17773</td>\n",
       "      <td>2</td>\n",
       "    </tr>\n",
       "  </tbody>\n",
       "</table>\n",
       "</div>"
      ],
      "text/plain": [
       "       description        asin\n",
       "count        32892       32892\n",
       "unique       13751       32488\n",
       "top             []  B00027CDOW\n",
       "freq         17773           2"
      ]
     },
     "execution_count": 8,
     "metadata": {},
     "output_type": "execute_result"
    }
   ],
   "source": [
    "\n",
    "# Selecting only the colums that are required for analysis\n",
    "\n",
    "colums_description_asin = [\"description\",\"asin\"]\n",
    "df = df[colums_description_asin]\n",
    "\n",
    "df.describe()"
   ]
  },
  {
   "cell_type": "code",
   "execution_count": 9,
   "metadata": {},
   "outputs": [],
   "source": [
    "\n",
    "# Descriptions in the json file are a list of strings, converting to sting for easy cleaning\n",
    "df[\"newdescription\"] = df.description.map(lambda x: \".\".join(x).replace(\"\\n\",\"\"))\n"
   ]
  },
  {
   "cell_type": "code",
   "execution_count": 10,
   "metadata": {},
   "outputs": [
    {
     "data": {
      "text/plain": [
       "count    15108.000000\n",
       "mean       429.378740\n",
       "std        886.166717\n",
       "min          1.000000\n",
       "25%         84.000000\n",
       "50%        250.000000\n",
       "75%        511.000000\n",
       "max      34309.000000\n",
       "Name: newdescription, dtype: float64"
      ]
     },
     "execution_count": 10,
     "metadata": {},
     "output_type": "execute_result"
    }
   ],
   "source": [
    "# Identify range of values in descriptions\n",
    "\n",
    "# Excluding empty descriptions so can see the statistics about length of descriptions\n",
    "df_descriptions_without_empty = df.drop(df[df[\"newdescription\"] == \"\"].index)\n",
    "\n",
    "# Identify range of values in descriptions\n",
    "df_descriptions_without_empty = df_descriptions_without_empty[\"newdescription\"].apply(lambda x: len(x))\n",
    "df_descriptions_without_empty.describe()\n"
   ]
  },
  {
   "cell_type": "code",
   "execution_count": null,
   "metadata": {},
   "outputs": [],
   "source": [
    "\n",
    "# Check for innapropriate characters\n",
    "    # Asin can have both numbers and letters or just one of them\n",
    "    # Description doesn't need any characters other than . and '\n"
   ]
  },
  {
   "cell_type": "code",
   "execution_count": 13,
   "metadata": {},
   "outputs": [
    {
     "data": {
      "text/plain": [
       "[('and', 33260),\n",
       " ('the', 26118),\n",
       " ('to', 19363),\n",
       " ('a', 16317),\n",
       " ('of', 15952),\n",
       " ('for', 12935),\n",
       " ('is', 11389),\n",
       " ('with', 10951),\n",
       " ('in', 9179),\n",
       " ('your', 9085),\n",
       " ('you', 6008),\n",
       " ('skin', 5348),\n",
       " ('or', 5324),\n",
       " ('that', 5148),\n",
       " ('on', 4552),\n",
       " ('The', 4460),\n",
       " ('are', 4154),\n",
       " ('it', 3666),\n",
       " ('<br>', 3513),\n",
       " ('hair', 3462),\n",
       " ('as', 3451),\n",
       " ('from', 3312),\n",
       " ('-', 3137),\n",
       " ('can', 2978),\n",
       " ('be', 2931),\n",
       " ('This', 2861),\n",
       " ('by', 2823),\n",
       " ('will', 2643),\n",
       " ('this', 2529),\n",
       " ('&', 2461),\n",
       " ('an', 2330),\n",
       " ('all', 2239),\n",
       " ('not', 2111),\n",
       " ('/>', 2075),\n",
       " ('natural', 1938),\n",
       " ('It', 1934),\n",
       " ('use', 1905),\n",
       " ('our', 1848),\n",
       " ('has', 1823),\n",
       " ('more', 1608),\n",
       " ('<br', 1598),\n",
       " ('have', 1510),\n",
       " ('any', 1467),\n",
       " ('A', 1442),\n",
       " ('<td', 1405),\n",
       " ('at', 1378),\n",
       " ('x', 1343),\n",
       " ('oil', 1323),\n",
       " ('up', 1304),\n",
       " ('skin.', 1262),\n",
       " ('For', 1261),\n",
       " ('1', 1234),\n",
       " ('product', 1232),\n",
       " ('also', 1223),\n",
       " ('body', 1216),\n",
       " ('used', 1190),\n",
       " ('which', 1183),\n",
       " ('color', 1178),\n",
       " ('one', 1166),\n",
       " ('help', 1127),\n",
       " ('while', 1112),\n",
       " ('its', 1091),\n",
       " ('perfect', 1065),\n",
       " ('products', 1023),\n",
       " ('when', 1021),\n",
       " ('formula', 1018),\n",
       " ('dry', 1005),\n",
       " ('quality', 1005),\n",
       " ('made', 1001),\n",
       " ('into', 999),\n",
       " ('most', 990),\n",
       " ('so', 975),\n",
       " ('2', 966),\n",
       " ('high', 944),\n",
       " ('no', 939),\n",
       " ('we', 933),\n",
       " ('other', 922),\n",
       " ('helps', 906),\n",
       " ('With', 906),\n",
       " ('Body', 870),\n",
       " ('without', 866),\n",
       " ('100%', 853),\n",
       " ('like', 851),\n",
       " ('best', 839),\n",
       " ('make', 836),\n",
       " ('easy', 833),\n",
       " ('out', 829),\n",
       " ('new', 824),\n",
       " ('designed', 821),\n",
       " ('Oil', 810),\n",
       " ('Hair', 799),\n",
       " ('smooth', 794),\n",
       " ('after', 794),\n",
       " ('soft', 787),\n",
       " ('over', 784),\n",
       " ('look', 778),\n",
       " ('Our', 777),\n",
       " ('even', 771),\n",
       " ('just', 762),\n",
       " ('great', 757)]"
      ]
     },
     "execution_count": 13,
     "metadata": {},
     "output_type": "execute_result"
    }
   ],
   "source": [
    "# Identify top words that come up in descriptions \n",
    "\n",
    "from collections import Counter\n",
    "Counter(\" \".join(df[\"newdescription\"]).split()).most_common(100)"
   ]
  },
  {
   "cell_type": "markdown",
   "metadata": {},
   "source": [
    "Large number of stopwords and characters identified. There are html tags used as well."
   ]
  },
  {
   "cell_type": "code",
   "execution_count": null,
   "metadata": {},
   "outputs": [],
   "source": [
    "# Check for misspellings and other languages"
   ]
  },
  {
   "cell_type": "code",
   "execution_count": 11,
   "metadata": {},
   "outputs": [
    {
     "data": {
      "text/plain": [
       "count    32892.0\n",
       "mean        10.0\n",
       "std          0.0\n",
       "min         10.0\n",
       "25%         10.0\n",
       "50%         10.0\n",
       "75%         10.0\n",
       "max         10.0\n",
       "Name: asin, dtype: float64"
      ]
     },
     "execution_count": 11,
     "metadata": {},
     "output_type": "execute_result"
    }
   ],
   "source": [
    "\n",
    "# ASIN analysis\n",
    "\n",
    "asin = df[\"asin\"].apply(lambda x: len(x))\n",
    "\n",
    "# Check for lengths of asins\n",
    "asin.describe()     "
   ]
  }
 ],
 "metadata": {
  "kernelspec": {
   "display_name": "Python 3",
   "language": "python",
   "name": "python3"
  },
  "language_info": {
   "codemirror_mode": {
    "name": "ipython",
    "version": 3
   },
   "file_extension": ".py",
   "mimetype": "text/x-python",
   "name": "python",
   "nbconvert_exporter": "python",
   "pygments_lexer": "ipython3",
   "version": "3.11.8"
  }
 },
 "nbformat": 4,
 "nbformat_minor": 2
}
