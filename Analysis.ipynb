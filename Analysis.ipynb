{
 "cells": [
  {
   "cell_type": "code",
   "execution_count": null,
   "metadata": {},
   "outputs": [],
   "source": [
    "import json\n",
    "import gzip\n",
    "import pandas as pd\n",
    "import re\n"
   ]
  },
  {
   "cell_type": "code",
   "execution_count": 31,
   "metadata": {},
   "outputs": [],
   "source": [
    "\n",
    "# Importing metadata zip file and converting it to dataframe\n",
    "\n",
    "def getDF(path):\n",
    "  # Unzip the file, load in each line as an object\n",
    "  g = gzip.open(path, 'rb')\n",
    "  g = [json.loads(l) for l in g]\n",
    "\n",
    "  # Map to a dictionary, then load in as a dataframe\n",
    "  dict_df = {i: d for (i, d) in enumerate(g)}\n",
    "  return pd.DataFrame.from_dict(dict_df, orient='index')\n",
    "\n",
    "df = getDF('meta_ALL_Beauty.json.gz')"
   ]
  },
  {
   "cell_type": "code",
   "execution_count": 32,
   "metadata": {},
   "outputs": [
    {
     "name": "stdout",
     "output_type": "stream",
     "text": [
      "<class 'pandas.core.frame.DataFrame'>\n",
      "Index: 32892 entries, 0 to 32891\n",
      "Data columns (total 19 columns):\n",
      " #   Column           Non-Null Count  Dtype \n",
      "---  ------           --------------  ----- \n",
      " 0   category         32892 non-null  object\n",
      " 1   tech1            32892 non-null  object\n",
      " 2   description      32892 non-null  object\n",
      " 3   fit              32892 non-null  object\n",
      " 4   title            32892 non-null  object\n",
      " 5   also_buy         32892 non-null  object\n",
      " 6   tech2            32892 non-null  object\n",
      " 7   brand            32892 non-null  object\n",
      " 8   feature          32892 non-null  object\n",
      " 9   rank             32892 non-null  object\n",
      " 10  also_view        32892 non-null  object\n",
      " 11  details          32892 non-null  object\n",
      " 12  main_cat         32892 non-null  object\n",
      " 13  similar_item     32892 non-null  object\n",
      " 14  date             32892 non-null  object\n",
      " 15  price            32892 non-null  object\n",
      " 16  asin             32892 non-null  object\n",
      " 17  imageURL         32892 non-null  object\n",
      " 18  imageURLHighRes  32892 non-null  object\n",
      "dtypes: object(19)\n",
      "memory usage: 5.0+ MB\n"
     ]
    }
   ],
   "source": [
    "# Identify all columns, their sizes and datatypes in json file \n",
    "\n",
    "df.info()"
   ]
  },
  {
   "cell_type": "code",
   "execution_count": 33,
   "metadata": {},
   "outputs": [
    {
     "data": {
      "text/html": [
       "<div>\n",
       "<style scoped>\n",
       "    .dataframe tbody tr th:only-of-type {\n",
       "        vertical-align: middle;\n",
       "    }\n",
       "\n",
       "    .dataframe tbody tr th {\n",
       "        vertical-align: top;\n",
       "    }\n",
       "\n",
       "    .dataframe thead th {\n",
       "        text-align: right;\n",
       "    }\n",
       "</style>\n",
       "<table border=\"1\" class=\"dataframe\">\n",
       "  <thead>\n",
       "    <tr style=\"text-align: right;\">\n",
       "      <th></th>\n",
       "      <th>description</th>\n",
       "      <th>asin</th>\n",
       "    </tr>\n",
       "  </thead>\n",
       "  <tbody>\n",
       "    <tr>\n",
       "      <th>count</th>\n",
       "      <td>32892</td>\n",
       "      <td>32892</td>\n",
       "    </tr>\n",
       "    <tr>\n",
       "      <th>unique</th>\n",
       "      <td>13751</td>\n",
       "      <td>32488</td>\n",
       "    </tr>\n",
       "    <tr>\n",
       "      <th>top</th>\n",
       "      <td>[]</td>\n",
       "      <td>B00027CDOW</td>\n",
       "    </tr>\n",
       "    <tr>\n",
       "      <th>freq</th>\n",
       "      <td>17773</td>\n",
       "      <td>2</td>\n",
       "    </tr>\n",
       "  </tbody>\n",
       "</table>\n",
       "</div>"
      ],
      "text/plain": [
       "       description        asin\n",
       "count        32892       32892\n",
       "unique       13751       32488\n",
       "top             []  B00027CDOW\n",
       "freq         17773           2"
      ]
     },
     "execution_count": 33,
     "metadata": {},
     "output_type": "execute_result"
    }
   ],
   "source": [
    "\n",
    "# Selecting only the colums that are required for analysis\n",
    "\n",
    "colums_description_asin = [\"description\",\"asin\"]\n",
    "df = df[colums_description_asin]\n",
    "\n",
    "df.describe()"
   ]
  },
  {
   "cell_type": "code",
   "execution_count": null,
   "metadata": {},
   "outputs": [],
   "source": [
    "# TODO: check fror NULL both description and asin"
   ]
  },
  {
   "cell_type": "code",
   "execution_count": 34,
   "metadata": {},
   "outputs": [],
   "source": [
    "\n",
    "# Descriptions in the json file are a list of strings, converting to sting for easy cleaning\n",
    "df[\"newdescription\"] = df.description.map(lambda x: \".\".join(x).replace(\"\\n\",\"\"))\n"
   ]
  },
  {
   "cell_type": "code",
   "execution_count": 35,
   "metadata": {},
   "outputs": [
    {
     "data": {
      "text/plain": [
       "count    15108.000000\n",
       "mean       429.378740\n",
       "std        886.166717\n",
       "min          1.000000\n",
       "25%         84.000000\n",
       "50%        250.000000\n",
       "75%        511.000000\n",
       "max      34309.000000\n",
       "Name: newdescription, dtype: float64"
      ]
     },
     "execution_count": 35,
     "metadata": {},
     "output_type": "execute_result"
    }
   ],
   "source": [
    "# Identify range of values in descriptions\n",
    "\n",
    "# Excluding empty descriptions so can see the statistics about length of descriptions\n",
    "df_descriptions_without_empty = df.drop(df[df[\"newdescription\"] == \"\"].index)\n",
    "\n",
    "# Identify range of values in descriptions\n",
    "df_descriptions_without_empty = df_descriptions_without_empty[\"newdescription\"].apply(lambda x: len(x))\n",
    "df_descriptions_without_empty.describe()\n"
   ]
  },
  {
   "cell_type": "code",
   "execution_count": 36,
   "metadata": {},
   "outputs": [
    {
     "data": {
      "text/html": [
       "<div>\n",
       "<style scoped>\n",
       "    .dataframe tbody tr th:only-of-type {\n",
       "        vertical-align: middle;\n",
       "    }\n",
       "\n",
       "    .dataframe tbody tr th {\n",
       "        vertical-align: top;\n",
       "    }\n",
       "\n",
       "    .dataframe thead th {\n",
       "        text-align: right;\n",
       "    }\n",
       "</style>\n",
       "<table border=\"1\" class=\"dataframe\">\n",
       "  <thead>\n",
       "    <tr style=\"text-align: right;\">\n",
       "      <th></th>\n",
       "      <th>description</th>\n",
       "      <th>asin</th>\n",
       "      <th>newdescription</th>\n",
       "      <th>characters_in_description</th>\n",
       "    </tr>\n",
       "  </thead>\n",
       "  <tbody>\n",
       "    <tr>\n",
       "      <th>0</th>\n",
       "      <td>[Loud 'N Clear Personal Sound Amplifier allows...</td>\n",
       "      <td>6546546450</td>\n",
       "      <td>Loud 'N Clear Personal Sound Amplifier allows ...</td>\n",
       "      <td>{,, ., '}</td>\n",
       "    </tr>\n",
       "    <tr>\n",
       "      <th>1</th>\n",
       "      <td>[No7 Lift &amp; Luminate Triple Action Serum 50ml ...</td>\n",
       "      <td>7178680776</td>\n",
       "      <td>No7 Lift &amp; Luminate Triple Action Serum 50ml b...</td>\n",
       "      <td>{&amp;}</td>\n",
       "    </tr>\n",
       "    <tr>\n",
       "      <th>2</th>\n",
       "      <td>[No7 Stay Perfect Foundation now stays perfect...</td>\n",
       "      <td>7250468162</td>\n",
       "      <td>No7 Stay Perfect Foundation now stays perfect ...</td>\n",
       "      <td>{!, ., -, ', ,, ;}</td>\n",
       "    </tr>\n",
       "    <tr>\n",
       "      <th>3</th>\n",
       "      <td>[]</td>\n",
       "      <td>7367905066</td>\n",
       "      <td></td>\n",
       "      <td>{}</td>\n",
       "    </tr>\n",
       "    <tr>\n",
       "      <th>4</th>\n",
       "      <td>[Lacto Calamine Skin Balance Daily Nourishing ...</td>\n",
       "      <td>7414204790</td>\n",
       "      <td>Lacto Calamine Skin Balance Daily Nourishing L...</td>\n",
       "      <td>{), -, (}</td>\n",
       "    </tr>\n",
       "    <tr>\n",
       "      <th>...</th>\n",
       "      <td>...</td>\n",
       "      <td>...</td>\n",
       "      <td>...</td>\n",
       "      <td>...</td>\n",
       "    </tr>\n",
       "    <tr>\n",
       "      <th>32887</th>\n",
       "      <td>[]</td>\n",
       "      <td>B01HIWLLUK</td>\n",
       "      <td></td>\n",
       "      <td>{}</td>\n",
       "    </tr>\n",
       "    <tr>\n",
       "      <th>32888</th>\n",
       "      <td>[]</td>\n",
       "      <td>B01HJ1K3YK</td>\n",
       "      <td></td>\n",
       "      <td>{}</td>\n",
       "    </tr>\n",
       "    <tr>\n",
       "      <th>32889</th>\n",
       "      <td>[]</td>\n",
       "      <td>B01HJ84SGM</td>\n",
       "      <td></td>\n",
       "      <td>{}</td>\n",
       "    </tr>\n",
       "    <tr>\n",
       "      <th>32890</th>\n",
       "      <td>[Brand new and high quality&lt;br&gt; Enables fast v...</td>\n",
       "      <td>B01HJASD20</td>\n",
       "      <td>Brand new and high quality&lt;br&gt; Enables fast vo...</td>\n",
       "      <td>{:, ), ., -, &lt;, &gt;, (}</td>\n",
       "    </tr>\n",
       "    <tr>\n",
       "      <th>32891</th>\n",
       "      <td>[]</td>\n",
       "      <td>B01HJEGTYK</td>\n",
       "      <td></td>\n",
       "      <td>{}</td>\n",
       "    </tr>\n",
       "  </tbody>\n",
       "</table>\n",
       "<p>32892 rows × 4 columns</p>\n",
       "</div>"
      ],
      "text/plain": [
       "                                             description        asin  \\\n",
       "0      [Loud 'N Clear Personal Sound Amplifier allows...  6546546450   \n",
       "1      [No7 Lift & Luminate Triple Action Serum 50ml ...  7178680776   \n",
       "2      [No7 Stay Perfect Foundation now stays perfect...  7250468162   \n",
       "3                                                     []  7367905066   \n",
       "4      [Lacto Calamine Skin Balance Daily Nourishing ...  7414204790   \n",
       "...                                                  ...         ...   \n",
       "32887                                                 []  B01HIWLLUK   \n",
       "32888                                                 []  B01HJ1K3YK   \n",
       "32889                                                 []  B01HJ84SGM   \n",
       "32890  [Brand new and high quality<br> Enables fast v...  B01HJASD20   \n",
       "32891                                                 []  B01HJEGTYK   \n",
       "\n",
       "                                          newdescription  \\\n",
       "0      Loud 'N Clear Personal Sound Amplifier allows ...   \n",
       "1      No7 Lift & Luminate Triple Action Serum 50ml b...   \n",
       "2      No7 Stay Perfect Foundation now stays perfect ...   \n",
       "3                                                          \n",
       "4      Lacto Calamine Skin Balance Daily Nourishing L...   \n",
       "...                                                  ...   \n",
       "32887                                                      \n",
       "32888                                                      \n",
       "32889                                                      \n",
       "32890  Brand new and high quality<br> Enables fast vo...   \n",
       "32891                                                      \n",
       "\n",
       "      characters_in_description  \n",
       "0                     {,, ., '}  \n",
       "1                           {&}  \n",
       "2            {!, ., -, ', ,, ;}  \n",
       "3                            {}  \n",
       "4                     {), -, (}  \n",
       "...                         ...  \n",
       "32887                        {}  \n",
       "32888                        {}  \n",
       "32889                        {}  \n",
       "32890     {:, ), ., -, <, >, (}  \n",
       "32891                        {}  \n",
       "\n",
       "[32892 rows x 4 columns]"
      ]
     },
     "execution_count": 36,
     "metadata": {},
     "output_type": "execute_result"
    }
   ],
   "source": [
    "# Check for innapropriate characters in description column\n",
    "\n",
    "# Check for non alphabetic or alphanumeric instances in description using Regex (in each description)\n",
    "df[\"characters_in_description\"] = df[\"newdescription\"].apply(lambda x: set(re.findall(r'[^A-Za-z0-9\\s]', x)))\n",
    "df\n"
   ]
  },
  {
   "cell_type": "code",
   "execution_count": 42,
   "metadata": {},
   "outputs": [
    {
     "name": "stdout",
     "output_type": "stream",
     "text": [
      "All unecessy characters in description column: {'/', '|', '.', ']', '-', '<', '[', '%', '^', '=', '!', '#', '$', '&', '\"', ',', '\\\\', ';', '~', ')', '+', \"'\", '>', '(', '?', '@', ':', '*', '_', '`', '{', '}'}\n"
     ]
    }
   ],
   "source": [
    "unnecessary_characters = set()\n",
    "for x in df[\"characters_in_description\"]:\n",
    "    unnecessary_characters = unnecessary_characters.union(x)\n",
    "print(\"All unecessy characters in description column:\", unnecessary_characters)"
   ]
  },
  {
   "cell_type": "code",
   "execution_count": 37,
   "metadata": {},
   "outputs": [
    {
     "data": {
      "text/plain": [
       "[('and', 33260),\n",
       " ('the', 26118),\n",
       " ('to', 19363),\n",
       " ('a', 16317),\n",
       " ('of', 15952),\n",
       " ('for', 12935),\n",
       " ('is', 11389),\n",
       " ('with', 10951),\n",
       " ('in', 9179),\n",
       " ('your', 9085),\n",
       " ('you', 6008),\n",
       " ('skin', 5348),\n",
       " ('or', 5324),\n",
       " ('that', 5148),\n",
       " ('on', 4552),\n",
       " ('The', 4460),\n",
       " ('are', 4154),\n",
       " ('it', 3666),\n",
       " ('<br>', 3513),\n",
       " ('hair', 3462),\n",
       " ('as', 3451),\n",
       " ('from', 3312),\n",
       " ('-', 3137),\n",
       " ('can', 2978),\n",
       " ('be', 2931),\n",
       " ('This', 2861),\n",
       " ('by', 2823),\n",
       " ('will', 2643),\n",
       " ('this', 2529),\n",
       " ('&', 2461),\n",
       " ('an', 2330),\n",
       " ('all', 2239),\n",
       " ('not', 2111),\n",
       " ('/>', 2075),\n",
       " ('natural', 1938),\n",
       " ('It', 1934),\n",
       " ('use', 1905),\n",
       " ('our', 1848),\n",
       " ('has', 1823),\n",
       " ('more', 1608),\n",
       " ('<br', 1598),\n",
       " ('have', 1510),\n",
       " ('any', 1467),\n",
       " ('A', 1442),\n",
       " ('<td', 1405),\n",
       " ('at', 1378),\n",
       " ('x', 1343),\n",
       " ('oil', 1323),\n",
       " ('up', 1304),\n",
       " ('skin.', 1262),\n",
       " ('For', 1261),\n",
       " ('1', 1234),\n",
       " ('product', 1232),\n",
       " ('also', 1223),\n",
       " ('body', 1216),\n",
       " ('used', 1190),\n",
       " ('which', 1183),\n",
       " ('color', 1178),\n",
       " ('one', 1166),\n",
       " ('help', 1127),\n",
       " ('while', 1112),\n",
       " ('its', 1091),\n",
       " ('perfect', 1065),\n",
       " ('products', 1023),\n",
       " ('when', 1021),\n",
       " ('formula', 1018),\n",
       " ('dry', 1005),\n",
       " ('quality', 1005),\n",
       " ('made', 1001),\n",
       " ('into', 999),\n",
       " ('most', 990),\n",
       " ('so', 975),\n",
       " ('2', 966),\n",
       " ('high', 944),\n",
       " ('no', 939),\n",
       " ('we', 933),\n",
       " ('other', 922),\n",
       " ('helps', 906),\n",
       " ('With', 906),\n",
       " ('Body', 870),\n",
       " ('without', 866),\n",
       " ('100%', 853),\n",
       " ('like', 851),\n",
       " ('best', 839),\n",
       " ('make', 836),\n",
       " ('easy', 833),\n",
       " ('out', 829),\n",
       " ('new', 824),\n",
       " ('designed', 821),\n",
       " ('Oil', 810),\n",
       " ('Hair', 799),\n",
       " ('smooth', 794),\n",
       " ('after', 794),\n",
       " ('soft', 787),\n",
       " ('over', 784),\n",
       " ('look', 778),\n",
       " ('Our', 777),\n",
       " ('even', 771),\n",
       " ('just', 762),\n",
       " ('great', 757)]"
      ]
     },
     "execution_count": 37,
     "metadata": {},
     "output_type": "execute_result"
    }
   ],
   "source": [
    "# Identify top words that come up in descriptions \n",
    "\n",
    "from collections import Counter\n",
    "Counter(\" \".join(df[\"newdescription\"]).split()).most_common(100)"
   ]
  },
  {
   "cell_type": "markdown",
   "metadata": {},
   "source": [
    "Large number of stopwords and characters identified. There are html tags used as well."
   ]
  },
  {
   "cell_type": "code",
   "execution_count": 11,
   "metadata": {},
   "outputs": [
    {
     "data": {
      "text/plain": [
       "count    32892.0\n",
       "mean        10.0\n",
       "std          0.0\n",
       "min         10.0\n",
       "25%         10.0\n",
       "50%         10.0\n",
       "75%         10.0\n",
       "max         10.0\n",
       "Name: asin, dtype: float64"
      ]
     },
     "execution_count": 11,
     "metadata": {},
     "output_type": "execute_result"
    }
   ],
   "source": [
    "# ASIN analysis\n",
    "\n",
    "asin = df[\"asin\"].apply(lambda x: len(x))\n",
    "\n",
    "# Check for lengths of asins\n",
    "asin.describe()     "
   ]
  },
  {
   "cell_type": "code",
   "execution_count": 46,
   "metadata": {},
   "outputs": [
    {
     "name": "stdout",
     "output_type": "stream",
     "text": [
      "There are no unecessy characters in asin column: set()\n"
     ]
    }
   ],
   "source": [
    "# Check for innapropriate characters in asin column\n",
    "\n",
    "import re\n",
    "\n",
    "# Check for non alphabetic(uppercase) or alphanumeric instances in the whole asin column using Regex\n",
    "df[\"characters_in_asin\"] = df[\"asin\"].apply(lambda x: set(re.findall(r'[^A-Z0-9\\s]', x)))\n",
    "\n",
    "unnecessary_asin_characters = set()\n",
    "for x in df[\"characters_in_asin\"]:\n",
    "    unnecessary_asin_characters = unnecessary_asin_characters.union(x)\n",
    "print(\"There are no unecessy characters in asin column:\", unnecessary_asin_characters)\n"
   ]
  }
 ],
 "metadata": {
  "kernelspec": {
   "display_name": "Python 3",
   "language": "python",
   "name": "python3"
  },
  "language_info": {
   "codemirror_mode": {
    "name": "ipython",
    "version": 3
   },
   "file_extension": ".py",
   "mimetype": "text/x-python",
   "name": "python",
   "nbconvert_exporter": "python",
   "pygments_lexer": "ipython3",
   "version": "3.11.8"
  }
 },
 "nbformat": 4,
 "nbformat_minor": 2
}
